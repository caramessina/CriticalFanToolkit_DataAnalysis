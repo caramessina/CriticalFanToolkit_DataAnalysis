{
 "cells": [
  {
   "cell_type": "markdown",
   "metadata": {},
   "source": [
    "# Preparing Fanfiction Data\n",
    "\n",
    "Cara Marta Messina <br/>\n",
    "Northeastern University<br/>\n",
    "messina [dot] c [at] husky [dot] neu [dot] edu\n",
    "\n",
    "This notebook takes data collected from <em>Archive of Our Own</em>, a popular fanfiction repository, and sets it up to be analyzed. The data was collected using [this AO3 python scraper](https://github.com/radiolarian/AO3Scraper). The corpus consists of <em>The Legend of Korra</em> and <em>Game of Thrones</em> fanfics, from the first one published on AO3 to 2019. Specifically, I am preparing the data to be analyzed using <strong>computatioanl temporal analysis methods</strong>, which focus on trends over time. Read more about this method in my article \"Tracing Fan Uptakes: Tagging, Language, and Ideological Practices in <em>The Legend of Korra</em> Fanfiction,\" to be published in <em>The Journal of Writing Analytics</em>. The code for this article is [published on my GitHub](https://github.com/caramessina/tracing_fan_uptakes).\n",
    "\n",
    "This notebook:\n",
    "- creates a 'month' column based on published dates of the fanfics\n",
    "- saves new datasets, reads them in, and merges them\n",
    "- preps the data by selecting only the columns of interest, including making sure there are no empty columns\n",
    "- groups each corpus by 'months'\n",
    "- saves the new corpora\n",
    "\n",
    "<em>This notebook is part of the Critical Fan Toolkit, Cara Marta Messina's public + digital dissertation</em>"
   ]
  },
  {
   "cell_type": "code",
   "execution_count": 1,
   "metadata": {},
   "outputs": [],
   "source": [
    "#pandas for working with dataframes\n",
    "import pandas as pd\n",
    "\n",
    "#regular expression library\n",
    "import re\n",
    "\n",
    "#numpy specifically works with numbers\n",
    "import numpy as np\n",
    "\n",
    "#matplot library creates visualizations\n",
    "import matplotlib.pyplot as plt\n",
    "%matplotlib inline\n",
    "\n",
    "#nltk libraries\n",
    "from nltk import word_tokenize\n",
    "from nltk.corpus import stopwords\n",
    "from nltk.stem.porter import *\n",
    "import string\n",
    "\n",
    "#for making a string of elements separated by commas into a list\n",
    "from nltk.tokenize.punkt import PunktSentenceTokenizer, PunktLanguageVars \n",
    "\n",
    "#has the nice counter feature for counting tags\n",
    "import collections\n",
    "from collections import Counter\n",
    "\n",
    "import warnings\n",
    "warnings.filterwarnings(\"ignore\")"
   ]
  },
  {
   "cell_type": "markdown",
   "metadata": {},
   "source": [
    "## Reading in & Prepping the Data\n",
    "\n",
    "I have to read in multiple CSVs of the same dataset (the Game of Thrones fanfics published on AO3) because the original CSV was almost 2GB and my Python kernels kept crashing. \n",
    "\n",
    "First I load in my CSVs. Then I have a function that goes through and replaces any empty bodies with just empty strings. I have also added a space after the end of each body string because if I merge all the bodies together in a groupby, I want there to be a space. \n",
    "\n",
    "Second, I have created a function that uses a regular expression to take the published dates information from one column, add another column, and input specific information into that column. The first column, the published date, is structured as 0000-00-00 (YEAR-MONTH-DATE). I want to just keep the month+year, so my new column has 0000-00 (YEAR-MONTH). \n",
    "\n",
    "Finally, I'm going to save my new CSVs!"
   ]
  },
  {
   "cell_type": "code",
   "execution_count": 2,
   "metadata": {},
   "outputs": [],
   "source": [
    "korra = pd.read_csv('./data/allkorra.csv')"
   ]
  },
  {
   "cell_type": "code",
   "execution_count": 3,
   "metadata": {},
   "outputs": [
    {
     "data": {
      "text/html": [
       "<div>\n",
       "<style scoped>\n",
       "    .dataframe tbody tr th:only-of-type {\n",
       "        vertical-align: middle;\n",
       "    }\n",
       "\n",
       "    .dataframe tbody tr th {\n",
       "        vertical-align: top;\n",
       "    }\n",
       "\n",
       "    .dataframe thead th {\n",
       "        text-align: right;\n",
       "    }\n",
       "</style>\n",
       "<table border=\"1\" class=\"dataframe\">\n",
       "  <thead>\n",
       "    <tr style=\"text-align: right;\">\n",
       "      <th></th>\n",
       "      <th>Unnamed: 0</th>\n",
       "      <th>work_id</th>\n",
       "      <th>title</th>\n",
       "      <th>rating</th>\n",
       "      <th>category</th>\n",
       "      <th>fandom</th>\n",
       "      <th>relationship</th>\n",
       "      <th>character</th>\n",
       "      <th>additional tags</th>\n",
       "      <th>language</th>\n",
       "      <th>...</th>\n",
       "      <th>status</th>\n",
       "      <th>status date</th>\n",
       "      <th>words</th>\n",
       "      <th>chapters</th>\n",
       "      <th>comments</th>\n",
       "      <th>kudos</th>\n",
       "      <th>bookmarks</th>\n",
       "      <th>hits</th>\n",
       "      <th>body</th>\n",
       "      <th>month</th>\n",
       "    </tr>\n",
       "  </thead>\n",
       "  <tbody>\n",
       "    <tr>\n",
       "      <th>0</th>\n",
       "      <td>0</td>\n",
       "      <td>6388009</td>\n",
       "      <td>A More Perfect Union</td>\n",
       "      <td>General Audiences</td>\n",
       "      <td>Gen</td>\n",
       "      <td>Avatar: Legend of Korra</td>\n",
       "      <td>NaN</td>\n",
       "      <td>Noatak (Avatar), Tarrlok (Avatar), Amon (Avatar)</td>\n",
       "      <td>Alternate Universe</td>\n",
       "      <td>English</td>\n",
       "      <td>...</td>\n",
       "      <td>Updated</td>\n",
       "      <td>2018-03-14</td>\n",
       "      <td>8139</td>\n",
       "      <td>4/?</td>\n",
       "      <td>11.0</td>\n",
       "      <td>27.0</td>\n",
       "      <td>4.0</td>\n",
       "      <td>286.0</td>\n",
       "      <td>He's forgotten how to be warm. The thought wou...</td>\n",
       "      <td>2016-03</td>\n",
       "    </tr>\n",
       "    <tr>\n",
       "      <th>1</th>\n",
       "      <td>1</td>\n",
       "      <td>13974048</td>\n",
       "      <td>let go</td>\n",
       "      <td>Teen And Up Audiences</td>\n",
       "      <td>F/F</td>\n",
       "      <td>Avatar: Legend of Korra</td>\n",
       "      <td>Lin Beifong/Korra</td>\n",
       "      <td>Korra (Avatar), Lin Beifong</td>\n",
       "      <td>just a quick one-shot i never posted properly,...</td>\n",
       "      <td>English</td>\n",
       "      <td>...</td>\n",
       "      <td>Completed</td>\n",
       "      <td>2018-03-14</td>\n",
       "      <td>996</td>\n",
       "      <td>1/1</td>\n",
       "      <td>NaN</td>\n",
       "      <td>NaN</td>\n",
       "      <td>NaN</td>\n",
       "      <td>41.0</td>\n",
       "      <td>\"Korra.\" Somewhere distant.  Someone holding h...</td>\n",
       "      <td>2018-03</td>\n",
       "    </tr>\n",
       "  </tbody>\n",
       "</table>\n",
       "<p>2 rows × 21 columns</p>\n",
       "</div>"
      ],
      "text/plain": [
       "   Unnamed: 0   work_id                 title                 rating category  \\\n",
       "0           0   6388009  A More Perfect Union      General Audiences      Gen   \n",
       "1           1  13974048                let go  Teen And Up Audiences      F/F   \n",
       "\n",
       "                    fandom       relationship  \\\n",
       "0  Avatar: Legend of Korra                NaN   \n",
       "1  Avatar: Legend of Korra  Lin Beifong/Korra   \n",
       "\n",
       "                                          character  \\\n",
       "0  Noatak (Avatar), Tarrlok (Avatar), Amon (Avatar)   \n",
       "1                       Korra (Avatar), Lin Beifong   \n",
       "\n",
       "                                     additional tags language  ...     status  \\\n",
       "0                                 Alternate Universe  English  ...    Updated   \n",
       "1  just a quick one-shot i never posted properly,...  English  ...  Completed   \n",
       "\n",
       "  status date words  chapters comments  kudos  bookmarks   hits  \\\n",
       "0  2018-03-14  8139       4/?     11.0   27.0        4.0  286.0   \n",
       "1  2018-03-14   996       1/1      NaN    NaN        NaN   41.0   \n",
       "\n",
       "                                                body    month  \n",
       "0  He's forgotten how to be warm. The thought wou...  2016-03  \n",
       "1  \"Korra.\" Somewhere distant.  Someone holding h...  2018-03  \n",
       "\n",
       "[2 rows x 21 columns]"
      ]
     },
     "execution_count": 3,
     "metadata": {},
     "output_type": "execute_result"
    }
   ],
   "source": [
    "korra[:2]"
   ]
  },
  {
   "cell_type": "code",
   "execution_count": null,
   "metadata": {},
   "outputs": [],
   "source": [
    "got = pd.read_csv('./data/got_data_original/got0.csv')\n",
    "got1 = pd.read_csv('./data/got_data_original/got1.csv')\n",
    "got2 = pd.read_csv('./data/got_data_original/got2.csv')\n",
    "got3 = pd.read_csv('./data/got_data_original/got3.csv')"
   ]
  },
  {
   "cell_type": "code",
   "execution_count": null,
   "metadata": {},
   "outputs": [],
   "source": [
    "merged_got = pd.concat([got, got1, got2, got3])\n",
    "merged_got.count()"
   ]
  },
  {
   "cell_type": "markdown",
   "metadata": {},
   "source": [
    "#### Replacing Empty Columns\n",
    "\n",
    "I only need to do this with the GoT fanfics because I've already done it with TLoK fanfics.\n",
    "\n",
    "This is to prevent future errors with potentially empty variables. "
   ]
  },
  {
   "cell_type": "code",
   "execution_count": 5,
   "metadata": {},
   "outputs": [],
   "source": [
    "def prepare_columns(df):\n",
    "    '''\n",
    "    Description: Takes a dataframe collected from AO3 (so the column names are the same).\n",
    "    Prepares them to be grouped by:\n",
    "    -lowercasing all the letters\n",
    "    -adding new lines/columns after particular columns\n",
    "    -replaces NAN values with an empty slot \n",
    "    \n",
    "    Input: A dataframe from AO3 with the same column names\n",
    "    Output: A similar dataframe, except the words are lower-cased and there are commas or newlines after particular columns\n",
    "    '''\n",
    "    \n",
    "    #creating a new dataframe in case I accidentally run this cell multiple times; then there would be multiple commas.\n",
    "    newDF = df\n",
    "\n",
    "    # make all the text lowercased. The \"applymap\" function applies a function to each element in a df.\n",
    "    newDF = newDF[['work_id','title','published', 'rating', 'character','relationship','additional tags','category','body']]\n",
    "    newDF = newDF.applymap(lambda s:s.lower() if type(s) == str else s)\n",
    "\n",
    "    #adding a new line after each \"body\" column\n",
    "    newDF['body'] = (newDF['body'] + ' ')\n",
    "    newDF['body'] = newDF['body'].replace(np.nan,'',regex=True)\n",
    "    newDF.dropna(how='all')\n",
    "\n",
    "    #adding commas after the ratings, relationship, and additional tags columns to make sure they are separated properly\n",
    "    newDF['rating'] = (newDF['rating'] + ', ')\n",
    "    newDF['rating'] = newDF['rating'].replace(np.nan,'',regex=True)\n",
    "    newDF['title'] = (newDF['title'] + ', ')\n",
    "    newDF['title'] = newDF['title'].replace(np.nan,'',regex=True)\n",
    "    newDF['character'] = (newDF['character'] + ', ')\n",
    "    newDF['character'] = newDF['character'].replace(np.nan,'',regex=True)\n",
    "    newDF['relationship'] = (newDF['relationship'] + ', ')\n",
    "    newDF['relationship'] = newDF['relationship'].replace(np.nan,'',regex=True)\n",
    "    newDF['additional tags'] = (newDF['additional tags'] + ', ')\n",
    "    newDF['additional tags'] = newDF['additional tags'].replace(np.nan,'',regex=True)\n",
    "    newDF['category'] = (newDF['category'] + ', ')\n",
    "    newDF['category'] = newDF['category'].replace(np.nan,'',regex=True)\n",
    "\n",
    "    \n",
    "    return newDF"
   ]
  },
  {
   "cell_type": "code",
   "execution_count": 6,
   "metadata": {},
   "outputs": [
    {
     "data": {
      "text/html": [
       "<div>\n",
       "<style scoped>\n",
       "    .dataframe tbody tr th:only-of-type {\n",
       "        vertical-align: middle;\n",
       "    }\n",
       "\n",
       "    .dataframe tbody tr th {\n",
       "        vertical-align: top;\n",
       "    }\n",
       "\n",
       "    .dataframe thead th {\n",
       "        text-align: right;\n",
       "    }\n",
       "</style>\n",
       "<table border=\"1\" class=\"dataframe\">\n",
       "  <thead>\n",
       "    <tr style=\"text-align: right;\">\n",
       "      <th></th>\n",
       "      <th>work_id</th>\n",
       "      <th>title</th>\n",
       "      <th>published</th>\n",
       "      <th>rating</th>\n",
       "      <th>character</th>\n",
       "      <th>relationship</th>\n",
       "      <th>additional tags</th>\n",
       "      <th>category</th>\n",
       "      <th>body</th>\n",
       "    </tr>\n",
       "  </thead>\n",
       "  <tbody>\n",
       "    <tr>\n",
       "      <th>0</th>\n",
       "      <td>6388009</td>\n",
       "      <td>a more perfect union,</td>\n",
       "      <td>2016-03-28</td>\n",
       "      <td>general audiences,</td>\n",
       "      <td>noatak (avatar), tarrlok (avatar), amon (avata...</td>\n",
       "      <td></td>\n",
       "      <td>alternate universe,</td>\n",
       "      <td>gen,</td>\n",
       "      <td>he's forgotten how to be warm. the thought wou...</td>\n",
       "    </tr>\n",
       "  </tbody>\n",
       "</table>\n",
       "</div>"
      ],
      "text/plain": [
       "   work_id                   title   published               rating  \\\n",
       "0  6388009  a more perfect union,   2016-03-28  general audiences,    \n",
       "\n",
       "                                           character relationship  \\\n",
       "0  noatak (avatar), tarrlok (avatar), amon (avata...                \n",
       "\n",
       "        additional tags category  \\\n",
       "0  alternate universe,     gen,    \n",
       "\n",
       "                                                body  \n",
       "0  he's forgotten how to be warm. the thought wou...  "
      ]
     },
     "execution_count": 6,
     "metadata": {},
     "output_type": "execute_result"
    }
   ],
   "source": [
    "tlok_prepped = prepare_columns(korra)\n",
    "tlok_prepped[:1]"
   ]
  },
  {
   "cell_type": "code",
   "execution_count": null,
   "metadata": {},
   "outputs": [],
   "source": [
    "got_prepped = prepare_columns(got)\n",
    "got1_prepped = prepare_columns(got1)\n",
    "got2_prepped = prepare_columns(got2)\n",
    "got3_prepped = prepare_columns(got3)"
   ]
  },
  {
   "cell_type": "code",
   "execution_count": null,
   "metadata": {},
   "outputs": [],
   "source": [
    "got_prepped[:2]"
   ]
  },
  {
   "cell_type": "markdown",
   "metadata": {},
   "source": [
    "#### Adding Month Column\n",
    "\n",
    "Again, I've already done this with the TLoK fanfics, so I only need to do it for the GoT ones."
   ]
  },
  {
   "cell_type": "code",
   "execution_count": 7,
   "metadata": {},
   "outputs": [],
   "source": [
    "def add_month_column(df, newcolumn, originalcolumn):\n",
    "    '''\n",
    "    Description: Takes a column that specifically usess the style 2000-11-22 (date) and adds a new column with 0000-00 (year + month)\n",
    "    \n",
    "    Input: dataframe with a column structure like 0000-11-22\n",
    "    Output: same dataframe with a new column with the addition of 0000-11 (year + month in this case)\n",
    "    '''\n",
    "    #using a regular expression to create a \"month\" column\n",
    "    df[newcolumn] = df[originalcolumn].replace('(\\d{4})(\\-)(\\d{2})(\\-)(\\d{2})','\\g<1>\\g<2>\\g<3>', regex=True)\n",
    "    \n",
    "    return df"
   ]
  },
  {
   "cell_type": "code",
   "execution_count": 8,
   "metadata": {},
   "outputs": [
    {
     "data": {
      "text/html": [
       "<div>\n",
       "<style scoped>\n",
       "    .dataframe tbody tr th:only-of-type {\n",
       "        vertical-align: middle;\n",
       "    }\n",
       "\n",
       "    .dataframe tbody tr th {\n",
       "        vertical-align: top;\n",
       "    }\n",
       "\n",
       "    .dataframe thead th {\n",
       "        text-align: right;\n",
       "    }\n",
       "</style>\n",
       "<table border=\"1\" class=\"dataframe\">\n",
       "  <thead>\n",
       "    <tr style=\"text-align: right;\">\n",
       "      <th></th>\n",
       "      <th>work_id</th>\n",
       "      <th>title</th>\n",
       "      <th>published</th>\n",
       "      <th>rating</th>\n",
       "      <th>character</th>\n",
       "      <th>relationship</th>\n",
       "      <th>additional tags</th>\n",
       "      <th>category</th>\n",
       "      <th>body</th>\n",
       "      <th>month</th>\n",
       "    </tr>\n",
       "  </thead>\n",
       "  <tbody>\n",
       "    <tr>\n",
       "      <th>0</th>\n",
       "      <td>6388009</td>\n",
       "      <td>a more perfect union,</td>\n",
       "      <td>2016-03-28</td>\n",
       "      <td>general audiences,</td>\n",
       "      <td>noatak (avatar), tarrlok (avatar), amon (avata...</td>\n",
       "      <td></td>\n",
       "      <td>alternate universe,</td>\n",
       "      <td>gen,</td>\n",
       "      <td>he's forgotten how to be warm. the thought wou...</td>\n",
       "      <td>2016-03</td>\n",
       "    </tr>\n",
       "    <tr>\n",
       "      <th>1</th>\n",
       "      <td>13974048</td>\n",
       "      <td>let go,</td>\n",
       "      <td>2018-03-14</td>\n",
       "      <td>teen and up audiences,</td>\n",
       "      <td>korra (avatar), lin beifong,</td>\n",
       "      <td>lin beifong/korra,</td>\n",
       "      <td>just a quick one-shot i never posted properly,...</td>\n",
       "      <td>f/f,</td>\n",
       "      <td>\"korra.\" somewhere distant.  someone holding h...</td>\n",
       "      <td>2018-03</td>\n",
       "    </tr>\n",
       "  </tbody>\n",
       "</table>\n",
       "</div>"
      ],
      "text/plain": [
       "    work_id                   title   published                   rating  \\\n",
       "0   6388009  a more perfect union,   2016-03-28      general audiences,    \n",
       "1  13974048                let go,   2018-03-14  teen and up audiences,    \n",
       "\n",
       "                                           character         relationship  \\\n",
       "0  noatak (avatar), tarrlok (avatar), amon (avata...                        \n",
       "1                      korra (avatar), lin beifong,   lin beifong/korra,    \n",
       "\n",
       "                                     additional tags category  \\\n",
       "0                               alternate universe,     gen,    \n",
       "1  just a quick one-shot i never posted properly,...    f/f,    \n",
       "\n",
       "                                                body    month  \n",
       "0  he's forgotten how to be warm. the thought wou...  2016-03  \n",
       "1  \"korra.\" somewhere distant.  someone holding h...  2018-03  "
      ]
     },
     "execution_count": 8,
     "metadata": {},
     "output_type": "execute_result"
    }
   ],
   "source": [
    "tlok_new = add_month_column(tlok_prepped,'month','published')\n",
    "tlok_new.head(2)"
   ]
  },
  {
   "cell_type": "code",
   "execution_count": 10,
   "metadata": {},
   "outputs": [
    {
     "data": {
      "text/html": [
       "<div>\n",
       "<style scoped>\n",
       "    .dataframe tbody tr th:only-of-type {\n",
       "        vertical-align: middle;\n",
       "    }\n",
       "\n",
       "    .dataframe tbody tr th {\n",
       "        vertical-align: top;\n",
       "    }\n",
       "\n",
       "    .dataframe thead th {\n",
       "        text-align: right;\n",
       "    }\n",
       "</style>\n",
       "<table border=\"1\" class=\"dataframe\">\n",
       "  <thead>\n",
       "    <tr style=\"text-align: right;\">\n",
       "      <th></th>\n",
       "      <th>work_id</th>\n",
       "      <th>title</th>\n",
       "      <th>published</th>\n",
       "      <th>rating</th>\n",
       "      <th>character</th>\n",
       "      <th>relationship</th>\n",
       "      <th>additional tags</th>\n",
       "      <th>category</th>\n",
       "      <th>month</th>\n",
       "    </tr>\n",
       "  </thead>\n",
       "  <tbody>\n",
       "    <tr>\n",
       "      <th>0</th>\n",
       "      <td>6388009</td>\n",
       "      <td>a more perfect union,</td>\n",
       "      <td>2016-03-28</td>\n",
       "      <td>general audiences,</td>\n",
       "      <td>noatak (avatar), tarrlok (avatar), amon (avata...</td>\n",
       "      <td></td>\n",
       "      <td>alternate universe,</td>\n",
       "      <td>gen,</td>\n",
       "      <td>2016-03</td>\n",
       "    </tr>\n",
       "  </tbody>\n",
       "</table>\n",
       "</div>"
      ],
      "text/plain": [
       "   work_id                   title   published               rating  \\\n",
       "0  6388009  a more perfect union,   2016-03-28  general audiences,    \n",
       "\n",
       "                                           character relationship  \\\n",
       "0  noatak (avatar), tarrlok (avatar), amon (avata...                \n",
       "\n",
       "        additional tags category    month  \n",
       "0  alternate universe,     gen,   2016-03  "
      ]
     },
     "execution_count": 10,
     "metadata": {},
     "output_type": "execute_result"
    }
   ],
   "source": [
    "#creating metadata CSV\n",
    "tlok_new_metadata = tlok_new.drop(columns=\"body\")\n",
    "tlok_new_metadata[:1]"
   ]
  },
  {
   "cell_type": "code",
   "execution_count": null,
   "metadata": {},
   "outputs": [],
   "source": [
    "got_new = add_month_column(got_prepped, 'month','published')\n",
    "got1_new = add_month_column(got1_prepped, 'month','published')\n",
    "got2_new = add_month_column(got2_prepped, 'month','published')\n",
    "got3_new = add_month_column(got3_prepped, 'month','published')"
   ]
  },
  {
   "cell_type": "code",
   "execution_count": null,
   "metadata": {
    "scrolled": true
   },
   "outputs": [],
   "source": [
    "#checking that the month columb has been added\n",
    "got_new[:2]"
   ]
  },
  {
   "cell_type": "markdown",
   "metadata": {},
   "source": [
    "#### Saving!\n",
    "\n",
    "Let's save the new dataframes as CSVs so I can use them! They are commented out, though, so I don't accidentally run it again. I am saving them with the same name as the original CSVs. This is not a great practice, because you want to save all steps of your data in case something happens. However, I have the data already saved on an external file, so I would prefer not to save the same data over and over on my harddrive."
   ]
  },
  {
   "cell_type": "code",
   "execution_count": 11,
   "metadata": {},
   "outputs": [],
   "source": [
    "tlok_new_metadata.to_csv(r'./data/metadata/TLoK/tlok_metadata_all.csv')"
   ]
  },
  {
   "cell_type": "code",
   "execution_count": null,
   "metadata": {},
   "outputs": [],
   "source": [
    "got_new.to_csv(r'./data/got_data_clean/got0.csv')\n",
    "got1_new.to_csv(r'./data/got_data_clean/got1.csv')\n",
    "got2_new.to_csv(r'./data/got_data_clean/got2.csv')\n",
    "got3_new.to_csv(r'./data/got_data_clean/got3.csv')"
   ]
  },
  {
   "cell_type": "markdown",
   "metadata": {},
   "source": [
    "## Merging Dataframes\n",
    "\n",
    "While it may seem counterintiative to read in a bunch of split dataframes and then merge them again, the one large csv kept crashing my python. This means, I will probably need to keep all the CSVs separate when I load them in, and then merge them each time in my notebook. However, it seems to have worked."
   ]
  },
  {
   "cell_type": "code",
   "execution_count": null,
   "metadata": {},
   "outputs": [],
   "source": [
    "#loading these in so I no longer have to run all the code above to access these\n",
    "got0New = pd.read_csv('./data/got_data_clean/got0.csv')\n",
    "got1New = pd.read_csv('./data/got_data_clean/got1.csv')\n",
    "got2New = pd.read_csv('./data/got_data_clean/got2.csv')\n",
    "got3New = pd.read_csv('./data/got_data_clean/got3.csv')\n",
    "\n",
    "merged_got1 = pd.concat([got0New, got1New, got2New, got3New])"
   ]
  },
  {
   "cell_type": "code",
   "execution_count": null,
   "metadata": {},
   "outputs": [],
   "source": [
    "got_metadata = merged_got1.drop(['body'], axis=1)\n",
    "got_metadata.head(1)"
   ]
  },
  {
   "cell_type": "code",
   "execution_count": null,
   "metadata": {},
   "outputs": [],
   "source": [
    "got_textual = merged_got[['work_id','body']]\n",
    "got_textual.head(4)"
   ]
  },
  {
   "cell_type": "code",
   "execution_count": null,
   "metadata": {},
   "outputs": [],
   "source": [
    "#saving the metadata files and body of text files\n",
    "\n",
    "got_textual.to_csv(r'./data/got_data_clean/got_body.csv')\n",
    "got_metadata.to_csv(r'./data/got_data_clean/got_metadata.csv')"
   ]
  },
  {
   "cell_type": "markdown",
   "metadata": {},
   "source": [
    "## Visualizing Month: Checking \n",
    "\n",
    "I wanted to just check what months the most fanfics were published in (and made a quick bar chart). This graph function can be used for a lot of datasets and is fairly easy."
   ]
  },
  {
   "cell_type": "code",
   "execution_count": null,
   "metadata": {},
   "outputs": [],
   "source": [
    "def viz_months(df, column, name_of_show):\n",
    "    '''\n",
    "    Description: This function takes a dataframe with a number column, counts the top 10 frequency in that column, and then visualizes it. I am specifically using this function for visualizing published dates of fanfictions, but the labels below can be changed.\n",
    "    \n",
    "    Input: the dataframe, the column that you want to count the highest values, and the name of the show\n",
    "    Output: the top 10 highest months published in that set & a cute graph\n",
    "    '''\n",
    "    monthcount = df[column].value_counts().head(10)\n",
    "    print(monthcount)\n",
    "\n",
    "    monthCountGraph = monthcount.plot.bar()\n",
    "    monthCountGraph = plt.title('Highest Months of Published Fanfics of '+name_of_show)\n",
    "    monthCountGraph = plt.xlabel('Month and Year')\n",
    "    monthCountGraph = plt.xlabel('Month and Year')"
   ]
  },
  {
   "cell_type": "code",
   "execution_count": null,
   "metadata": {},
   "outputs": [],
   "source": [
    "viz_months(merged_got, 'month', 'Game of Thrones')"
   ]
  },
  {
   "cell_type": "code",
   "execution_count": null,
   "metadata": {},
   "outputs": [],
   "source": [
    "viz_months(korra, 'month', 'The Legend of Korra')"
   ]
  },
  {
   "cell_type": "markdown",
   "metadata": {},
   "source": [
    "## Grouping By Month\n",
    "\n",
    "Next, I will demonstrate how I prepared the data for computational temporal analysis, or tracing trends over time. I use two corpora: <em>The Legend of Korra</em> and <em>Game of Thrones</em> fanfiction published on [Archive of Our Own](https://archiveofourown.org/). This notebook will work with four different columns with textual data: the \"relationship\" tags column , the \"additional tags\" column, the \"categories\" column which provides the gender of particular relationships (such as M/M, F/F, M/F, etc), and the \"body\" which contains the entire text for each fanfic.\n",
    "\n",
    "Since I do not need to load in the data again, I will just show the beginning of the data files. Next, I wil need to define my functions."
   ]
  },
  {
   "cell_type": "code",
   "execution_count": null,
   "metadata": {},
   "outputs": [],
   "source": [
    "def prepare_columns_for_groupby(df):\n",
    "    '''\n",
    "    Takes a dataframe collected from AO3 (so the column names are the same) and prepares them to be grouped by lowercasing all the letters and adding new lines/columns after particular columns.\n",
    "    \n",
    "    Input: A dataframe from AO3 with the same column names\n",
    "    Output: A similar dataframe, except the words are lower-cased and there are commas or newlines after particular columns\n",
    "    '''\n",
    "    \n",
    "    #creating a new dataframe in case I accidentally run this cell multiple times; then there would be multiple commas.\n",
    "    newDF = df\n",
    "\n",
    "    # make all the text lowercased. The \"applymap\" function applies a function to each element in a df.\n",
    "    newDF = newDF.applymap(lambda s:s.lower() if type(s) == str else s)\n",
    "    newDF = newDF[['published','rating','relationship','additional tags','character','category','month','body']]\n",
    "\n",
    "    #adding a new line after each \"body\" column\n",
    "    newDF['body'] = (newDF['body'])\n",
    "    newDF['body'] = newDF['body'].replace(np.nan,'',regex=True)\n",
    "    newDF.dropna(how='all')\n",
    "\n",
    "    #adding commas after the ratings, relationship, and additional tags columns to make sure they are separated properly\n",
    "    newDF['rating'] = (newDF['rating'])\n",
    "    newDF['rating'] = newDF['rating'].replace(np.nan,'',regex=True)\n",
    "    newDF['relationship'] = (newDF['relationship'])\n",
    "    newDF['relationship'] = newDF['relationship'].replace(np.nan,'',regex=True)\n",
    "    newDF['character'] = (newDF['character'])\n",
    "    newDF['character'] = newDF['character'].replace(np.nan,'',regex=True)\n",
    "    newDF['additional tags'] = (newDF['additional tags'])\n",
    "    newDF['additional tags'] = newDF['additional tags'].replace(np.nan,'',regex=True)\n",
    "    newDF['category'] = (newDF['category'])\n",
    "    newDF['category'] = newDF['category'].replace(np.nan,'',regex=True)\n",
    "    \n",
    "    #make publsihed dates into readable dates\n",
    "    newDF['published'] = pd.to_datetime(newDF['published'])\n",
    "\n",
    "    \n",
    "    return newDF"
   ]
  },
  {
   "cell_type": "code",
   "execution_count": null,
   "metadata": {},
   "outputs": [],
   "source": [
    "def group_by(df):\n",
    "    '''\n",
    "    This function will group a dataframe by the 'month' column. This can also be used in a later function to group by particular months.\n",
    "    \n",
    "    Input: a pandas dataframe and the column you want to groupby with\n",
    "    \n",
    "    Output: a new dataframe with the month as the index\n",
    "    '''\n",
    "    #first, group a dataframe by months and count. This will create a list of how many rows for each month.\n",
    "    month_count = df.groupby('month').count()\n",
    "    \n",
    "    #in the new dataframe, use a column that has been counted and rename it 'Count'\n",
    "    month_count['count'] = month_count['relationship']\n",
    "    month_count_new = month_count['count']\n",
    "    \n",
    "    #create another new dataframe that aggregrates all the proper columns\n",
    "    new_group = df.groupby('month').agg({'rating':'sum','additional tags':'sum','category':'sum','character':'sum','relationship':'sum','body':'sum'})\n",
    "    \n",
    "    #join both dataframes to include the count & make it ascending to the earliest FFs are on top\n",
    "    join_df = pd.concat([new_group, month_count_new], axis=1)\n",
    "    join_df.sort_index(ascending=True)\n",
    "    \n",
    "    return join_df"
   ]
  },
  {
   "cell_type": "markdown",
   "metadata": {},
   "source": [
    "### <em> The Legend of Korra</em> Group By Month\n",
    "\n",
    "Before I group the dataframe, I want to first prepare my data.\n",
    "\n",
    "The steps to do this are:\n",
    " - make sure I'm adding a new line or a comma after particular data so that it is lists/separated properly\n",
    " - make sure all the text is lower-cased to avoid capitalization inconsitencies"
   ]
  },
  {
   "cell_type": "code",
   "execution_count": null,
   "metadata": {},
   "outputs": [],
   "source": [
    "allkorra_prepped = prepare_columns_for_groupby(tlok_new)\n",
    "allkorra_prepped.head(2)"
   ]
  },
  {
   "cell_type": "code",
   "execution_count": null,
   "metadata": {},
   "outputs": [],
   "source": [
    "allkorra_month = group_by(allkorra_prepped)\n",
    "allkorra_month.head(5)"
   ]
  },
  {
   "cell_type": "code",
   "execution_count": null,
   "metadata": {},
   "outputs": [],
   "source": [
    "#save the new dataframe to be used later (commenting out so I don't resave)\n",
    "\n",
    "allkorra_month.to_csv(r'./data/group_month/allkorra_months.csv')"
   ]
  },
  {
   "cell_type": "markdown",
   "metadata": {},
   "source": [
    "### <em>Game of Thrones</em> Group By Month\n",
    "\n",
    "Before I group the dataframe, I want to first prepare my data.\n",
    "\n",
    "The steps to do this are:\n",
    " - make sure I'm adding a new line or a comma after particular data so that it is lists/separated properly\n",
    " - make sure all the text is lower-cased to avoid capitalization inconsitencies\n",
    " \n",
    "I am currently saving the dataframe as one .csv, but then I will use a [csv splitter created by Jordi Rivero](https://gist.github.com/jrivero/1085501). This way, I can upload the split csv without killing my kernels. "
   ]
  },
  {
   "cell_type": "code",
   "execution_count": null,
   "metadata": {},
   "outputs": [],
   "source": [
    "allgot_prepped = prepare_columns_for_groupby(got_new)\n",
    "allgot_prepped.head(2)"
   ]
  },
  {
   "cell_type": "code",
   "execution_count": null,
   "metadata": {},
   "outputs": [],
   "source": [
    "allgot_months = group_by(allgot_prepped)"
   ]
  },
  {
   "cell_type": "code",
   "execution_count": null,
   "metadata": {},
   "outputs": [],
   "source": [
    "#making individual dataframes for each season \n",
    "\n",
    "#Season 1: Beginning of data to March 2012 (Season 2 airs April 1st, 2012)\n",
    "gots1 = allgot_months.loc['2007-02':'2012-03']\n",
    "\n",
    "#Season 2: April 2012-March 2013 (season 3 airs March 31, 2013)\n",
    "gots2 = allgot_months.loc['2012-04':'2013-03']\n",
    "\n",
    "#Season 3: April 2013-March 2014 (season 4 airs April 6, 2014)\n",
    "gots3 = allgot_months.loc['2013-04':'2014-03']\n",
    "\n",
    "#Season 4: April 2014 to March 2015 (season 5 airs April 12, 2015)\n",
    "gots4 = allgot_months.loc['2014-04':'2015-03']\n",
    "\n",
    "#Season 5: April 2015-March 2016 (season 6 airs April 24, 2016)\n",
    "gots5 = allgot_months.loc['2015-04':'2016-03']\n",
    "\n",
    "#Season 6: April 2016-June 2017 (season 7 airs July 16, 2017)\n",
    "gots6 = allgot_months.loc['2016-04':'2017-06']\n",
    "\n",
    "#Season 7: July 2017-March 2019 (season 8 airs April 14, 2019)\n",
    "gots7 = allgot_months.loc['2017-07':'2019-03']\n",
    "\n",
    "#Season 8: April 2019-end of data\n",
    "gots8 = allgot_months.loc['2019-04':'2019-09']\n",
    "\n",
    "# allgot_prepped.to_csv(r'./data/group_month/allgot_months.csv')"
   ]
  },
  {
   "cell_type": "code",
   "execution_count": null,
   "metadata": {},
   "outputs": [],
   "source": [
    "gots8"
   ]
  },
  {
   "cell_type": "code",
   "execution_count": null,
   "metadata": {},
   "outputs": [],
   "source": [
    "# save data\n",
    "\n",
    "gots1.to_csv(r'./data/group_month/got_s1.csv')\n",
    "gots2.to_csv(r'./data/group_month/got_s2.csv')\n",
    "gots3.to_csv(r'./data/group_month/got_s3.csv')\n",
    "gots4.to_csv(r'./data/group_month/got_s4.csv')\n",
    "gots5.to_csv(r'./data/group_month/got_s5.csv')\n",
    "gots6.to_csv(r'./data/group_month/got_s6.csv')\n",
    "gots7.to_csv(r'./data/group_month/got_s7.csv')\n",
    "gots8.to_csv(r'./data/group_month/got_s8.csv')"
   ]
  },
  {
   "cell_type": "markdown",
   "metadata": {},
   "source": [
    "### Reloading!\n",
    "\n",
    "I am adding another cell here that reloads this data in so I do not have to do it again"
   ]
  },
  {
   "cell_type": "code",
   "execution_count": 7,
   "metadata": {},
   "outputs": [],
   "source": [
    "gots1 = pd.read_csv(r'./data/group_month/got_s1.csv')\n",
    "gots2 = pd.read_csv(r'./data/group_month/got_s2.csv')\n",
    "gots3 = pd.read_csv(r'./data/group_month/got_s3.csv')\n",
    "gots4 = pd.read_csv(r'./data/group_month/got_s4.csv')\n",
    "gots5 = pd.read_csv(r'./data/group_month/got_s5.csv')\n",
    "gots6 = pd.read_csv(r'./data/group_month/got_s6.csv')\n",
    "gots7 = pd.read_csv(r'./data/group_month/got_s7.csv')\n",
    "gots8 = pd.read_csv(r'./data/group_month/got_s8.csv')"
   ]
  },
  {
   "cell_type": "code",
   "execution_count": 24,
   "metadata": {},
   "outputs": [],
   "source": [
    "allkorra_month = pd.read_csv(r'./data/group_month/allkorra_months.csv').set_index('month')\n",
    "allkorra_month = allkorra_month.loc['2011-02':'2015-07']\n",
    "\n",
    "#preKorrasami\n",
    "tlok01 = allkorra_month.loc['2011-02':'2014-05']\n",
    "\n",
    "#subtextual Korrasami\n",
    "tlok02 = allkorra_month.loc['2014-06':'2014-11']\n",
    "\n",
    "#postKorrasami\n",
    "tlok03 = allkorra_month.loc['2014-12':'2015-07']"
   ]
  },
  {
   "cell_type": "markdown",
   "metadata": {},
   "source": [
    "## Metadata Count\n",
    "For this new data I want to create, I want to create a few different dataframes:\n",
    "\n",
    "### TLoK\n",
    "- relationships\n",
    "- relationship categories\n",
    "- character count\n",
    "- additional tags\n",
    "- rating\n",
    "\n",
    "### GoT\n",
    "- relationships\n",
    "- relationship categories\n",
    "- character count\n",
    "- additional tags\n",
    "- rating\n"
   ]
  },
  {
   "cell_type": "code",
   "execution_count": 25,
   "metadata": {},
   "outputs": [],
   "source": [
    "def column_to_list(df,columnName):\n",
    "    '''\n",
    "    this function takes all the information from a specific column, joins it to a string, and then tokenizes & cleans that string.\n",
    "    input: the name of the dataframe and the column name\n",
    "    output: the tokenized list of the text with all lower case, punctuation removed, and no stop words\n",
    "    '''\n",
    "    df[columnName] = df[columnName].replace(np.nan,'',regex=True) \n",
    "    string = ' '.join(df[columnName].tolist())\n",
    "    return string"
   ]
  },
  {
   "cell_type": "code",
   "execution_count": 26,
   "metadata": {},
   "outputs": [],
   "source": [
    "def MetadataToDF(df, columnName,NewSeasonColumnName):\n",
    "    '''\n",
    "    input: the dataframe you will work with, the new column names for your new DF)\n",
    "    output: a new dataframe with the metadata and the count in a newly named column \n",
    "    \n",
    "    load in the proper data into a string'''\n",
    "    \n",
    "    #replace empty values & make a list of all the words\n",
    "    string = column_to_list(df, columnName)\n",
    "    \n",
    "    #the function to tokenize, or put each value as an element in a list\n",
    "    class CommaPoint(PunktLanguageVars):\n",
    "        sent_end_chars = (',') \n",
    "    tokenizer = PunktSentenceTokenizer(lang_vars = CommaPoint())\n",
    "    \n",
    "    #tokenizing the list of strings based on the COMMA, not the white space (as seen in the CommaPoint above)\n",
    "    ListOfTags = tokenizer.tokenize(string)\n",
    "    length = len(ListOfTags)\n",
    "    \n",
    "    #the \"Counter\" function is from the collections library\n",
    "    allCounter=collections.Counter(ListOfTags)\n",
    "    most = allCounter.most_common()\n",
    "    \n",
    "    newDF = pd.DataFrame(most, columns =[columnName, NewSeasonColumnName])\n",
    "    \n",
    "    #return \n",
    "    return newDF\n"
   ]
  },
  {
   "cell_type": "markdown",
   "metadata": {},
   "source": [
    "### TLoK Metadata\n",
    "I will be creating dataframes for all the metadatacategories to count across the three different periods from TLoK: the PreKorrasami time, the Subtextual Korrasami period, and the PostKorrasami Period. \n",
    "\n",
    "#### Character"
   ]
  },
  {
   "cell_type": "code",
   "execution_count": 27,
   "metadata": {},
   "outputs": [],
   "source": [
    "tlokALLcharacter = MetadataToDF(allkorra_month, 'character','allCount')\n",
    "tlok01character = MetadataToDF(tlok01, 'character','01Count')\n",
    "tlok02character = MetadataToDF(tlok02, 'character','02Count')\n",
    "tlok03character = MetadataToDF(tlok03, 'character','03Count')"
   ]
  },
  {
   "cell_type": "code",
   "execution_count": 28,
   "metadata": {},
   "outputs": [
    {
     "data": {
      "text/html": [
       "<div>\n",
       "<style scoped>\n",
       "    .dataframe tbody tr th:only-of-type {\n",
       "        vertical-align: middle;\n",
       "    }\n",
       "\n",
       "    .dataframe tbody tr th {\n",
       "        vertical-align: top;\n",
       "    }\n",
       "\n",
       "    .dataframe thead th {\n",
       "        text-align: right;\n",
       "    }\n",
       "</style>\n",
       "<table border=\"1\" class=\"dataframe\">\n",
       "  <thead>\n",
       "    <tr style=\"text-align: right;\">\n",
       "      <th></th>\n",
       "      <th>character</th>\n",
       "      <th>allCount</th>\n",
       "    </tr>\n",
       "  </thead>\n",
       "  <tbody>\n",
       "    <tr>\n",
       "      <th>0</th>\n",
       "      <td>korra (avatar),</td>\n",
       "      <td>2670</td>\n",
       "    </tr>\n",
       "    <tr>\n",
       "      <th>1</th>\n",
       "      <td>asami sato,</td>\n",
       "      <td>2044</td>\n",
       "    </tr>\n",
       "    <tr>\n",
       "      <th>2</th>\n",
       "      <td>mako (avatar),</td>\n",
       "      <td>1263</td>\n",
       "    </tr>\n",
       "    <tr>\n",
       "      <th>3</th>\n",
       "      <td>bolin (avatar),</td>\n",
       "      <td>1093</td>\n",
       "    </tr>\n",
       "    <tr>\n",
       "      <th>4</th>\n",
       "      <td>tenzin (avatar),</td>\n",
       "      <td>560</td>\n",
       "    </tr>\n",
       "  </tbody>\n",
       "</table>\n",
       "</div>"
      ],
      "text/plain": [
       "          character  allCount\n",
       "0   korra (avatar),      2670\n",
       "1       asami sato,      2044\n",
       "2    mako (avatar),      1263\n",
       "3   bolin (avatar),      1093\n",
       "4  tenzin (avatar),       560"
      ]
     },
     "execution_count": 28,
     "metadata": {},
     "output_type": "execute_result"
    }
   ],
   "source": [
    "tlokALLcharacter[:5]"
   ]
  },
  {
   "cell_type": "code",
   "execution_count": 29,
   "metadata": {},
   "outputs": [
    {
     "data": {
      "text/html": [
       "<div>\n",
       "<style scoped>\n",
       "    .dataframe tbody tr th:only-of-type {\n",
       "        vertical-align: middle;\n",
       "    }\n",
       "\n",
       "    .dataframe tbody tr th {\n",
       "        vertical-align: top;\n",
       "    }\n",
       "\n",
       "    .dataframe thead th {\n",
       "        text-align: right;\n",
       "    }\n",
       "</style>\n",
       "<table border=\"1\" class=\"dataframe\">\n",
       "  <thead>\n",
       "    <tr style=\"text-align: right;\">\n",
       "      <th></th>\n",
       "      <th>character</th>\n",
       "      <th>01Count</th>\n",
       "      <th>02Count</th>\n",
       "      <th>03Count</th>\n",
       "      <th>allCount</th>\n",
       "    </tr>\n",
       "  </thead>\n",
       "  <tbody>\n",
       "    <tr>\n",
       "      <th>0</th>\n",
       "      <td>korra (avatar),</td>\n",
       "      <td>842.0</td>\n",
       "      <td>434.0</td>\n",
       "      <td>1394.0</td>\n",
       "      <td>2670</td>\n",
       "    </tr>\n",
       "    <tr>\n",
       "      <th>1</th>\n",
       "      <td>mako (avatar),</td>\n",
       "      <td>509.0</td>\n",
       "      <td>198.0</td>\n",
       "      <td>556.0</td>\n",
       "      <td>1263</td>\n",
       "    </tr>\n",
       "    <tr>\n",
       "      <th>2</th>\n",
       "      <td>bolin (avatar),</td>\n",
       "      <td>455.0</td>\n",
       "      <td>146.0</td>\n",
       "      <td>492.0</td>\n",
       "      <td>1093</td>\n",
       "    </tr>\n",
       "    <tr>\n",
       "      <th>3</th>\n",
       "      <td>asami sato,</td>\n",
       "      <td>396.0</td>\n",
       "      <td>346.0</td>\n",
       "      <td>1302.0</td>\n",
       "      <td>2044</td>\n",
       "    </tr>\n",
       "    <tr>\n",
       "      <th>4</th>\n",
       "      <td>lin bei fong,</td>\n",
       "      <td>243.0</td>\n",
       "      <td>86.0</td>\n",
       "      <td>97.0</td>\n",
       "      <td>426</td>\n",
       "    </tr>\n",
       "  </tbody>\n",
       "</table>\n",
       "</div>"
      ],
      "text/plain": [
       "         character  01Count  02Count  03Count  allCount\n",
       "0  korra (avatar),    842.0    434.0   1394.0      2670\n",
       "1   mako (avatar),    509.0    198.0    556.0      1263\n",
       "2  bolin (avatar),    455.0    146.0    492.0      1093\n",
       "3      asami sato,    396.0    346.0   1302.0      2044\n",
       "4    lin bei fong,    243.0     86.0     97.0       426"
      ]
     },
     "execution_count": 29,
     "metadata": {},
     "output_type": "execute_result"
    }
   ],
   "source": [
    "tlokCharMerge01 = pd.merge(tlok01character, tlok02character, on='character', how='outer')\n",
    "tlokCharMerge02 = pd.merge(tlokCharMerge01, tlok03character, on='character', how='outer')\n",
    "tlokCharMerge = pd.merge(tlokCharMerge02, tlokALLcharacter, on='character', how='outer')\n",
    "tlokCharMerge[:5]"
   ]
  },
  {
   "cell_type": "markdown",
   "metadata": {},
   "source": [
    "#### Relationships"
   ]
  },
  {
   "cell_type": "code",
   "execution_count": 30,
   "metadata": {},
   "outputs": [],
   "source": [
    "tlokALLrel = MetadataToDF(allkorra_month, 'relationship','allCount')\n",
    "tlok01rel = MetadataToDF(tlok01, 'relationship','01Count')\n",
    "tlok02rel = MetadataToDF(tlok02, 'relationship','02Count')\n",
    "tlok03rel = MetadataToDF(tlok03, 'relationship','03Count')"
   ]
  },
  {
   "cell_type": "code",
   "execution_count": 31,
   "metadata": {},
   "outputs": [
    {
     "data": {
      "text/html": [
       "<div>\n",
       "<style scoped>\n",
       "    .dataframe tbody tr th:only-of-type {\n",
       "        vertical-align: middle;\n",
       "    }\n",
       "\n",
       "    .dataframe tbody tr th {\n",
       "        vertical-align: top;\n",
       "    }\n",
       "\n",
       "    .dataframe thead th {\n",
       "        text-align: right;\n",
       "    }\n",
       "</style>\n",
       "<table border=\"1\" class=\"dataframe\">\n",
       "  <thead>\n",
       "    <tr style=\"text-align: right;\">\n",
       "      <th></th>\n",
       "      <th>relationship</th>\n",
       "      <th>allCount</th>\n",
       "    </tr>\n",
       "  </thead>\n",
       "  <tbody>\n",
       "    <tr>\n",
       "      <th>0</th>\n",
       "      <td>korra/asami sato,</td>\n",
       "      <td>1621</td>\n",
       "    </tr>\n",
       "    <tr>\n",
       "      <th>1</th>\n",
       "      <td>korra/mako (avatar),</td>\n",
       "      <td>464</td>\n",
       "    </tr>\n",
       "    <tr>\n",
       "      <th>2</th>\n",
       "      <td>bolin/opal (avatar),</td>\n",
       "      <td>122</td>\n",
       "    </tr>\n",
       "    <tr>\n",
       "      <th>3</th>\n",
       "      <td>bolin/korra (avatar),</td>\n",
       "      <td>108</td>\n",
       "    </tr>\n",
       "    <tr>\n",
       "      <th>4</th>\n",
       "      <td>baatar jr./kuvira (avatar),</td>\n",
       "      <td>94</td>\n",
       "    </tr>\n",
       "  </tbody>\n",
       "</table>\n",
       "</div>"
      ],
      "text/plain": [
       "                  relationship  allCount\n",
       "0            korra/asami sato,      1621\n",
       "1         korra/mako (avatar),       464\n",
       "2         bolin/opal (avatar),       122\n",
       "3        bolin/korra (avatar),       108\n",
       "4  baatar jr./kuvira (avatar),        94"
      ]
     },
     "execution_count": 31,
     "metadata": {},
     "output_type": "execute_result"
    }
   ],
   "source": [
    "tlokALLrel[:5]"
   ]
  },
  {
   "cell_type": "code",
   "execution_count": 32,
   "metadata": {},
   "outputs": [
    {
     "data": {
      "text/html": [
       "<div>\n",
       "<style scoped>\n",
       "    .dataframe tbody tr th:only-of-type {\n",
       "        vertical-align: middle;\n",
       "    }\n",
       "\n",
       "    .dataframe tbody tr th {\n",
       "        vertical-align: top;\n",
       "    }\n",
       "\n",
       "    .dataframe thead th {\n",
       "        text-align: right;\n",
       "    }\n",
       "</style>\n",
       "<table border=\"1\" class=\"dataframe\">\n",
       "  <thead>\n",
       "    <tr style=\"text-align: right;\">\n",
       "      <th></th>\n",
       "      <th>relationship</th>\n",
       "      <th>01Count</th>\n",
       "      <th>02Count</th>\n",
       "      <th>03Count</th>\n",
       "      <th>allCount</th>\n",
       "    </tr>\n",
       "  </thead>\n",
       "  <tbody>\n",
       "    <tr>\n",
       "      <th>0</th>\n",
       "      <td>korra/mako (avatar),</td>\n",
       "      <td>305.0</td>\n",
       "      <td>63.0</td>\n",
       "      <td>96.0</td>\n",
       "      <td>464</td>\n",
       "    </tr>\n",
       "    <tr>\n",
       "      <th>1</th>\n",
       "      <td>bolin/korra (avatar),</td>\n",
       "      <td>91.0</td>\n",
       "      <td>8.0</td>\n",
       "      <td>9.0</td>\n",
       "      <td>108</td>\n",
       "    </tr>\n",
       "    <tr>\n",
       "      <th>2</th>\n",
       "      <td>korra/asami sato,</td>\n",
       "      <td>90.0</td>\n",
       "      <td>281.0</td>\n",
       "      <td>1250.0</td>\n",
       "      <td>1621</td>\n",
       "    </tr>\n",
       "    <tr>\n",
       "      <th>3</th>\n",
       "      <td>amon/lieutenant (avatar),</td>\n",
       "      <td>68.0</td>\n",
       "      <td>6.0</td>\n",
       "      <td>10.0</td>\n",
       "      <td>84</td>\n",
       "    </tr>\n",
       "    <tr>\n",
       "      <th>4</th>\n",
       "      <td>amon/korra (avatar),</td>\n",
       "      <td>48.0</td>\n",
       "      <td>17.0</td>\n",
       "      <td>6.0</td>\n",
       "      <td>71</td>\n",
       "    </tr>\n",
       "  </tbody>\n",
       "</table>\n",
       "</div>"
      ],
      "text/plain": [
       "                relationship  01Count  02Count  03Count  allCount\n",
       "0       korra/mako (avatar),    305.0     63.0     96.0       464\n",
       "1      bolin/korra (avatar),     91.0      8.0      9.0       108\n",
       "2          korra/asami sato,     90.0    281.0   1250.0      1621\n",
       "3  amon/lieutenant (avatar),     68.0      6.0     10.0        84\n",
       "4       amon/korra (avatar),     48.0     17.0      6.0        71"
      ]
     },
     "execution_count": 32,
     "metadata": {},
     "output_type": "execute_result"
    }
   ],
   "source": [
    "tlokRelMerge01 = pd.merge(tlok01rel, tlok02rel, on='relationship', how='outer')\n",
    "tlokRelMerge02 = pd.merge(tlokRelMerge01, tlok03rel, on='relationship', how='outer')\n",
    "tlokRelMerge = pd.merge(tlokRelMerge02, tlokALLrel, on='relationship', how='outer')\n",
    "tlokRelMerge[:5]"
   ]
  },
  {
   "cell_type": "markdown",
   "metadata": {},
   "source": [
    "#### Categories"
   ]
  },
  {
   "cell_type": "code",
   "execution_count": 33,
   "metadata": {},
   "outputs": [],
   "source": [
    "tlokALLcat = MetadataToDF(allkorra_month, 'category','allCount')\n",
    "tlok01cat = MetadataToDF(tlok01, 'category','01Count')\n",
    "tlok02cat = MetadataToDF(tlok02, 'category','02Count')\n",
    "tlok03cat = MetadataToDF(tlok03, 'category','03Count')"
   ]
  },
  {
   "cell_type": "code",
   "execution_count": 34,
   "metadata": {},
   "outputs": [
    {
     "data": {
      "text/html": [
       "<div>\n",
       "<style scoped>\n",
       "    .dataframe tbody tr th:only-of-type {\n",
       "        vertical-align: middle;\n",
       "    }\n",
       "\n",
       "    .dataframe tbody tr th {\n",
       "        vertical-align: top;\n",
       "    }\n",
       "\n",
       "    .dataframe thead th {\n",
       "        text-align: right;\n",
       "    }\n",
       "</style>\n",
       "<table border=\"1\" class=\"dataframe\">\n",
       "  <thead>\n",
       "    <tr style=\"text-align: right;\">\n",
       "      <th></th>\n",
       "      <th>category</th>\n",
       "      <th>allCount</th>\n",
       "    </tr>\n",
       "  </thead>\n",
       "  <tbody>\n",
       "    <tr>\n",
       "      <th>0</th>\n",
       "      <td>f/f,</td>\n",
       "      <td>1877</td>\n",
       "    </tr>\n",
       "    <tr>\n",
       "      <th>1</th>\n",
       "      <td>f/m,</td>\n",
       "      <td>1490</td>\n",
       "    </tr>\n",
       "    <tr>\n",
       "      <th>2</th>\n",
       "      <td>gen,</td>\n",
       "      <td>1133</td>\n",
       "    </tr>\n",
       "    <tr>\n",
       "      <th>3</th>\n",
       "      <td>m/m,</td>\n",
       "      <td>413</td>\n",
       "    </tr>\n",
       "    <tr>\n",
       "      <th>4</th>\n",
       "      <td>multi,</td>\n",
       "      <td>194</td>\n",
       "    </tr>\n",
       "    <tr>\n",
       "      <th>5</th>\n",
       "      <td>other,</td>\n",
       "      <td>83</td>\n",
       "    </tr>\n",
       "  </tbody>\n",
       "</table>\n",
       "</div>"
      ],
      "text/plain": [
       "  category  allCount\n",
       "0     f/f,      1877\n",
       "1     f/m,      1490\n",
       "2     gen,      1133\n",
       "3     m/m,       413\n",
       "4   multi,       194\n",
       "5   other,        83"
      ]
     },
     "execution_count": 34,
     "metadata": {},
     "output_type": "execute_result"
    }
   ],
   "source": [
    "tlokALLcat"
   ]
  },
  {
   "cell_type": "code",
   "execution_count": 35,
   "metadata": {},
   "outputs": [
    {
     "data": {
      "text/html": [
       "<div>\n",
       "<style scoped>\n",
       "    .dataframe tbody tr th:only-of-type {\n",
       "        vertical-align: middle;\n",
       "    }\n",
       "\n",
       "    .dataframe tbody tr th {\n",
       "        vertical-align: top;\n",
       "    }\n",
       "\n",
       "    .dataframe thead th {\n",
       "        text-align: right;\n",
       "    }\n",
       "</style>\n",
       "<table border=\"1\" class=\"dataframe\">\n",
       "  <thead>\n",
       "    <tr style=\"text-align: right;\">\n",
       "      <th></th>\n",
       "      <th>category</th>\n",
       "      <th>01Count</th>\n",
       "      <th>02Count</th>\n",
       "      <th>03Count</th>\n",
       "      <th>allCount</th>\n",
       "    </tr>\n",
       "  </thead>\n",
       "  <tbody>\n",
       "    <tr>\n",
       "      <th>0</th>\n",
       "      <td>f/m,</td>\n",
       "      <td>820</td>\n",
       "      <td>180</td>\n",
       "      <td>490</td>\n",
       "      <td>1490</td>\n",
       "    </tr>\n",
       "    <tr>\n",
       "      <th>1</th>\n",
       "      <td>gen,</td>\n",
       "      <td>617</td>\n",
       "      <td>170</td>\n",
       "      <td>346</td>\n",
       "      <td>1133</td>\n",
       "    </tr>\n",
       "    <tr>\n",
       "      <th>2</th>\n",
       "      <td>m/m,</td>\n",
       "      <td>243</td>\n",
       "      <td>50</td>\n",
       "      <td>120</td>\n",
       "      <td>413</td>\n",
       "    </tr>\n",
       "    <tr>\n",
       "      <th>3</th>\n",
       "      <td>f/f,</td>\n",
       "      <td>200</td>\n",
       "      <td>326</td>\n",
       "      <td>1351</td>\n",
       "      <td>1877</td>\n",
       "    </tr>\n",
       "    <tr>\n",
       "      <th>4</th>\n",
       "      <td>multi,</td>\n",
       "      <td>91</td>\n",
       "      <td>20</td>\n",
       "      <td>83</td>\n",
       "      <td>194</td>\n",
       "    </tr>\n",
       "  </tbody>\n",
       "</table>\n",
       "</div>"
      ],
      "text/plain": [
       "  category  01Count  02Count  03Count  allCount\n",
       "0     f/m,      820      180      490      1490\n",
       "1     gen,      617      170      346      1133\n",
       "2     m/m,      243       50      120       413\n",
       "3     f/f,      200      326     1351      1877\n",
       "4   multi,       91       20       83       194"
      ]
     },
     "execution_count": 35,
     "metadata": {},
     "output_type": "execute_result"
    }
   ],
   "source": [
    "tlokCatMerge01 = pd.merge(tlok01cat, tlok02cat, on='category', how='outer')\n",
    "tlokCatMerge02 = pd.merge(tlokCatMerge01, tlok03cat, on='category', how='outer')\n",
    "tlokCatMerge = pd.merge(tlokCatMerge02, tlokALLcat, on='category', how='outer')\n",
    "tlokCatMerge[:5]"
   ]
  },
  {
   "cell_type": "markdown",
   "metadata": {},
   "source": [
    "#### Additional Tags"
   ]
  },
  {
   "cell_type": "code",
   "execution_count": 36,
   "metadata": {},
   "outputs": [],
   "source": [
    "tlokALLtags = MetadataToDF(allkorra_month, 'additional tags','allCount')\n",
    "tlok01tags = MetadataToDF(tlok01, 'additional tags','01Count')\n",
    "tlok02tags = MetadataToDF(tlok02, 'additional tags','02Count')\n",
    "tlok03tags = MetadataToDF(tlok03, 'additional tags','03Count')"
   ]
  },
  {
   "cell_type": "code",
   "execution_count": 37,
   "metadata": {},
   "outputs": [
    {
     "data": {
      "text/html": [
       "<div>\n",
       "<style scoped>\n",
       "    .dataframe tbody tr th:only-of-type {\n",
       "        vertical-align: middle;\n",
       "    }\n",
       "\n",
       "    .dataframe tbody tr th {\n",
       "        vertical-align: top;\n",
       "    }\n",
       "\n",
       "    .dataframe thead th {\n",
       "        text-align: right;\n",
       "    }\n",
       "</style>\n",
       "<table border=\"1\" class=\"dataframe\">\n",
       "  <thead>\n",
       "    <tr style=\"text-align: right;\">\n",
       "      <th></th>\n",
       "      <th>additional tags</th>\n",
       "      <th>allCount</th>\n",
       "    </tr>\n",
       "  </thead>\n",
       "  <tbody>\n",
       "    <tr>\n",
       "      <th>0</th>\n",
       "      <td>romance,</td>\n",
       "      <td>412</td>\n",
       "    </tr>\n",
       "    <tr>\n",
       "      <th>1</th>\n",
       "      <td>fluff,</td>\n",
       "      <td>359</td>\n",
       "    </tr>\n",
       "    <tr>\n",
       "      <th>2</th>\n",
       "      <td>angst,</td>\n",
       "      <td>297</td>\n",
       "    </tr>\n",
       "    <tr>\n",
       "      <th>3</th>\n",
       "      <td>friendship,</td>\n",
       "      <td>190</td>\n",
       "    </tr>\n",
       "    <tr>\n",
       "      <th>4</th>\n",
       "      <td>alternate universe,</td>\n",
       "      <td>185</td>\n",
       "    </tr>\n",
       "  </tbody>\n",
       "</table>\n",
       "</div>"
      ],
      "text/plain": [
       "       additional tags  allCount\n",
       "0             romance,       412\n",
       "1               fluff,       359\n",
       "2               angst,       297\n",
       "3          friendship,       190\n",
       "4  alternate universe,       185"
      ]
     },
     "execution_count": 37,
     "metadata": {},
     "output_type": "execute_result"
    }
   ],
   "source": [
    "tlokALLtags[:5]"
   ]
  },
  {
   "cell_type": "code",
   "execution_count": 38,
   "metadata": {},
   "outputs": [
    {
     "data": {
      "text/html": [
       "<div>\n",
       "<style scoped>\n",
       "    .dataframe tbody tr th:only-of-type {\n",
       "        vertical-align: middle;\n",
       "    }\n",
       "\n",
       "    .dataframe tbody tr th {\n",
       "        vertical-align: top;\n",
       "    }\n",
       "\n",
       "    .dataframe thead th {\n",
       "        text-align: right;\n",
       "    }\n",
       "</style>\n",
       "<table border=\"1\" class=\"dataframe\">\n",
       "  <thead>\n",
       "    <tr style=\"text-align: right;\">\n",
       "      <th></th>\n",
       "      <th>additional tags</th>\n",
       "      <th>01Count</th>\n",
       "      <th>02Count</th>\n",
       "      <th>03Count</th>\n",
       "      <th>allCount</th>\n",
       "    </tr>\n",
       "  </thead>\n",
       "  <tbody>\n",
       "    <tr>\n",
       "      <th>0</th>\n",
       "      <td>romance,</td>\n",
       "      <td>145.0</td>\n",
       "      <td>54.0</td>\n",
       "      <td>213.0</td>\n",
       "      <td>412</td>\n",
       "    </tr>\n",
       "    <tr>\n",
       "      <th>1</th>\n",
       "      <td>angst,</td>\n",
       "      <td>109.0</td>\n",
       "      <td>43.0</td>\n",
       "      <td>145.0</td>\n",
       "      <td>297</td>\n",
       "    </tr>\n",
       "    <tr>\n",
       "      <th>2</th>\n",
       "      <td>friendship,</td>\n",
       "      <td>92.0</td>\n",
       "      <td>24.0</td>\n",
       "      <td>74.0</td>\n",
       "      <td>190</td>\n",
       "    </tr>\n",
       "    <tr>\n",
       "      <th>3</th>\n",
       "      <td>family,</td>\n",
       "      <td>72.0</td>\n",
       "      <td>9.0</td>\n",
       "      <td>47.0</td>\n",
       "      <td>128</td>\n",
       "    </tr>\n",
       "    <tr>\n",
       "      <th>4</th>\n",
       "      <td>fluff,</td>\n",
       "      <td>67.0</td>\n",
       "      <td>63.0</td>\n",
       "      <td>229.0</td>\n",
       "      <td>359</td>\n",
       "    </tr>\n",
       "  </tbody>\n",
       "</table>\n",
       "</div>"
      ],
      "text/plain": [
       "  additional tags  01Count  02Count  03Count  allCount\n",
       "0        romance,    145.0     54.0    213.0       412\n",
       "1          angst,    109.0     43.0    145.0       297\n",
       "2     friendship,     92.0     24.0     74.0       190\n",
       "3         family,     72.0      9.0     47.0       128\n",
       "4          fluff,     67.0     63.0    229.0       359"
      ]
     },
     "execution_count": 38,
     "metadata": {},
     "output_type": "execute_result"
    }
   ],
   "source": [
    "tlokTagsMerge01 = pd.merge(tlok01tags, tlok02tags, on='additional tags', how='outer')\n",
    "tlokTagsMerge02 = pd.merge(tlokTagsMerge01, tlok03tags, on='additional tags', how='outer')\n",
    "tlokTagsMerge = pd.merge(tlokTagsMerge02, tlokALLtags, on='additional tags', how='outer')\n",
    "tlokTagsMerge[:5]"
   ]
  },
  {
   "cell_type": "markdown",
   "metadata": {},
   "source": [
    "#### Ratings"
   ]
  },
  {
   "cell_type": "code",
   "execution_count": 39,
   "metadata": {},
   "outputs": [],
   "source": [
    "tlokALLrating = MetadataToDF(allkorra_month, 'rating','allCount')\n",
    "tlok01rating = MetadataToDF(tlok01, 'rating','01Count')\n",
    "tlok02rating = MetadataToDF(tlok02, 'rating','02Count')\n",
    "tlok03rating = MetadataToDF(tlok03, 'rating','03Count')"
   ]
  },
  {
   "cell_type": "code",
   "execution_count": 40,
   "metadata": {},
   "outputs": [
    {
     "data": {
      "text/html": [
       "<div>\n",
       "<style scoped>\n",
       "    .dataframe tbody tr th:only-of-type {\n",
       "        vertical-align: middle;\n",
       "    }\n",
       "\n",
       "    .dataframe tbody tr th {\n",
       "        vertical-align: top;\n",
       "    }\n",
       "\n",
       "    .dataframe thead th {\n",
       "        text-align: right;\n",
       "    }\n",
       "</style>\n",
       "<table border=\"1\" class=\"dataframe\">\n",
       "  <thead>\n",
       "    <tr style=\"text-align: right;\">\n",
       "      <th></th>\n",
       "      <th>rating</th>\n",
       "      <th>allCount</th>\n",
       "    </tr>\n",
       "  </thead>\n",
       "  <tbody>\n",
       "    <tr>\n",
       "      <th>0</th>\n",
       "      <td>general audiences,</td>\n",
       "      <td>1715</td>\n",
       "    </tr>\n",
       "    <tr>\n",
       "      <th>1</th>\n",
       "      <td>teen and up audiences,</td>\n",
       "      <td>1549</td>\n",
       "    </tr>\n",
       "    <tr>\n",
       "      <th>2</th>\n",
       "      <td>mature,</td>\n",
       "      <td>586</td>\n",
       "    </tr>\n",
       "    <tr>\n",
       "      <th>3</th>\n",
       "      <td>explicit,</td>\n",
       "      <td>389</td>\n",
       "    </tr>\n",
       "    <tr>\n",
       "      <th>4</th>\n",
       "      <td>not rated,</td>\n",
       "      <td>290</td>\n",
       "    </tr>\n",
       "  </tbody>\n",
       "</table>\n",
       "</div>"
      ],
      "text/plain": [
       "                   rating  allCount\n",
       "0      general audiences,      1715\n",
       "1  teen and up audiences,      1549\n",
       "2                 mature,       586\n",
       "3               explicit,       389\n",
       "4              not rated,       290"
      ]
     },
     "execution_count": 40,
     "metadata": {},
     "output_type": "execute_result"
    }
   ],
   "source": [
    "tlokALLrating"
   ]
  },
  {
   "cell_type": "code",
   "execution_count": 41,
   "metadata": {},
   "outputs": [
    {
     "data": {
      "text/html": [
       "<div>\n",
       "<style scoped>\n",
       "    .dataframe tbody tr th:only-of-type {\n",
       "        vertical-align: middle;\n",
       "    }\n",
       "\n",
       "    .dataframe tbody tr th {\n",
       "        vertical-align: top;\n",
       "    }\n",
       "\n",
       "    .dataframe thead th {\n",
       "        text-align: right;\n",
       "    }\n",
       "</style>\n",
       "<table border=\"1\" class=\"dataframe\">\n",
       "  <thead>\n",
       "    <tr style=\"text-align: right;\">\n",
       "      <th></th>\n",
       "      <th>rating</th>\n",
       "      <th>01Count</th>\n",
       "      <th>02Count</th>\n",
       "      <th>03Count</th>\n",
       "      <th>allCount</th>\n",
       "    </tr>\n",
       "  </thead>\n",
       "  <tbody>\n",
       "    <tr>\n",
       "      <th>0</th>\n",
       "      <td>general audiences,</td>\n",
       "      <td>672</td>\n",
       "      <td>281</td>\n",
       "      <td>762</td>\n",
       "      <td>1715</td>\n",
       "    </tr>\n",
       "    <tr>\n",
       "      <th>1</th>\n",
       "      <td>teen and up audiences,</td>\n",
       "      <td>568</td>\n",
       "      <td>258</td>\n",
       "      <td>723</td>\n",
       "      <td>1549</td>\n",
       "    </tr>\n",
       "    <tr>\n",
       "      <th>2</th>\n",
       "      <td>mature,</td>\n",
       "      <td>185</td>\n",
       "      <td>78</td>\n",
       "      <td>323</td>\n",
       "      <td>586</td>\n",
       "    </tr>\n",
       "    <tr>\n",
       "      <th>3</th>\n",
       "      <td>explicit,</td>\n",
       "      <td>182</td>\n",
       "      <td>56</td>\n",
       "      <td>151</td>\n",
       "      <td>389</td>\n",
       "    </tr>\n",
       "    <tr>\n",
       "      <th>4</th>\n",
       "      <td>not rated,</td>\n",
       "      <td>126</td>\n",
       "      <td>47</td>\n",
       "      <td>117</td>\n",
       "      <td>290</td>\n",
       "    </tr>\n",
       "  </tbody>\n",
       "</table>\n",
       "</div>"
      ],
      "text/plain": [
       "                   rating  01Count  02Count  03Count  allCount\n",
       "0      general audiences,      672      281      762      1715\n",
       "1  teen and up audiences,      568      258      723      1549\n",
       "2                 mature,      185       78      323       586\n",
       "3               explicit,      182       56      151       389\n",
       "4              not rated,      126       47      117       290"
      ]
     },
     "execution_count": 41,
     "metadata": {},
     "output_type": "execute_result"
    }
   ],
   "source": [
    "tlokRatingMerge01 = pd.merge(tlok01rating, tlok02rating, on='rating', how='outer')\n",
    "tlokRatingMerge02 = pd.merge(tlokRatingMerge01, tlok03rating, on='rating', how='outer')\n",
    "tlokRatingMerge = pd.merge(tlokRatingMerge02, tlokALLrating, on='rating', how='outer')\n",
    "tlokRatingMerge[:5]"
   ]
  },
  {
   "cell_type": "markdown",
   "metadata": {},
   "source": [
    "#### Saving CSVs"
   ]
  },
  {
   "cell_type": "code",
   "execution_count": 42,
   "metadata": {},
   "outputs": [],
   "source": [
    "tlokCharMerge.to_csv(r'./data/metadata/TLoK/tlok_metadata_character.csv')\n",
    "tlokRelMerge.to_csv(r'./data/metadata/TLoK/tlok_metadata_relationship.csv')\n",
    "tlokCatMerge.to_csv(r'./data/metadata/TLoK/tlok_metadata_categories.csv')\n",
    "tlokTagsMerge.to_csv(r'./data/metadata/TLoK/tlok_metadata_tags.csv')\n",
    "tlokRatingMerge.to_csv(r'./data/metadata/TLoK/tlok_metadata_rating.csv')"
   ]
  },
  {
   "cell_type": "markdown",
   "metadata": {},
   "source": [
    "### GoT Metadata\n",
    "As I did with TLoK, I will be creating dataframes for all the metadatacategories to count across different Game of Thrones periods. I will be using seasons as date markers, though. So seasons 1-8 (as grouped above)\n",
    "\n",
    "#### Character\n"
   ]
  },
  {
   "cell_type": "code",
   "execution_count": null,
   "metadata": {},
   "outputs": [],
   "source": [
    "gots0character = MetadataToDF(allgot_months, 'character','AllCount')\n",
    "gots1character = MetadataToDF(gots1, 'character','S1Count')\n",
    "gots2character = MetadataToDF(gots2, 'character','S2Count')\n",
    "gots3character = MetadataToDF(gots3, 'character','S3Count')\n",
    "gots4character = MetadataToDF(gots4, 'character','S4Count')\n",
    "gots5character = MetadataToDF(gots5, 'character','S5Count')\n",
    "gots6character = MetadataToDF(gots6, 'character','S6Count')\n",
    "gots7character = MetadataToDF(gots7, 'character','S7Count')\n",
    "gots8character = MetadataToDF(gots8, 'character','S8Count')"
   ]
  },
  {
   "cell_type": "code",
   "execution_count": null,
   "metadata": {},
   "outputs": [],
   "source": [
    "gots0character[:5]"
   ]
  },
  {
   "cell_type": "code",
   "execution_count": null,
   "metadata": {},
   "outputs": [],
   "source": [
    "gotMerge1Chara = pd.merge(gots1character, gots2character, on='character', how='outer')\n",
    "gotMerge2Chara = pd.merge(gotMerge1Chara, gots3character, on='character', how='outer')\n",
    "gotMerge3Chara = pd.merge(gotMerge2Chara, gots4character, on='character', how='outer')\n",
    "gotMerge4Chara = pd.merge(gotMerge3Chara, gots5character, on='character', how='outer')\n",
    "gotMerge5Chara = pd.merge(gotMerge4Chara, gots6character, on='character', how='outer')\n",
    "gotMerge6Chara = pd.merge(gotMerge5Chara, gots7character, on='character', how='outer')\n",
    "gotMerge7Chara = pd.merge(gotMerge6Chara, gots8character, on='character', how='outer')\n",
    "gotMergeChara = pd.merge(gotMerge7Chara, gots0character, on='character', how='outer')\n",
    "gotMergeChara[:5]"
   ]
  },
  {
   "cell_type": "markdown",
   "metadata": {},
   "source": [
    "#### Relationship"
   ]
  },
  {
   "cell_type": "code",
   "execution_count": null,
   "metadata": {},
   "outputs": [],
   "source": [
    "gots0rel = MetadataToDF(allgot_months, 'relationship','AllCount')\n",
    "gots1rel = MetadataToDF(gots1, 'relationship','S1Count')\n",
    "gots2rel = MetadataToDF(gots2, 'relationship','S2Count')\n",
    "gots3rel = MetadataToDF(gots3, 'relationship','S3Count')\n",
    "gots4rel = MetadataToDF(gots4, 'relationship','S4Count')\n",
    "gots5rel = MetadataToDF(gots5, 'relationship','S5Count')\n",
    "gots6rel = MetadataToDF(gots6, 'relationship','S6Count')\n",
    "gots7rel = MetadataToDF(gots7, 'relationship','S7Count')\n",
    "gots8rel = MetadataToDF(gots8, 'relationship','S8Count')"
   ]
  },
  {
   "cell_type": "code",
   "execution_count": null,
   "metadata": {},
   "outputs": [],
   "source": [
    "gots0rel[:5]"
   ]
  },
  {
   "cell_type": "code",
   "execution_count": null,
   "metadata": {},
   "outputs": [],
   "source": [
    "gotMerge1rel = pd.merge(gots1rel, gots2rel, on='relationship', how='outer')\n",
    "gotMerge2rel = pd.merge(gotMerge1rel, gots3rel, on='relationship', how='outer')\n",
    "gotMerge3rel = pd.merge(gotMerge2rel, gots4rel, on='relationship', how='outer')\n",
    "gotMerge4rel = pd.merge(gotMerge3rel, gots5rel, on='relationship', how='outer')\n",
    "gotMerge5rel = pd.merge(gotMerge4rel, gots6rel, on='relationship', how='outer')\n",
    "gotMerge6rel = pd.merge(gotMerge5rel, gots7rel, on='relationship', how='outer')\n",
    "gotMerge7Rel = pd.merge(gotMerge6rel, gots8rel, on='relationship', how='outer')\n",
    "gotMergeRel = pd.merge(gotMerge7Rel, gots0rel, on='relationship', how='outer')\n",
    "gotMergeRel[:5]"
   ]
  },
  {
   "cell_type": "markdown",
   "metadata": {},
   "source": [
    "#### Category"
   ]
  },
  {
   "cell_type": "code",
   "execution_count": null,
   "metadata": {},
   "outputs": [],
   "source": [
    "gots0cat = MetadataToDF(allgot_months, 'category','AllCount')\n",
    "gots1cat = MetadataToDF(gots1, 'category','S1Count')\n",
    "gots2cat = MetadataToDF(gots2, 'category','S2Count')\n",
    "gots3cat = MetadataToDF(gots3, 'category','S3Count')\n",
    "gots4cat = MetadataToDF(gots4, 'category','S4Count')\n",
    "gots5cat = MetadataToDF(gots5, 'category','S5Count')\n",
    "gots6cat = MetadataToDF(gots6, 'category','S6Count')\n",
    "gots7cat = MetadataToDF(gots7, 'category','S7Count')\n",
    "gots8cat = MetadataToDF(gots8, 'category','S8Count')"
   ]
  },
  {
   "cell_type": "code",
   "execution_count": null,
   "metadata": {},
   "outputs": [],
   "source": [
    "gots0cat"
   ]
  },
  {
   "cell_type": "code",
   "execution_count": null,
   "metadata": {},
   "outputs": [],
   "source": [
    "gotMerge1cat = pd.merge(gots1cat, gots2cat, on='category', how='outer')\n",
    "gotMerge2cat = pd.merge(gotMerge1cat, gots3cat, on='category', how='outer')\n",
    "gotMerge3cat = pd.merge(gotMerge2cat, gots4cat, on='category', how='outer')\n",
    "gotMerge4cat = pd.merge(gotMerge3cat, gots5cat, on='category', how='outer')\n",
    "gotMerge5cat = pd.merge(gotMerge4cat, gots6cat, on='category', how='outer')\n",
    "gotMerge6cat = pd.merge(gotMerge5cat, gots7cat, on='category', how='outer')\n",
    "gotMerge7Cat = pd.merge(gotMerge6cat, gots8cat, on='category', how='outer')\n",
    "gotMergeCat = pd.merge(gotMerge7Cat, gots0cat, on='category', how='outer')\n",
    "gotMergeCat[:5]"
   ]
  },
  {
   "cell_type": "markdown",
   "metadata": {},
   "source": [
    "#### Additional Tags"
   ]
  },
  {
   "cell_type": "code",
   "execution_count": null,
   "metadata": {},
   "outputs": [],
   "source": [
    "gots0tags = MetadataToDF(allgot_months, 'additional tags','AllCount')\n",
    "gots1tags = MetadataToDF(gots1, 'additional tags','S1Count')\n",
    "gots2tags = MetadataToDF(gots2, 'additional tags','S2Count')\n",
    "gots3tags = MetadataToDF(gots3, 'additional tags','S3Count')\n",
    "gots4tags = MetadataToDF(gots4, 'additional tags','S4Count')\n",
    "gots5tags = MetadataToDF(gots5, 'additional tags','S5Count')\n",
    "gots6tags = MetadataToDF(gots6, 'additional tags','S6Count')\n",
    "gots7tags = MetadataToDF(gots7, 'additional tags','S7Count')\n",
    "gots8tags = MetadataToDF(gots8, 'additional tags','S8Count')"
   ]
  },
  {
   "cell_type": "code",
   "execution_count": null,
   "metadata": {},
   "outputs": [],
   "source": [
    "gots0tags[:5]"
   ]
  },
  {
   "cell_type": "code",
   "execution_count": null,
   "metadata": {},
   "outputs": [],
   "source": [
    "gotMerge1tags = pd.merge(gots1tags, gots2tags, on='additional tags', how='outer')\n",
    "gotMerge2tags = pd.merge(gotMerge1tags, gots3tags, on='additional tags', how='outer')\n",
    "gotMerge3tags = pd.merge(gotMerge2tags, gots4tags, on='additional tags', how='outer')\n",
    "gotMerge4tags = pd.merge(gotMerge3tags, gots5tags, on='additional tags', how='outer')\n",
    "gotMerge5tags = pd.merge(gotMerge4tags, gots6tags, on='additional tags', how='outer')\n",
    "gotMerge6tags = pd.merge(gotMerge5tags, gots7tags, on='additional tags', how='outer')\n",
    "gotMerge7Tags = pd.merge(gotMerge6tags, gots8tags, on='additional tags', how='outer')\n",
    "gotMergeTags = pd.merge(gotMerge7Tags, gots0tags, on='additional tags', how='outer')\n",
    "gotMergeTags[:5]"
   ]
  },
  {
   "cell_type": "markdown",
   "metadata": {},
   "source": [
    "#### Rating"
   ]
  },
  {
   "cell_type": "code",
   "execution_count": null,
   "metadata": {},
   "outputs": [],
   "source": [
    "gots0rating = MetadataToDF(allgot_months, 'rating','AllCount')\n",
    "gots1rating = MetadataToDF(gots1, 'rating','S1Count')\n",
    "gots2rating = MetadataToDF(gots2, 'rating','S2Count')\n",
    "gots3rating = MetadataToDF(gots3, 'rating','S3Count')\n",
    "gots4rating = MetadataToDF(gots4, 'rating','S4Count')\n",
    "gots5rating = MetadataToDF(gots5, 'rating','S5Count')\n",
    "gots6rating = MetadataToDF(gots6, 'rating','S6Count')\n",
    "gots7rating = MetadataToDF(gots7, 'rating','S7Count')\n",
    "gots8rating = MetadataToDF(gots8, 'rating','S8Count')"
   ]
  },
  {
   "cell_type": "code",
   "execution_count": null,
   "metadata": {},
   "outputs": [],
   "source": [
    "gots0rating"
   ]
  },
  {
   "cell_type": "code",
   "execution_count": null,
   "metadata": {},
   "outputs": [],
   "source": [
    "gotMerge1rat = pd.merge(gots1rating, gots2rating, on='rating', how='outer')\n",
    "gotMerge2rat = pd.merge(gotMerge1rat, gots3rating, on='rating', how='outer')\n",
    "gotMerge3rat = pd.merge(gotMerge2rat, gots4rating, on='rating', how='outer')\n",
    "gotMerge4rat = pd.merge(gotMerge3rat, gots5rating, on='rating', how='outer')\n",
    "gotMerge5rat = pd.merge(gotMerge4rat, gots6rating, on='rating', how='outer')\n",
    "gotMerge6rat = pd.merge(gotMerge5rat, gots7rating, on='rating', how='outer')\n",
    "gotMerge7Rat = pd.merge(gotMerge6rat, gots8rating, on='rating', how='outer')\n",
    "gotMergeRat = pd.merge(gotMerge7Rat, gots0rating, on='rating', how='outer')\n",
    "gotMergeRat[:5]"
   ]
  },
  {
   "cell_type": "code",
   "execution_count": null,
   "metadata": {},
   "outputs": [],
   "source": [
    "gotMergeChara.to_csv(r'./data/metadata/GoT/got_metadata_character.csv')\n",
    "gotMergeRel.to_csv(r'./data/metadata/GoT/got_metadata_relationship.csv')\n",
    "gotMergeCat.to_csv(r'./data/metadata/GoT/got_metadata_categories.csv')\n",
    "gotMergeTags.to_csv(r'./data/metadata/GoT/got_metadata_tags.csv')\n",
    "gotMergeRat.to_csv(r'./data/metadata/GoT/got_metadata_rating.csv')"
   ]
  }
 ],
 "metadata": {
  "kernelspec": {
   "display_name": "Python 3",
   "language": "python",
   "name": "python3"
  },
  "language_info": {
   "codemirror_mode": {
    "name": "ipython",
    "version": 3
   },
   "file_extension": ".py",
   "mimetype": "text/x-python",
   "name": "python",
   "nbconvert_exporter": "python",
   "pygments_lexer": "ipython3",
   "version": "3.7.7"
  }
 },
 "nbformat": 4,
 "nbformat_minor": 2
}
