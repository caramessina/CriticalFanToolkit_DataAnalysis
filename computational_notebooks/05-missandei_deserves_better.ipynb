{
 "cells": [
  {
   "cell_type": "markdown",
   "metadata": {},
   "source": [
    "# Missandei Deserved Better \n",
    "\n",
    "This notebook will analyze particular tags -- character, additional, relationship, or others -- and  trends in the actual fanfic texts centering Missandei of Naath. This is the computational essay to be paired along with \"'“Missandei Deserved Better:” Fan Uptakes of Missandei of Naath,\" part of the Critical Fan Toolkit.  \n",
    "\n",
    "The [Critical Fan Toolkit](http://www.criticalfantoolkit.org/) is a dissertation by [Cara Marta Messina](https://caramartamessina.com/). \n",
    "\n",
    "## Missandei As \"Window Dressing\"\n",
    "When I asked WriteGirl about the lack of use of Missandei's character, she said that even when Missandei appears in a fic, she is often written as \"window dressing\" and merely there to affirm Dany's arguments.\n",
    "\n",
    "To determine the accuracy of this, I will pull all the fanfics that use the Missandei character tag, see who the most used character tag is in that smaller corpus, and count how often the actual texts mention Missandei and other characters. In order to do this, I am using the \"String contains\" function because Missandei appears as \"Missandei (ASOIF),\" \"Missandei,\" and in other ways. String contains allows to pull *all* mentions of Missandei.\n",
    "\n",
    "There are 29897 fanfics in total, and only 1018 use Missandei in the character tag, or 3.4%."
   ]
  },
  {
   "cell_type": "code",
   "execution_count": 1,
   "metadata": {},
   "outputs": [],
   "source": [
    "#pandas for working with dataframes\n",
    "import pandas as pd\n",
    "import numpy as np\n",
    "\n",
    "#visualizing\n",
    "import seaborn as sns\n",
    "\n",
    "#nltk libraries\n",
    "import nltk\n",
    "from nltk import word_tokenize\n",
    "from nltk.util import ngrams\n",
    "from nltk.stem.porter import *\n",
    "import string\n",
    "\n",
    "from nltk.tokenize.punkt import PunktSentenceTokenizer, PunktLanguageVars \n",
    "\n",
    "#has the nice counter feature for counting tags\n",
    "import collections\n",
    "from collections import Counter "
   ]
  },
  {
   "cell_type": "code",
   "execution_count": 2,
   "metadata": {},
   "outputs": [],
   "source": [
    "got0 = pd.read_csv('data/got_data_original/got0.csv')\n",
    "got1 = pd.read_csv('data/got_data_original/got1.csv')\n",
    "got2 = pd.read_csv('data/got_data_original/got2.csv')\n",
    "got3 = pd.read_csv('data/got_data_original/got3.csv')\n",
    "\n",
    "got_all = pd.concat([got0, got1, got2, got3])"
   ]
  },
  {
   "cell_type": "code",
   "execution_count": 3,
   "metadata": {},
   "outputs": [
    {
     "data": {
      "text/html": [
       "<div>\n",
       "<style scoped>\n",
       "    .dataframe tbody tr th:only-of-type {\n",
       "        vertical-align: middle;\n",
       "    }\n",
       "\n",
       "    .dataframe tbody tr th {\n",
       "        vertical-align: top;\n",
       "    }\n",
       "\n",
       "    .dataframe thead th {\n",
       "        text-align: right;\n",
       "    }\n",
       "</style>\n",
       "<table border=\"1\" class=\"dataframe\">\n",
       "  <thead>\n",
       "    <tr style=\"text-align: right;\">\n",
       "      <th></th>\n",
       "      <th>Unnamed: 0</th>\n",
       "      <th>work_id</th>\n",
       "      <th>title</th>\n",
       "      <th>rating</th>\n",
       "      <th>category</th>\n",
       "      <th>fandom</th>\n",
       "      <th>relationship</th>\n",
       "      <th>character</th>\n",
       "      <th>additional tags</th>\n",
       "      <th>language</th>\n",
       "      <th>...</th>\n",
       "      <th>status</th>\n",
       "      <th>status date</th>\n",
       "      <th>words</th>\n",
       "      <th>chapters</th>\n",
       "      <th>comments</th>\n",
       "      <th>kudos</th>\n",
       "      <th>bookmarks</th>\n",
       "      <th>hits</th>\n",
       "      <th>body</th>\n",
       "      <th>month</th>\n",
       "    </tr>\n",
       "  </thead>\n",
       "  <tbody>\n",
       "    <tr>\n",
       "      <th>0</th>\n",
       "      <td>0</td>\n",
       "      <td>19289563</td>\n",
       "      <td>game of thrones</td>\n",
       "      <td>Explicit</td>\n",
       "      <td>Multi</td>\n",
       "      <td>game of thrones, A Song of Ice and Fire</td>\n",
       "      <td>Gendry Baratheon/Arya Stark, gendry baratheon/...</td>\n",
       "      <td>Arya Stark, Bella, Gendry Baratheon - Characte...</td>\n",
       "      <td>NaN</td>\n",
       "      <td>English</td>\n",
       "      <td>...</td>\n",
       "      <td>Updated</td>\n",
       "      <td>2019-06-20</td>\n",
       "      <td>853.0</td>\n",
       "      <td>2/?</td>\n",
       "      <td>NaN</td>\n",
       "      <td>17.0</td>\n",
       "      <td>2.0</td>\n",
       "      <td>820.0</td>\n",
       "      <td>authors note: this is really short but i promi...</td>\n",
       "      <td>2019-06</td>\n",
       "    </tr>\n",
       "    <tr>\n",
       "      <th>1</th>\n",
       "      <td>1</td>\n",
       "      <td>17179712</td>\n",
       "      <td>Game of Thrones</td>\n",
       "      <td>Teen And Up Audiences</td>\n",
       "      <td>F/M</td>\n",
       "      <td>Game of Thrones (TV), A Song of Ice and Fire -...</td>\n",
       "      <td>Jon Snow/Daenerys Targaryen, Arya Stark/Gendry...</td>\n",
       "      <td>Jon Snow | Aegon Targaryen, Arya Stark, Sansa ...</td>\n",
       "      <td>Armies and Allies, War, Romance, Eventual Happ...</td>\n",
       "      <td>English</td>\n",
       "      <td>...</td>\n",
       "      <td>Updated</td>\n",
       "      <td>2019-03-03</td>\n",
       "      <td>24204.0</td>\n",
       "      <td>17/?</td>\n",
       "      <td>77.0</td>\n",
       "      <td>403.0</td>\n",
       "      <td>79.0</td>\n",
       "      <td>14888.0</td>\n",
       "      <td>Arya's chambers still felt different.\\n\\n \\n\\n...</td>\n",
       "      <td>2018-12</td>\n",
       "    </tr>\n",
       "  </tbody>\n",
       "</table>\n",
       "<p>2 rows × 21 columns</p>\n",
       "</div>"
      ],
      "text/plain": [
       "   Unnamed: 0   work_id            title                 rating category  \\\n",
       "0           0  19289563  game of thrones               Explicit    Multi   \n",
       "1           1  17179712  Game of Thrones  Teen And Up Audiences      F/M   \n",
       "\n",
       "                                              fandom  \\\n",
       "0            game of thrones, A Song of Ice and Fire   \n",
       "1  Game of Thrones (TV), A Song of Ice and Fire -...   \n",
       "\n",
       "                                        relationship  \\\n",
       "0  Gendry Baratheon/Arya Stark, gendry baratheon/...   \n",
       "1  Jon Snow/Daenerys Targaryen, Arya Stark/Gendry...   \n",
       "\n",
       "                                           character  \\\n",
       "0  Arya Stark, Bella, Gendry Baratheon - Characte...   \n",
       "1  Jon Snow | Aegon Targaryen, Arya Stark, Sansa ...   \n",
       "\n",
       "                                     additional tags language  ...   status  \\\n",
       "0                                                NaN  English  ...  Updated   \n",
       "1  Armies and Allies, War, Romance, Eventual Happ...  English  ...  Updated   \n",
       "\n",
       "  status date    words  chapters comments  kudos  bookmarks     hits  \\\n",
       "0  2019-06-20    853.0       2/?      NaN   17.0        2.0    820.0   \n",
       "1  2019-03-03  24204.0      17/?     77.0  403.0       79.0  14888.0   \n",
       "\n",
       "                                                body    month  \n",
       "0  authors note: this is really short but i promi...  2019-06  \n",
       "1  Arya's chambers still felt different.\\n\\n \\n\\n...  2018-12  \n",
       "\n",
       "[2 rows x 21 columns]"
      ]
     },
     "execution_count": 3,
     "metadata": {},
     "output_type": "execute_result"
    }
   ],
   "source": [
    "got_all[:2]"
   ]
  },
  {
   "cell_type": "code",
   "execution_count": 4,
   "metadata": {},
   "outputs": [
    {
     "data": {
      "text/plain": [
       "29897"
      ]
     },
     "execution_count": 4,
     "metadata": {},
     "output_type": "execute_result"
    }
   ],
   "source": [
    "len(got_all.index)"
   ]
  },
  {
   "cell_type": "code",
   "execution_count": 5,
   "metadata": {},
   "outputs": [
    {
     "data": {
      "text/plain": [
       "1018"
      ]
     },
     "execution_count": 5,
     "metadata": {},
     "output_type": "execute_result"
    }
   ],
   "source": [
    "gotMiss = got_all[got_all['character'].str.contains(\"Missandei\", na=False)]\n",
    "len(gotMiss.index)"
   ]
  },
  {
   "cell_type": "code",
   "execution_count": 164,
   "metadata": {},
   "outputs": [],
   "source": [
    "def character_percentage(df, characterName):\n",
    "    dfcount = len(df.index)\n",
    "    df1 = df[df['character'].str.contains(characterName, na=False)]\n",
    "    df1count = len(df1.index)\n",
    "    percentage = (df1count * 100)/dfcount\n",
    "    \n",
    "    print(percentage)"
   ]
  },
  {
   "cell_type": "code",
   "execution_count": 172,
   "metadata": {},
   "outputs": [
    {
     "name": "stdout",
     "output_type": "stream",
     "text": [
      "16.760879017961667\n"
     ]
    }
   ],
   "source": [
    "character_percentage(got_all, 'Brienne')"
   ]
  },
  {
   "cell_type": "code",
   "execution_count": 166,
   "metadata": {},
   "outputs": [
    {
     "name": "stdout",
     "output_type": "stream",
     "text": [
      "12.272134327858982\n"
     ]
    }
   ],
   "source": [
    "character_percentage(got_all, 'Gendry')"
   ]
  },
  {
   "cell_type": "code",
   "execution_count": 170,
   "metadata": {},
   "outputs": [
    {
     "name": "stdout",
     "output_type": "stream",
     "text": [
      "5.000501722580861\n"
     ]
    }
   ],
   "source": [
    "character_percentage(got_all, 'Tormund')"
   ]
  },
  {
   "cell_type": "code",
   "execution_count": 171,
   "metadata": {},
   "outputs": [
    {
     "name": "stdout",
     "output_type": "stream",
     "text": [
      "5.301535271097435\n"
     ]
    }
   ],
   "source": [
    "character_percentage(got_all, 'Lyanna')"
   ]
  },
  {
   "cell_type": "code",
   "execution_count": 169,
   "metadata": {},
   "outputs": [
    {
     "name": "stdout",
     "output_type": "stream",
     "text": [
      "4.642606281566712\n"
     ]
    }
   ],
   "source": [
    "character_percentage(got_all, 'Podrick')"
   ]
  },
  {
   "cell_type": "code",
   "execution_count": 182,
   "metadata": {},
   "outputs": [
    {
     "name": "stdout",
     "output_type": "stream",
     "text": [
      "1.7526842158076061\n"
     ]
    }
   ],
   "source": [
    "character_percentage(got_all, 'Gilly')"
   ]
  },
  {
   "cell_type": "markdown",
   "metadata": {},
   "source": [
    "### Top Characters and Relationships - Functions for Tag Analyzing\n",
    "\n",
    "I created functions to pull tags from the dataframe and count the top tags. I wil use this function specifically on the Missandei corpus to see which are the most popular characters and relationships used in this corpus."
   ]
  },
  {
   "cell_type": "code",
   "execution_count": 6,
   "metadata": {},
   "outputs": [],
   "source": [
    "def column_to_string(df,columnName):\n",
    "    '''\n",
    "    this function takes all the information from a specific column, joins it to a string, and then tokenizes & cleans that string.\n",
    "    input: the name of the dataframe and the column name\n",
    "    output: the tokenized list of the text with all lower case, punctuation removed, and no stop words\n",
    "    '''\n",
    "    df[columnName] = df[columnName].replace(np.nan,'',regex=True) \n",
    "    string = ' '.join(df[columnName].tolist())\n",
    "    return string"
   ]
  },
  {
   "cell_type": "code",
   "execution_count": 7,
   "metadata": {},
   "outputs": [],
   "source": [
    "def TagsAnalyzer(df, columnName):\n",
    "    '''\n",
    "    Input: the dataframe, the column you want to analyze, and the number of most common tags/phrases\n",
    "    Output: A tupple of the most common tags in a column\n",
    "    \n",
    "    Description: this separates tags by commas, counts the most frequent tags, and will show you the most common\n",
    "    '''\n",
    "     #replace empty values & make a list of all the words using the column_to_string function\n",
    "    string = column_to_string(df, columnName)\n",
    "    \n",
    "    #the function to tokenize, or put each value as an element in a list\n",
    "    class CommaPoint(PunktLanguageVars):\n",
    "        sent_end_chars = (',') \n",
    "    tokenizer = PunktSentenceTokenizer(lang_vars = CommaPoint())\n",
    "    \n",
    "    #tokenizing the list of strings based on the COMMA, not the white space (as seen in the CommaPoint above)\n",
    "    ListOfTags = tokenizer.tokenize(string)\n",
    "        \n",
    "    #the \"Counter\" function is from the collections library\n",
    "    allCounter=collections.Counter(ListOfTags)\n",
    "\n",
    "    #returning a dictionary in which the keys are all the tags, and the items are the counts\n",
    "    return allCounter.most_common()"
   ]
  },
  {
   "cell_type": "markdown",
   "metadata": {},
   "source": [
    "#### Character Tags\n",
    "Missandei is, of course, the most popular tag, which makes sense. Then it's Dany, Tyrion, Sansa, Arya, then Grey Worm. I'm unsurprised, yet still disappointed to see Grey Worm so far down.\n",
    "\n",
    "Because Dany appears in second, this may support Ebony Elizabeth Thomas's observation that Missandei is often only depicted as Dany's friend and confidant, not her own person.\n",
    "\n",
    "After I created the list of tupples (\"MissCharacters), I also wanted to visualize the results. I put the list of tupples into a dataframe, as Seaborn (the graphing library) works best with dataframes. Then I visualized the top 5 characters used."
   ]
  },
  {
   "cell_type": "code",
   "execution_count": 8,
   "metadata": {},
   "outputs": [
    {
     "name": "stderr",
     "output_type": "stream",
     "text": [
      "C:\\Users\\caram\\Anaconda3\\lib\\site-packages\\ipykernel_launcher.py:7: SettingWithCopyWarning: \n",
      "A value is trying to be set on a copy of a slice from a DataFrame.\n",
      "Try using .loc[row_indexer,col_indexer] = value instead\n",
      "\n",
      "See the caveats in the documentation: https://pandas.pydata.org/pandas-docs/stable/user_guide/indexing.html#returning-a-view-versus-a-copy\n",
      "  import sys\n"
     ]
    },
    {
     "data": {
      "text/plain": [
       "[('Missandei (ASoIaF),', 744),\n",
       " ('Daenerys Targaryen,', 682),\n",
       " ('Tyrion Lannister,', 533),\n",
       " ('Sansa Stark,', 518),\n",
       " ('Arya Stark,', 473),\n",
       " ('Grey Worm,', 396),\n",
       " ('Jon Snow,', 369),\n",
       " ('Bran Stark,', 316),\n",
       " ('Jaime Lannister,', 286),\n",
       " ('Davos Seaworth,', 284),\n",
       " ('Brienne of Tarth,', 271),\n",
       " ('Jorah Mormont,', 266),\n",
       " ('Cersei Lannister,', 260),\n",
       " ('Gendry Waters,', 250),\n",
       " ('Samwell Tarly,', 234),\n",
       " ('Theon Greyjoy,', 224),\n",
       " ('Tormund Giantsbane,', 208),\n",
       " ('Varys (ASoIaF),', 196),\n",
       " ('Robb Stark,', 190),\n",
       " ('Sandor Clegane,', 180),\n",
       " ('Margaery Tyrell,', 176),\n",
       " ('Podrick Payne,', 139),\n",
       " ('Yara Greyjoy,', 137),\n",
       " ('Ned Stark,', 125),\n",
       " ('Daario Naharis,', 118),\n",
       " ('Ghost (ASoIaF),', 112),\n",
       " ('Melisandre of Asshai,', 112),\n",
       " ('Catelyn Tully Stark,', 101),\n",
       " ('Rickon Stark,', 98),\n",
       " ('Gilly (ASoIaF),', 93),\n",
       " ('Olenna Tyrell,', 93),\n",
       " ('Petyr Baelish,', 92),\n",
       " ('Drogon (ASoIaF),', 84),\n",
       " ('Lyanna Mormont,', 82),\n",
       " ('Barristan Selmy,', 80),\n",
       " ('Bronn (ASoIaF),', 79),\n",
       " ('Meera Reed,', 77),\n",
       " ('Euron Greyjoy,', 73),\n",
       " ('Joffrey Baratheon,', 70),\n",
       " ('Loras Tyrell,', 69),\n",
       " ('Ellaria Sand,', 68),\n",
       " ('Missandei,', 68),\n",
       " ('Ramsay Bolton,', 68),\n",
       " ('Jon Snow | Aegon Targaryen,', 65),\n",
       " ('Khal Drogo,', 59),\n",
       " ('Rhaegal (ASoIaF),', 57),\n",
       " ('Oberyn Martell,', 57),\n",
       " ('Myrcella Baratheon,', 55),\n",
       " ('Tywin Lannister,', 54),\n",
       " ('Arianne Martell,', 53),\n",
       " ('Beric Dondarrion,', 51),\n",
       " ('Rhaegar Targaryen,', 50),\n",
       " ('Robert Baratheon,', 50),\n",
       " ('Gregor Clegane,', 49),\n",
       " ('Lyanna Stark,', 46),\n",
       " ('Renly Baratheon,', 45),\n",
       " ('Shireen Baratheon,', 44),\n",
       " ('Edd Tollett,', 44),\n",
       " ('Stannis Baratheon,', 43),\n",
       " ('Viserion (ASoIaF),', 42),\n",
       " ('Tommen Baratheon,', 42),\n",
       " ('Ygritte (ASoIaF),', 42),\n",
       " ('Missandei (ASoIaF) Jon Snow,', 40),\n",
       " ('Viserys Targaryen,', 40),\n",
       " ('Asha Greyjoy,', 39),\n",
       " ('Night King (Game of Thrones),', 33),\n",
       " ('Willas Tyrell,', 32),\n",
       " ('Edmure Tully,', 30),\n",
       " ('Tyene Sand,', 30),\n",
       " ('Roose Bolton,', 30),\n",
       " (\"Jaqen H'ghar,\", 30),\n",
       " ('Missandei (ASoIaF) Daenerys Targaryen,', 30),\n",
       " ('Howland Reed,', 29),\n",
       " ('Ygritte,', 29),\n",
       " ('Talisa Maegyr,', 29),\n",
       " ('Thoros of Myr,', 27),\n",
       " ('Jojen Reed,', 27),\n",
       " ('Wyman Manderly,', 27),\n",
       " ('Irri (ASoIaF),', 27),\n",
       " ('Drogon,', 26),\n",
       " ('Doran Martell,', 25),\n",
       " ('Benjen Stark,', 25),\n",
       " ('Original Characters,', 25),\n",
       " ('Kinvara (Game of Thrones),', 24),\n",
       " ('Viserys III Targaryen,', 24),\n",
       " ('Val (ASoIaF),', 24),\n",
       " ('Rhaella Targaryen,', 24),\n",
       " ('Grey Worm Jon Snow,', 24),\n",
       " ('Grenn (ASoIaF),', 23),\n",
       " ('Obara Sand,', 23),\n",
       " ('Nymeria Sand,', 23),\n",
       " ('Varys,', 22),\n",
       " ('Elia Martell,', 22),\n",
       " ('Yohn Royce,', 22),\n",
       " ('Aegon VI Targaryen,', 22),\n",
       " ('Rhaegal,', 21),\n",
       " ('Qyburn (ASoIaF),', 21),\n",
       " ('Pypar (ASoIaF),', 21),\n",
       " ('Jon Connington,', 21),\n",
       " ('Nymeria,', 20)]"
      ]
     },
     "execution_count": 8,
     "metadata": {},
     "output_type": "execute_result"
    }
   ],
   "source": [
    "MissCharacters = TagsAnalyzer(gotMiss,'character')\n",
    "MissCharacters[:100]"
   ]
  },
  {
   "cell_type": "code",
   "execution_count": 79,
   "metadata": {},
   "outputs": [
    {
     "data": {
      "text/html": [
       "<div>\n",
       "<style scoped>\n",
       "    .dataframe tbody tr th:only-of-type {\n",
       "        vertical-align: middle;\n",
       "    }\n",
       "\n",
       "    .dataframe tbody tr th {\n",
       "        vertical-align: top;\n",
       "    }\n",
       "\n",
       "    .dataframe thead th {\n",
       "        text-align: right;\n",
       "    }\n",
       "</style>\n",
       "<table border=\"1\" class=\"dataframe\">\n",
       "  <thead>\n",
       "    <tr style=\"text-align: right;\">\n",
       "      <th></th>\n",
       "      <th>Character</th>\n",
       "      <th>Count</th>\n",
       "    </tr>\n",
       "  </thead>\n",
       "  <tbody>\n",
       "    <tr>\n",
       "      <th>0</th>\n",
       "      <td>Missandei (ASoIaF),</td>\n",
       "      <td>744</td>\n",
       "    </tr>\n",
       "    <tr>\n",
       "      <th>1</th>\n",
       "      <td>Daenerys Targaryen,</td>\n",
       "      <td>682</td>\n",
       "    </tr>\n",
       "    <tr>\n",
       "      <th>2</th>\n",
       "      <td>Tyrion Lannister,</td>\n",
       "      <td>533</td>\n",
       "    </tr>\n",
       "    <tr>\n",
       "      <th>3</th>\n",
       "      <td>Sansa Stark,</td>\n",
       "      <td>518</td>\n",
       "    </tr>\n",
       "    <tr>\n",
       "      <th>4</th>\n",
       "      <td>Arya Stark,</td>\n",
       "      <td>473</td>\n",
       "    </tr>\n",
       "  </tbody>\n",
       "</table>\n",
       "</div>"
      ],
      "text/plain": [
       "             Character  Count\n",
       "0  Missandei (ASoIaF),    744\n",
       "1  Daenerys Targaryen,    682\n",
       "2    Tyrion Lannister,    533\n",
       "3         Sansa Stark,    518\n",
       "4          Arya Stark,    473"
      ]
     },
     "execution_count": 79,
     "metadata": {},
     "output_type": "execute_result"
    }
   ],
   "source": [
    "MissCharactersDF = pd.DataFrame(MissCharacters, columns=[\"Character\", \"Count\"])\n",
    "MissCharactersDFtop5 = MissCharactersDF[:5]\n",
    "MissCharactersDFtop5"
   ]
  },
  {
   "cell_type": "code",
   "execution_count": 152,
   "metadata": {},
   "outputs": [
    {
     "data": {
      "image/png": "[encoded data removed]",
      "text/plain": [
       "<Figure size 432x288 with 1 Axes>"
      ]
     },
     "metadata": {
      "needs_background": "light"
     },
     "output_type": "display_data"
    }
   ],
   "source": [
    "MissCharaViz = sns.barplot(x=\"Count\", y=\"Character\", data=MissCharactersDFtop5, color=\"gray\").set_title(\"Top Character Tags Used in Missandei Fanfics\")\n",
    "MissCharaViz.figure.savefig(\"./images/MissCharacterTags.png\", bbox_inches=\"tight\")"
   ]
  },
  {
   "cell_type": "markdown",
   "metadata": {},
   "source": [
    "#### Relationship Tags\n",
    "\n",
    "The top relationship is Arya/Gendry, with Grey Worm/Missandei coming in next. In the top 20 relationships, Missandei only appears once and is paired with Grey Worm. "
   ]
  },
  {
   "cell_type": "code",
   "execution_count": 9,
   "metadata": {},
   "outputs": [
    {
     "name": "stderr",
     "output_type": "stream",
     "text": [
      "C:\\Users\\caram\\Anaconda3\\lib\\site-packages\\ipykernel_launcher.py:7: SettingWithCopyWarning: \n",
      "A value is trying to be set on a copy of a slice from a DataFrame.\n",
      "Try using .loc[row_indexer,col_indexer] = value instead\n",
      "\n",
      "See the caveats in the documentation: https://pandas.pydata.org/pandas-docs/stable/user_guide/indexing.html#returning-a-view-versus-a-copy\n",
      "  import sys\n"
     ]
    },
    {
     "data": {
      "text/plain": [
       "[('Arya Stark/Gendry Waters,', 113),\n",
       " ('Grey Worm/Missandei,', 76),\n",
       " ('Jaime Lannister/Brienne of Tarth,', 62),\n",
       " ('Jon Snow/Daenerys Targaryen,', 44),\n",
       " ('Catelyn Stark/Ned Stark,', 35),\n",
       " ('Gilly (ASoIaF)/Samwell Tarly,', 29),\n",
       " ('Jon Snow/Ygritte,', 28),\n",
       " ('Minor or Background Relationship(s),', 26),\n",
       " ('Cersei Lannister/Jaime Lannister,', 24),\n",
       " ('Khal Drogo/Daenerys Targaryen,', 24),\n",
       " ('Sandor Clegane/Sansa Stark,', 23),\n",
       " ('Tormund Giantsbane/Brienne of Tarth,', 23),\n",
       " ('Robb Stark/Margaery Tyrell,', 22),\n",
       " ('Talisa Maegyr/Robb Stark,', 21),\n",
       " ('Tyrion Lannister/Sansa Stark,', 18),\n",
       " ('Meera Reed/Bran Stark,', 18),\n",
       " ('Lyanna Stark/Rhaegar Targaryen,', 16),\n",
       " ('Renly Baratheon/Loras Tyrell,', 16),\n",
       " ('Sansa Stark/Margaery Tyrell,', 16),\n",
       " ('Jon Snow & Sansa Stark,', 15)]"
      ]
     },
     "execution_count": 9,
     "metadata": {},
     "output_type": "execute_result"
    }
   ],
   "source": [
    "MissRelations = TagsAnalyzer(gotMiss,'relationship')\n",
    "MissRelations[:20]"
   ]
  },
  {
   "cell_type": "markdown",
   "metadata": {},
   "source": [
    "### The Fanfic Texts\n",
    "\n",
    "Of course, looking at metadata does not provide the entire picture. How often does Missandei actually appear in the fanfics that use her in the character tags? How does that compare to other characters? What types of words are used to describe Missandei and other characters? \n",
    "\n",
    "To analyze this, I will begin with simple word frequency counts of the whole Missandei corpus with specific names.\n",
    "\n",
    "First, I will grab all the fanfic texts and put it into a string using the column_to_string function. Then, I will calculate how many words actually appear in the entire body of these fanfics using the len function. This will help to provide a ratio as I calculate how often particular names are used. \n",
    "\n",
    "Number of words that appear in the Missandei fanfic corpus: 194,504,308"
   ]
  },
  {
   "cell_type": "code",
   "execution_count": 10,
   "metadata": {},
   "outputs": [
    {
     "name": "stderr",
     "output_type": "stream",
     "text": [
      "C:\\Users\\caram\\Anaconda3\\lib\\site-packages\\ipykernel_launcher.py:7: SettingWithCopyWarning: \n",
      "A value is trying to be set on a copy of a slice from a DataFrame.\n",
      "Try using .loc[row_indexer,col_indexer] = value instead\n",
      "\n",
      "See the caveats in the documentation: https://pandas.pydata.org/pandas-docs/stable/user_guide/indexing.html#returning-a-view-versus-a-copy\n",
      "  import sys\n"
     ]
    },
    {
     "data": {
      "text/plain": [
       "\"Arya's chambers still felt different.\\n\\n \\n\\nEven though two whole lunar cycles had passed since her return to Winterfell, returning to her bed each night to rest still felt strange.\\n\\n \\n\\nNot because she wasn't content to be home. Every day, Arya was re-discovering little bits of Winterfell she had forgotten these past five years, and, to her surprise, they had started to refill a hollowness she had not realised was there. It was only when she closed the door to her room that a haunting quiet settled over her. Arya could still feel the previous tenant of her chambers, lingering like a ghost. She hadn't asked anyone who had taken it during the Bolton's occupation of Winterfell. She had a suspicion she wouldn't like the answer.\\n\\n \\n\\nArya supposed it would take time to feel normal again, but she wished it would hurry up because she was starting to lose sleep.\\n\\n \\n\\nIndeed, she appeared to be the only resident of Winterfell awake at this hour. She waved a gloved hand in front of the night watch's\""
      ]
     },
     "execution_count": 10,
     "metadata": {},
     "output_type": "execute_result"
    }
   ],
   "source": [
    "MissText = column_to_string(gotMiss,\"body\")\n",
    "MissText[:1000]"
   ]
  },
  {
   "cell_type": "code",
   "execution_count": 11,
   "metadata": {},
   "outputs": [
    {
     "data": {
      "text/plain": [
       "194504308"
      ]
     },
     "execution_count": 11,
     "metadata": {},
     "output_type": "execute_result"
    }
   ],
   "source": [
    "length = len(MissText)\n",
    "length"
   ]
  },
  {
   "cell_type": "code",
   "execution_count": 12,
   "metadata": {},
   "outputs": [
    {
     "data": {
      "text/plain": [
       "['Name', 'Frequency']"
      ]
     },
     "execution_count": 12,
     "metadata": {},
     "output_type": "execute_result"
    }
   ],
   "source": [
    "df = [\"Name\", \"Frequency\"]\n",
    "df"
   ]
  },
  {
   "cell_type": "code",
   "execution_count": 13,
   "metadata": {},
   "outputs": [],
   "source": [
    "def WordPercentage(word, string):\n",
    "    '''\n",
    "    Description: This function finds the percentage for how often a word appears in a string. It's really just a simple word search function\n",
    "    Input: Input a string and a word that you would like to calculate how often it appears in that string.\n",
    "    Output: A percentage for how often that word appears in the string.\n",
    "    '''\n",
    "    #first, find the length of the string, or how many words appear, using the len() function\n",
    "    length = len(string)\n",
    "    \n",
    "    #using the count() function, an NLTK function, count how often the word appears\n",
    "    count = string.count(word)\n",
    "    \n",
    "    #calculate the percentage\n",
    "    percent = (count * 100)/length\n",
    "    \n",
    "    return(percent)"
   ]
  },
  {
   "cell_type": "code",
   "execution_count": 15,
   "metadata": {},
   "outputs": [
    {
     "name": "stdout",
     "output_type": "stream",
     "text": [
      "0.01741658081938216\n"
     ]
    }
   ],
   "source": [
    "print(WordPercentage(\"Missandei\",MissText) + WordPercentage(\"Missy\",MissText))"
   ]
  },
  {
   "cell_type": "code",
   "execution_count": 129,
   "metadata": {},
   "outputs": [
    {
     "data": {
      "text/plain": [
       "0.033672261901777516"
      ]
     },
     "execution_count": 129,
     "metadata": {},
     "output_type": "execute_result"
    }
   ],
   "source": [
    "WordPercentage(\"Arya\",MissText)"
   ]
  },
  {
   "cell_type": "code",
   "execution_count": 131,
   "metadata": {},
   "outputs": [
    {
     "name": "stdout",
     "output_type": "stream",
     "text": [
      "0.08329070017307791\n"
     ]
    }
   ],
   "source": [
    "print(WordPercentage(\"Dany\",MissText) + WordPercentage(\"Daenerys\",MissText))"
   ]
  },
  {
   "cell_type": "code",
   "execution_count": 60,
   "metadata": {},
   "outputs": [
    {
     "name": "stdout",
     "output_type": "stream",
     "text": [
      "0.051355160729910414\n"
     ]
    }
   ],
   "source": [
    "WordPercentage(\"Sansa\",MissText)"
   ]
  },
  {
   "cell_type": "code",
   "execution_count": 59,
   "metadata": {},
   "outputs": [
    {
     "name": "stdout",
     "output_type": "stream",
     "text": [
      "0.028398342724624895\n"
     ]
    }
   ],
   "source": [
    "WordPercentage(\"Tyrion\",MissText)"
   ]
  },
  {
   "cell_type": "code",
   "execution_count": 106,
   "metadata": {},
   "outputs": [
    {
     "name": "stdout",
     "output_type": "stream",
     "text": [
      "0.011530850000504873\n"
     ]
    }
   ],
   "source": [
    "WordPercentage(\"Grey\",MissText)"
   ]
  },
  {
   "cell_type": "code",
   "execution_count": 107,
   "metadata": {},
   "outputs": [
    {
     "name": "stdout",
     "output_type": "stream",
     "text": [
      "0.005049245490233564\n"
     ]
    }
   ],
   "source": [
    "WordPercentage(\"Westeros\",MissText)"
   ]
  },
  {
   "cell_type": "code",
   "execution_count": 108,
   "metadata": {},
   "outputs": [
    {
     "name": "stdout",
     "output_type": "stream",
     "text": [
      "0.0005388055466617222\n"
     ]
    }
   ],
   "source": [
    "WordPercentage(\"Naath\",MissText)"
   ]
  },
  {
   "cell_type": "markdown",
   "metadata": {},
   "source": [
    "#### Visualizing"
   ]
  },
  {
   "cell_type": "code",
   "execution_count": 16,
   "metadata": {},
   "outputs": [
    {
     "name": "stdout",
     "output_type": "stream",
     "text": [
      "33876\n",
      "162004\n",
      "65494\n",
      "99888\n",
      "22428\n"
     ]
    }
   ],
   "source": [
    "print((MissText.count(\"Missandei\")) + MissText.count(\"Missy\"))\n",
    "print((MissText.count(\"Daenerys\")) + MissText.count(\"Dany\"))\n",
    "print(MissText.count(\"Arya\"))\n",
    "print(MissText.count(\"Sansa\"))\n",
    "print(MissText.count(\"Grey\"))"
   ]
  },
  {
   "cell_type": "code",
   "execution_count": 17,
   "metadata": {},
   "outputs": [
    {
     "data": {
      "text/html": [
       "<div>\n",
       "<style scoped>\n",
       "    .dataframe tbody tr th:only-of-type {\n",
       "        vertical-align: middle;\n",
       "    }\n",
       "\n",
       "    .dataframe tbody tr th {\n",
       "        vertical-align: top;\n",
       "    }\n",
       "\n",
       "    .dataframe thead th {\n",
       "        text-align: right;\n",
       "    }\n",
       "</style>\n",
       "<table border=\"1\" class=\"dataframe\">\n",
       "  <thead>\n",
       "    <tr style=\"text-align: right;\">\n",
       "      <th></th>\n",
       "      <th>Character</th>\n",
       "      <th>Frequency</th>\n",
       "    </tr>\n",
       "  </thead>\n",
       "  <tbody>\n",
       "    <tr>\n",
       "      <th>1</th>\n",
       "      <td>Dany</td>\n",
       "      <td>0.083291</td>\n",
       "    </tr>\n",
       "    <tr>\n",
       "      <th>3</th>\n",
       "      <td>Sansa</td>\n",
       "      <td>0.051355</td>\n",
       "    </tr>\n",
       "    <tr>\n",
       "      <th>2</th>\n",
       "      <td>Arya</td>\n",
       "      <td>0.033672</td>\n",
       "    </tr>\n",
       "    <tr>\n",
       "      <th>5</th>\n",
       "      <td>Tyrion</td>\n",
       "      <td>0.028398</td>\n",
       "    </tr>\n",
       "    <tr>\n",
       "      <th>0</th>\n",
       "      <td>Missandei</td>\n",
       "      <td>0.017417</td>\n",
       "    </tr>\n",
       "    <tr>\n",
       "      <th>4</th>\n",
       "      <td>Grey Worm</td>\n",
       "      <td>0.011531</td>\n",
       "    </tr>\n",
       "  </tbody>\n",
       "</table>\n",
       "</div>"
      ],
      "text/plain": [
       "   Character  Frequency\n",
       "1       Dany   0.083291\n",
       "3      Sansa   0.051355\n",
       "2       Arya   0.033672\n",
       "5     Tyrion   0.028398\n",
       "0  Missandei   0.017417\n",
       "4  Grey Worm   0.011531"
      ]
     },
     "execution_count": 17,
     "metadata": {},
     "output_type": "execute_result"
    }
   ],
   "source": [
    "useData = {'Character': [\"Missandei\", \"Dany\", \"Arya\", \"Sansa\", \"Grey Worm\",\"Tyrion\"], 'Frequency': [0.01741658081938216, 0.08329070017307791, 0.033672261901777516, 0.051355160729910414, 0.011530850000504873, 0.028398342724624895]}\n",
    "dfUseData = pd.DataFrame.from_dict(useData).sort_values(\"Frequency\", ascending=False)\n",
    "dfUseData"
   ]
  },
  {
   "cell_type": "code",
   "execution_count": 18,
   "metadata": {},
   "outputs": [
    {
     "data": {
      "image/png": "[encoded data removed]",
      "text/plain": [
       "<Figure size 432x288 with 1 Axes>"
      ]
     },
     "metadata": {
      "needs_background": "light"
     },
     "output_type": "display_data"
    }
   ],
   "source": [
    "MissCharaUse = sns.barplot(x=\"Frequency\", y=\"Character\", data=dfUseData, color=\"gray\").set_title(\"Character Name Frequency in Missandei Fanfics (total words, n = 194,504,308)\")\n",
    "MissCharaUse.figure.savefig(\"./images/MissCharacterFrequency.png\", bbox_inches=\"tight\")"
   ]
  }
 ],
 "metadata": {
  "kernelspec": {
   "display_name": "Python 3",
   "language": "python",
   "name": "python3"
  },
  "language_info": {
   "codemirror_mode": {
    "name": "ipython",
    "version": 3
   },
   "file_extension": ".py",
   "mimetype": "text/x-python",
   "name": "python",
   "nbconvert_exporter": "python",
   "pygments_lexer": "ipython3",
   "version": "3.7.7"
  }
 },
 "nbformat": 4,
 "nbformat_minor": 4
}
