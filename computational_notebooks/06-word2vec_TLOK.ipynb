{
 "cells": [
  {
   "cell_type": "markdown",
   "metadata": {},
   "source": [
    "# Computational Text Analysis: Word Embedding Models & Concordances\n",
    "\n",
    "[Cara Marta Messina](http://caramartamessina.com/)<br/>\n",
    "PhD Candidate in English, Writing & Rhetoric<br/>\n",
    "Northeastern University<br/>\n",
    "To be published in <em>The Journal of Writing Analytics</em>, Volume 3\n",
    "\n",
    "\n",
    "Using the corpora created in the text preparation notebooks, this notebook will use several computational text analysis methods, including some NLP (natural language processing) and word embedding models. The fourth notebook will then use concordances to \"fold\" the computational models back to the text (William Reed Quinn, forthcoming). "
   ]
  },
  {
   "cell_type": "code",
   "execution_count": 170,
   "metadata": {
    "collapsed": true
   },
   "outputs": [],
   "source": [
    "#pandas for working with dataframes\n",
    "import pandas as pd\n",
    "\n",
    "#nltk libraries\n",
    "import nltk\n",
    "from nltk import word_tokenize\n",
    "from nltk.util import ngrams\n",
    "\n",
    "#word2vec models\n",
    "import gensim\n",
    "from gensim.models.word2vec import LineSentence\n",
    "from gensim.models import Word2Vec as wv\n"
   ]
  },
  {
   "cell_type": "markdown",
   "metadata": {},
   "source": [
    "First, I created a function that reads in a text file of a string of words, tokenizes that string, and returns it as ready to be analyzed. Then, I used this function for each of the text corpora that I created."
   ]
  },
  {
   "cell_type": "code",
   "execution_count": 29,
   "metadata": {
    "collapsed": true
   },
   "outputs": [],
   "source": [
    "def read_txt(filePath):\n",
    "    '''\n",
    "    This function reads a file (specifically a text file) and tokenizes that file\n",
    "    Input: a .txt filepath of a string of words\n",
    "    Output: a tokenized list of words\n",
    "    '''\n",
    "    file = open(filePath, \"r\") \n",
    "    new_string = file.read() \n",
    "    file.close()\n",
    "    corpus_token = word_tokenize(new_string)\n",
    "    return corpus_token"
   ]
  },
  {
   "cell_type": "code",
   "execution_count": 183,
   "metadata": {
    "collapsed": true
   },
   "outputs": [],
   "source": [
    "preKorrasami = read_txt('../../../data/korra/korra2018/time/preKorrasami.txt')\n",
    "subtextKorrasami = read_txt('../../../data/korra/korra2018/time/subtextKorrasami.txt')\n",
    "postKorrasami = read_txt('../../../data/korra/korra2018/time/postKorrasami.txt')"
   ]
  },
  {
   "cell_type": "code",
   "execution_count": 31,
   "metadata": {},
   "outputs": [
    {
     "data": {
      "text/plain": [
       "list"
      ]
     },
     "execution_count": 31,
     "metadata": {},
     "output_type": "execute_result"
    }
   ],
   "source": [
    "type(preKorrasami)"
   ]
  },
  {
   "cell_type": "code",
   "execution_count": 32,
   "metadata": {},
   "outputs": [
    {
     "name": "stdout",
     "output_type": "stream",
     "text": [
      "['kato', 'listen', 'father', 'war', 'stori', 'listen', 'great', 'raptur', 'especi', 'enjoy']\n",
      "['rememb', 'day', 'though', 'yesterday', 'age', 'fourteen', 'fate', 'dark', 'day', 'day']\n",
      "['see', 'end', 'chapter', 'note', 'everyon', 'room', 'explod', 'bright', 'blind', 'purpl']\n"
     ]
    }
   ],
   "source": [
    "print(preKorrasami[:10])\n",
    "print(subtextKorrasami[:10])\n",
    "print(postKorrasami[:10])"
   ]
  },
  {
   "cell_type": "markdown",
   "metadata": {},
   "source": [
    "## Exploring The Corpora\n",
    "\n",
    "Using basic Natural Language Processing methods (parts of speech and word counters), I will use the functions below to explore trends in each corpus as a place to begin pulling together results.\n",
    "\n",
    "The below function (POS_tag) does several things:\n",
    "- counts all the words in the tokenized text to create a ratio\n",
    "- creates a frequent distribution list of the words, birgrams, and trigrams\n",
    "- tags the text using NLTK's parts of speech algorithm \n",
    "- counts the nouns, verbs, adjectives, and prepositions used (although most prepositions will probably be removed because the stop words have been removed)\n",
    "- using the printWordRatio function, the final output prints out the ratios of the most frequent: words, bigrams, trigrams, nouns, adjectives, & prepositions.\n",
    "    - the ratio is created by dividing the number of each with the overall wordcount.\n",
    "    \n",
    "Although I wound up not using this function or these results in the <em>Journal of Writing Analytics</em> article to be published, I want to still publish this function so others may use it, if they are interested. I have also used this function in other research.\n"
   ]
  },
  {
   "cell_type": "code",
   "execution_count": 33,
   "metadata": {
    "collapsed": true
   },
   "outputs": [],
   "source": [
    "def printWordRatio(freqDist,wordcount,stringName,num):\n",
    "    '''\n",
    "    This takes the frequent distribution list, which counts basic frequency, and then finds the most common words/nouns/nGrams/verbs/etc\n",
    "    input: the frequent distribution list (does basic frequency count), the wordcount from the overall text, a string that explains the output, the number of most common published\n",
    "    output: a printed list of the top most common words/nGrams and the ratio of their appearance (ratio found by dividing the number they appear with the overall wordcount of the corpus)\n",
    "    '''\n",
    "    print(\"Word count for text:\")\n",
    "    print(wordcount)\n",
    "    print(\"________________________\")\n",
    "    print(stringName)\n",
    "    for tup0,tup1 in freqDist.most_common(num):\n",
    "        print(tup0, tup1/wordcount)\n",
    "\n",
    "def POS_tag(text,num):\n",
    "    '''\n",
    "    This takes a tokenized text, tags it with parts of speech, and then counts the most frequent words used for particular parts of speech. \n",
    "    input: a tokenized text (could be clean or not)\n",
    "    output: a printed list of the most frequent words tagged in different parts of speech\n",
    "    '''\n",
    "    \n",
    "    #word count!\n",
    "    wordcount=(len(text))\n",
    "    \n",
    "    text_word_frequency = nltk.FreqDist(text)\n",
    "    \n",
    "    #do some bigram stuff\n",
    "    bigram = list(ngrams(text,2))\n",
    "    biGramFreq = nltk.FreqDist(bigram)\n",
    "    \n",
    "    #do some trigram stuff\n",
    "    triGram = list(ngrams(text,3))\n",
    "    triGramFreq = nltk.FreqDist(triGram)\n",
    "    \n",
    "    #then use parts of speech tag!\n",
    "    text_tagged = nltk.pos_tag(text)\n",
    "    \n",
    "    #count the number of nouns\n",
    "    text_nouns = [word for word,pos in text_tagged if pos=='NN' or pos=='NNS']\n",
    "    text_freq_nouns=nltk.FreqDist(text_nouns)\n",
    "    \n",
    "    #count the verbs\n",
    "    text_verbs = [word for word,pos in text_tagged if pos == 'VB' or pos=='VBD' or pos=='VBG' or pos=='VBN' or pos=='VBP' or pos=='VBZ']\n",
    "    text_freq_verbs=nltk.FreqDist(text_verbs)\n",
    "    \n",
    "    #count the adjectives\n",
    "    text_adj = [word for word,pos in text_tagged if pos == 'JJ' or pos == 'JJR' or pos == 'JJS']\n",
    "    text_freq_adj=nltk.FreqDist(text_adj)\n",
    "    \n",
    "    #count the prepositions\n",
    "    text_prep = [word for word,pos in text_tagged if pos == 'IN']\n",
    "    text_freq_prep=nltk.FreqDist(text_prep)\n",
    "    \n",
    "    printWordRatio(text_word_frequency,wordcount,\"Most frequent words:\",num)\n",
    "    printWordRatio(biGramFreq,wordcount,\"Most frequent bigrams:\",num)\n",
    "    printWordRatio(triGramFreq,wordcount,\"Most frequent trigrams:\",num)\n",
    "    printWordRatio(text_freq_nouns,wordcount,\"Most frequent nouns:\",num)\n",
    "    printWordRatio(text_freq_verbs,wordcount,\"Most frequent verbs:\",num)\n",
    "    printWordRatio(text_freq_adj,wordcount,\"Most frequent adjectives:\",num)\n",
    "    printWordRatio(text_freq_prep,wordcount,\"Most frequent prepositions:\",num)"
   ]
  },
  {
   "cell_type": "markdown",
   "metadata": {},
   "source": [
    "### Exploratory Results"
   ]
  },
  {
   "cell_type": "code",
   "execution_count": 34,
   "metadata": {},
   "outputs": [
    {
     "name": "stdout",
     "output_type": "stream",
     "text": [
      "Word count for text:\n",
      "4148808\n",
      "________________________\n",
      "Most frequent words:\n",
      "korra 0.01296468768860839\n",
      "back 0.007504806199756653\n",
      "like 0.007289322619894678\n",
      "look 0.006783153136997422\n",
      "hand 0.006463061197336681\n",
      "eye 0.005899043773536881\n",
      "mako 0.0058226362849281045\n",
      "said 0.005750085325712831\n",
      "one 0.005730320612571129\n",
      "go 0.005248013405296172\n",
      "know 0.0052393362141607905\n",
      "asami 0.004947204112602945\n",
      "bolin 0.004761608635540618\n",
      "get 0.004529734805756256\n",
      "say 0.004497918438259856\n",
      "time 0.004491169511821227\n",
      "want 0.004260500847472334\n",
      "face 0.00392184936010536\n",
      "head 0.0038264002576161634\n",
      "around 0.003810733106955058\n",
      "'d 0.0037847015335489135\n",
      "even 0.0036991347876305677\n",
      "think 0.0035653614242934354\n",
      "see 0.0033927817339341805\n",
      "still 0.0033346927599445433\n",
      "tri 0.0033231231717640343\n",
      "way 0.0032845578778290052\n",
      "feel 0.003279255149912939\n",
      "make 0.003229361300884495\n",
      "take 0.003177298154072206\n",
      "right 0.0030664229340089974\n",
      "away 0.0029854358167454363\n",
      "turn 0.0029039666333076876\n",
      "ask 0.0027839321559349093\n",
      "arm 0.0027663367405770527\n",
      "smile 0.0027562133509191076\n",
      "amon 0.0027125863621551057\n",
      "let 0.0026783596637877673\n",
      "come 0.0026747441674813584\n",
      "thing 0.0026438919323333353\n",
      "Word count for text:\n",
      "4148808\n",
      "________________________\n",
      "Most frequent bigrams:\n",
      "('republ', 'citi') 0.000739730544291276\n",
      "('look', 'like') 0.0004974922917618747\n",
      "('shook', 'head') 0.0003866170716986662\n",
      "('let', 'go') 0.0003764936820407211\n",
      "('korra', 'said') 0.00036709339164405776\n",
      "('first', 'time') 0.0003649240938602124\n",
      "('water', 'tribe') 0.0003535955387667976\n",
      "('arm', 'around') 0.0003499800424603886\n",
      "('close', 'eye') 0.0003290101638832166\n",
      "('feel', 'like') 0.0003261177668380894\n",
      "('gon', 'na') 0.0002971937963868176\n",
      "('fire', 'nation') 0.0002969527632997237\n",
      "('roll', 'eye') 0.0002841780096837453\n",
      "('air', 'templ') 0.0002709211898935791\n",
      "('shake', 'head') 0.00026899292519682764\n",
      "('korra', 'say') 0.0002497102782293131\n",
      "('make', 'sure') 0.00024802304661965556\n",
      "('felt', 'like') 0.0002453716826616223\n",
      "('korra', 'look') 0.00024344341796487086\n",
      "('even', 'though') 0.0002422382525294012\n",
      "('deep', 'breath') 0.00023862275622299223\n",
      "('turn', 'around') 0.00022994556508761072\n",
      "('one', 'hand') 0.00022898143273923497\n",
      "('avatar', 'korra') 0.00022199147321351096\n",
      "('come', 'back') 0.0002207863077780413\n",
      "('look', 'back') 0.00021885804308128986\n",
      "('go', 'back') 0.00021042188503300226\n",
      "('turn', 'back') 0.00020945775268462654\n",
      "('pull', 'away') 0.00020487812402984182\n",
      "('sound', 'like') 0.00020029849537505712\n",
      "('templ', 'island') 0.00019837023067830568\n",
      "('seem', 'like') 0.00019523680054608455\n",
      "('mako', 'said') 0.00018993407263001808\n",
      "('asami', 'said') 0.0001863185763236091\n",
      "('look', 'away') 0.00018511341088813945\n",
      "('take', 'care') 0.00017908758371079116\n",
      "('korra', 'ask') 0.00017595415357857003\n",
      "('wrap', 'around') 0.00017523105431728825\n",
      "('head', 'back') 0.00017330278962053678\n",
      "('open', 'eye') 0.00017016935948831568\n",
      "Word count for text:\n",
      "4148808\n",
      "________________________\n",
      "Most frequent trigrams:\n",
      "('air', 'templ', 'island') 0.00019716506524283602\n",
      "('wrap', 'arm', 'around') 0.00014028125668866817\n",
      "('took', 'deep', 'breath') 0.00010099286349235733\n",
      "('ba', 'sing', 'se') 9.520806940210296e-05\n",
      "('polar', 'bear', 'dog') 8.773604370219109e-05\n",
      "('take', 'deep', 'breath') 8.315641504740638e-05\n",
      "('southern', 'water', 'tribe') 6.628409895083118e-05\n",
      "('see', 'end', 'chapter') 6.48379004282676e-05\n",
      "('end', 'chapter', 'note') 6.48379004282676e-05\n",
      "('northern', 'water', 'tribe') 6.122240412185862e-05\n",
      "('.*.*', '.', '*') 5.6642775467073914e-05\n",
      "('arm', 'around', 'waist') 4.242182332853195e-05\n",
      "('close', 'door', 'behind') 3.9770459370498705e-05\n",
      "('arm', 'wrap', 'around') 3.9288393196310845e-05\n",
      "('arm', 'around', 'shoulder') 3.9047360109216915e-05\n",
      "('chief', 'bei', 'fong') 3.832426084793512e-05\n",
      "('back', 'republ', 'citi') 3.832426084793512e-05\n",
      "('korra', 'shook', 'head') 3.181636749639897e-05\n",
      "('arm', 'around', 'neck') 3.109326823511717e-05\n",
      "('cross', 'arm', 'chest') 2.9888102799647513e-05\n",
      "('korra', 'roll', 'eye') 2.9888102799647513e-05\n",
      "('put', 'arm', 'around') 2.916500353836572e-05\n",
      "('one', 'last', 'time') 2.795983810289606e-05\n",
      "('tripl', 'threat', 'triad') 2.7718805015802128e-05\n",
      "('long', 'time', 'ago') 2.7236738841614268e-05\n",
      "('lean', 'back', 'chair') 2.6754672667426404e-05\n",
      "('take', 'step', 'back') 2.627260649323854e-05\n",
      "('back', 'air', 'templ') 2.5308474144862813e-05\n",
      "('put', 'hand', 'shoulder') 2.5067441057768882e-05\n",
      "('hand', 'behind', 'back') 2.5067441057768882e-05\n",
      "('make', 'feel', 'better') 2.434434179648709e-05\n",
      "('lin', 'bei', 'fong') 2.313917636101743e-05\n",
      "('hundr', 'year', 'war') 2.2657110186829567e-05\n",
      "('white', 'lotu', 'guard') 2.2416077099735633e-05\n",
      "('korra', 'close', 'eye') 2.2416077099735633e-05\n",
      "('want', 'make', 'sure') 2.169297783845384e-05\n",
      "('spread', 'across', 'face') 2.048781240298418e-05\n",
      "('la', 'la', 'la') 2.024677931589025e-05\n",
      "('fire', 'lord', 'zuko') 1.9523680054608457e-05\n",
      "('turn', 'around', 'face') 1.9041613880420594e-05\n",
      "Word count for text:\n",
      "4148808\n",
      "________________________\n",
      "Most frequent nouns:\n",
      "korra 0.008216335872857939\n",
      "hand 0.006463061197336681\n",
      "eye 0.005899043773536881\n",
      "look 0.004599152334839308\n",
      "time 0.004491169511821227\n",
      "mako 0.004187708855169967\n",
      "bolin 0.0038760530735575133\n",
      "face 0.0036774418097921136\n",
      "head 0.003347708546647615\n",
      "way 0.0032845578778290052\n",
      "asami 0.003110049922772999\n",
      "thing 0.0026438919323333353\n",
      "arm 0.002482640797067495\n",
      "man 0.0022382332467542486\n",
      "tri 0.0021671284860615386\n",
      "water 0.0021008443871107074\n",
      "room 0.0018952431638195838\n",
      "avatar 0.0018928328329486446\n",
      "day 0.0018448672486169521\n",
      "lin 0.0018009992267658567\n",
      "moment 0.0017525515762599763\n",
      "feel 0.0017318227307698982\n",
      "ask 0.0016144396173551536\n",
      "shoulder 0.0016115472203100264\n",
      "breath 0.0015703305624169641\n",
      "door 0.0015469503529688528\n",
      "finger 0.0015312832023077472\n",
      "air 0.0015293549376109957\n",
      "place 0.0015240522096949293\n",
      "hair 0.0015192315479530506\n",
      "work 0.00151489295238536\n",
      "realli 0.0014951282392436575\n",
      "word 0.0014710249305342643\n",
      "smile 0.0014628298055730706\n",
      "tenzin 0.0014452343902152135\n",
      "side 0.001412453890370439\n",
      "fire 0.00140883839406403\n",
      "help 0.0014081152948027481\n",
      "night 0.0014032946330608696\n",
      "voic 0.001394376408838394\n",
      "Word count for text:\n",
      "4148808\n",
      "________________________\n",
      "Most frequent verbs:\n",
      "said 0.005750085325712831\n",
      "go 0.005088931567814177\n",
      "know 0.004484420585382597\n",
      "say 0.004435972934876717\n",
      "want 0.0036422509790764\n",
      "get 0.003465332693149454\n",
      "think 0.0030266524746384985\n",
      "make 0.0028412980306632652\n",
      "take 0.002840815964489077\n",
      "see 0.002584838825995322\n",
      "korra 0.002297045320005168\n",
      "look 0.0020622790931756783\n",
      "thought 0.0020029849537505713\n",
      "come 0.001996236027311941\n",
      "made 0.0019275415974901707\n",
      "got 0.0017513464108245068\n",
      "felt 0.0016503535473321495\n",
      "seem 0.0016276964371453198\n",
      "took 0.0016038341615230206\n",
      "turn 0.0015874439116006333\n",
      "feel 0.001447162654911965\n",
      "left 0.0013724423979128463\n",
      "need 0.0013377336333713203\n",
      "keep 0.001289044949778346\n",
      "find 0.001278198460859119\n",
      "let 0.0011670822077088166\n",
      "put 0.0011653949760991591\n",
      "came 0.0011475585276542082\n",
      "knew 0.0010289702488039938\n",
      "told 0.0010002873114398159\n",
      "found 0.0009337621794018909\n",
      "tell 0.0009024278780796797\n",
      "gave 0.0008826631649379773\n",
      "went 0.0008763963046735352\n",
      "done 0.0008684422127994354\n",
      "began 0.0008327693159095336\n",
      "run 0.0008055325770679192\n",
      "give 0.0007995067498905709\n",
      "set 0.0007821523676198079\n",
      "stand 0.0007652800515232327\n",
      "Word count for text:\n",
      "4148808\n",
      "________________________\n",
      "Most frequent adjectives:\n",
      "good 0.00228065507008278\n",
      "much 0.0018395645207008858\n",
      "open 0.0018091943517270503\n",
      "sure 0.0017725573224887726\n",
      "right 0.0017265200028538318\n",
      "last 0.0013442415267228562\n",
      "korra 0.0012073347332535033\n",
      "amon 0.0011791338620635132\n",
      "smile 0.0011641898106636893\n",
      "asami 0.0011608153474443744\n",
      "small 0.001158646049660529\n",
      "final 0.0011405685681284842\n",
      "sigh 0.0010810333956162831\n",
      "first 0.0010598224839520171\n",
      "hard 0.0010289702488039938\n",
      "mako 0.0009952256166108433\n",
      "next 0.000993297351914092\n",
      "close 0.0009732916056852956\n",
      "littl 0.0009470189991920571\n",
      "lean 0.0009340032124889848\n",
      "second 0.0008520519628770481\n",
      "new 0.0008481954334835451\n",
      "old 0.0008060146432421071\n",
      "enough 0.0007934809227132227\n",
      "long 0.0007874550955358744\n",
      "actual 0.0007626286875651994\n",
      "someth 0.0007433460405976849\n",
      "tri 0.0007423819082493092\n",
      "least 0.0007332226509397398\n",
      "notic 0.000711529673101286\n",
      "kiss 0.0006970676878756501\n",
      "live 0.0006777850409081356\n",
      "best 0.0006563330961567756\n",
      "give 0.0006459686734117365\n",
      "young 0.0006404249124085761\n",
      "bad 0.0006392197469731065\n",
      "light 0.0006223474308765313\n",
      "noatak 0.0006211422654410616\n",
      "deep 0.0006146343720895255\n",
      "wrong 0.0005922182949897898\n",
      "Word count for text:\n",
      "4148808\n",
      "________________________\n",
      "Most frequent prepositions:\n",
      "like 0.007046843334278183\n",
      "around 0.0032874502748741325\n",
      "though 0.0016966319000541843\n",
      "behind 0.0015611713051073947\n",
      "toward 0.0013095327621813302\n",
      "without 0.001137676171083357\n",
      "across 0.0010928440168838857\n",
      "onto 0.0009701581755530745\n",
      "laugh 0.0007018883496175287\n",
      "along 0.0006327118536215703\n",
      "past 0.0004439829464270219\n",
      "upon 0.0003875812040470419\n",
      "within 0.0003237074359671501\n",
      "de 0.00030948648382860813\n",
      "whisper 0.00029381933316750255\n",
      "near 0.00028008044720314847\n",
      "except 0.00022994556508761072\n",
      "although 0.00018535444397523336\n",
      "oh 0.0001841492785397637\n",
      "asami 0.00018222101384301226\n",
      "whether 0.00017547208740438218\n",
      "beyond 0.00016824109479156424\n",
      "next 0.0001465481169531104\n",
      "toss 0.00014413778608217108\n",
      "love 0.0001405222897757621\n",
      "accept 0.00013714782655644705\n",
      "ago 0.00013642472729516526\n",
      "allow 0.00011955241119859005\n",
      "unless 0.00011931137811149612\n",
      "among 0.000109187988453551\n",
      "beifong 0.0001053314590600481\n",
      "wind 9.978769805688767e-05\n",
      "bolin 9.520806940210296e-05\n",
      "aang 9.062844074731827e-05\n",
      "anyth 8.966430839894253e-05\n",
      "okay 8.677191135381536e-05\n",
      "blind 8.653087826672143e-05\n",
      "tear 8.195124961193673e-05\n",
      "wound 7.520232317330664e-05\n",
      "amon 7.447922391202486e-05\n"
     ]
    }
   ],
   "source": [
    "preKorra = POS_tag(preKorrasami,40)\n",
    "preKorra"
   ]
  },
  {
   "cell_type": "code",
   "execution_count": 35,
   "metadata": {},
   "outputs": [
    {
     "name": "stdout",
     "output_type": "stream",
     "text": [
      "Word count for text:\n",
      "1506803\n",
      "________________________\n",
      "Most frequent words:\n",
      "korra 0.022512564681647168\n",
      "asami 0.017359269924469223\n",
      "back 0.0070898451887871205\n",
      "look 0.006833010021880763\n",
      "said 0.006798499870255103\n",
      "like 0.006744743672530517\n",
      "hand 0.006082414224022649\n",
      "one 0.005538879335918498\n",
      "go 0.005427384999897133\n",
      "eye 0.005426721343135101\n",
      "know 0.005179841027659223\n",
      "time 0.004944242877137887\n",
      "want 0.004815493465303693\n",
      "get 0.0047298817430015735\n",
      "mako 0.004438536424469556\n",
      "bolin 0.003800098619394838\n",
      "around 0.003790143767964359\n",
      "even 0.003702541075376144\n",
      "'d 0.0035731280067799174\n",
      "face 0.003559191214777247\n",
      "see 0.003527999346961746\n",
      "kuvira 0.003472252178951064\n",
      "smile 0.0034709248654270003\n",
      "head 0.0033873041134109766\n",
      "ask 0.0033109835857773047\n",
      "think 0.003287091942344155\n",
      "avatar 0.0032625366421489737\n",
      "opal 0.003170288352226535\n",
      "still 0.0031663064116543437\n",
      "way 0.003133787230314779\n",
      "let 0.0031278143194564917\n",
      "tri 0.0031191867815500767\n",
      "feel 0.003095958794878959\n",
      "make 0.0030714034946837773\n",
      "turn 0.003009019759052776\n",
      "say 0.0028683245255020067\n",
      "lin 0.0028557150470234\n",
      "realli 0.0028411145982586974\n",
      "away 0.0028324870603522825\n",
      "take 0.0028119137007292924\n",
      "Word count for text:\n",
      "1506803\n",
      "________________________\n",
      "Most frequent bigrams:\n",
      "('republ', 'citi') 0.0008050156523447326\n",
      "('korra', 'said') 0.000761214306050625\n",
      "('asami', 'said') 0.0006517109403153564\n",
      "('look', 'like') 0.000511679363526619\n",
      "('shook', 'head') 0.0004658870469464157\n",
      "('let', 'go') 0.0004559321955159367\n",
      "('zhu', 'li') 0.00045394122522984093\n",
      "('korra', 'asami') 0.00042208570065230825\n",
      "('arm', 'around') 0.0004134581627458931\n",
      "('water', 'tribe') 0.00039885771398119065\n",
      "('first', 'time') 0.000395539430171031\n",
      "('korra', 'look') 0.00036501121911756214\n",
      "('asami', 'smile') 0.0003490834568287958\n",
      "('felt', 'like') 0.00034443785949457226\n",
      "('roll', 'eye') 0.0003338193513020614\n",
      "('korra', 'ask') 0.00032386449987158243\n",
      "('feel', 'like') 0.00031855524577532694\n",
      "('gon', 'na') 0.0003132459916790715\n",
      "('fire', 'nation') 0.00028802703472185815\n",
      "('air', 'templ') 0.00028669972119779426\n",
      "('even', 'though') 0.0002860360644357623\n",
      "('earth', 'kingdom') 0.0002780721832913792\n",
      "('deep', 'breath') 0.0002767448697673153\n",
      "('korra', 'smile') 0.0002720992724330918\n",
      "('spirit', 'world') 0.00026745367509886826\n",
      "('close', 'eye') 0.0002661263615748044\n",
      "('asami', 'korra') 0.00026479904805074055\n",
      "('asami', 'look') 0.00026347173452667666\n",
      "('make', 'sure') 0.0002628080777646447\n",
      "('turn', 'around') 0.0002555078533822935\n",
      "('asami', 'ask') 0.0002555078533822935\n",
      "('korra', 'hand') 0.00025019859928603804\n",
      "('rais', 'eyebrow') 0.00024422568842775066\n",
      "('avatar', 'korra') 0.00023493449375930364\n",
      "('look', 'korra') 0.0002342708369972717\n",
      "('turn', 'back') 0.00022829792613898432\n",
      "('come', 'back') 0.0002256432990908566\n",
      "('hand', 'korra') 0.00022497964232882467\n",
      "('korra', 'eye') 0.000221661358518665\n",
      "('eye', 'widen') 0.0002209977017566331\n",
      "Word count for text:\n",
      "1506803\n",
      "________________________\n",
      "Most frequent trigrams:\n",
      "('air', 'templ', 'island') 0.00019046949070316424\n",
      "('wrap', 'arm', 'around') 0.00018980583394113233\n",
      "('took', 'deep', 'breath') 0.0001572866526015677\n",
      "('see', 'end', 'chapter') 0.0001320676956443543\n",
      "('end', 'chapter', 'note') 0.0001320676956443543\n",
      "('ba', 'sing', 'se') 0.00012476747126200307\n",
      "('southern', 'water', 'tribe') 0.0001128216495454283\n",
      "('arm', 'around', 'asami') 6.636567620319312e-05\n",
      "('asami', 'shook', 'head') 6.636567620319312e-05\n",
      "('korra', 'shook', 'head') 6.304739239303347e-05\n",
      "('arm', 'around', 'korra') 6.105642210693767e-05\n",
      "('polar', 'bear', 'dog') 6.039276534490574e-05\n",
      "('asami', 'roll', 'eye') 5.972910858287381e-05\n",
      "('back', 'republ', 'citi') 5.972910858287381e-05\n",
      "('take', 'deep', 'breath') 5.508351124865029e-05\n",
      "('korra', 'roll', 'eye') 5.3756197724586424e-05\n",
      "('5', 'first', 'time') 4.8446943628330974e-05\n",
      "('hair', 'behind', 'ear') 4.7783286866299046e-05\n",
      "('arm', 'wrap', 'around') 4.579231658020325e-05\n",
      "('korra', 'rais', 'eyebrow') 4.446500305613939e-05\n",
      "('asami', 'bit', 'lip') 4.446500305613939e-05\n",
      "('asami', 'rais', 'eyebrow') 4.380134629410746e-05\n",
      "('3', 'crack', 'fic') 4.3137689532075525e-05\n",
      "('asami', 'eye', 'widen') 3.915574895988394e-05\n",
      "('ran', 'hand', 'hair') 3.849209219785201e-05\n",
      "('northern', 'water', 'tribe') 3.650112191175622e-05\n",
      "('took', 'step', 'back') 3.583746514972428e-05\n",
      "('korra', 'eye', 'widen') 3.5173808387692354e-05\n",
      "('korra', 'look', 'asami') 3.384649486362849e-05\n",
      "('korra', 'close', 'eye') 3.384649486362849e-05\n",
      "('lean', 'back', 'chair') 3.318283810159656e-05\n",
      "('korra', 'said', 'softli') 3.318283810159656e-05\n",
      "('water', 'tribe', 'girl') 3.2519181339564626e-05\n",
      "('close', 'door', 'behind') 3.2519181339564626e-05\n",
      "('asami', 'look', 'korra') 3.2519181339564626e-05\n",
      "('three', 'year', 'ago') 3.18555245775327e-05\n",
      "('make', 'feel', 'better') 3.119186781550077e-05\n",
      "('gon', 'na', 'go') 3.052821105346883e-05\n",
      "('long', 'time', 'ago') 3.052821105346883e-05\n",
      "('arm', 'around', 'waist') 2.9200897529404972e-05\n",
      "Word count for text:\n",
      "1506803\n",
      "________________________\n",
      "Most frequent nouns:\n",
      "korra 0.014269947697210584\n",
      "asami 0.011050548744593686\n",
      "hand 0.006082414224022649\n",
      "eye 0.005426721343135101\n",
      "time 0.004944242877137887\n",
      "look 0.004678116515563083\n",
      "face 0.0033620851564537635\n",
      "mako 0.003190198055087493\n",
      "way 0.003133787230314779\n",
      "bolin 0.0030800310325901927\n",
      "head 0.002952608934280062\n",
      "thing 0.00260485279097533\n",
      "avatar 0.002478758006189263\n",
      "arm 0.0023977918812213674\n",
      "kuvira 0.002121710668216084\n",
      "room 0.002092509770686679\n",
      "tri 0.0020400808864861563\n",
      "ask 0.001988979315809698\n",
      "day 0.001978360807617187\n",
      "lin 0.0019425233424674626\n",
      "woman 0.001880803263598493\n",
      "smile 0.001880803263598493\n",
      "moment 0.001783245719579799\n",
      "realli 0.0017726272113872882\n",
      "feel 0.0016843608620370413\n",
      "water 0.0016744060106065623\n",
      "help 0.0016551599645076363\n",
      "let 0.0016292773507883911\n",
      "shoulder 0.001580166750398028\n",
      "door 0.0015682209286814533\n",
      "girl 0.0015655663016333257\n",
      "place 0.001533710777055793\n",
      "work 0.0015303924932456334\n",
      "hair 0.0015071645065745157\n",
      "man 0.0014441171141814822\n",
      "move 0.0014388078600852268\n",
      "air 0.00142619838160662\n",
      "year 0.0014215527842723966\n",
      "world 0.001417570843700205\n",
      "tenzin 0.0014135889031280135\n",
      "Word count for text:\n",
      "1506803\n",
      "________________________\n",
      "Most frequent verbs:\n",
      "said 0.006798499870255103\n",
      "go 0.005264125436437278\n",
      "know 0.004401371645795768\n",
      "want 0.004139890881555187\n",
      "korra 0.003974640347809236\n",
      "get 0.0036872769698494097\n",
      "say 0.002826514149493995\n",
      "think 0.0027734216085314404\n",
      "see 0.0027236473513790457\n",
      "make 0.0026931191403255766\n",
      "take 0.002486721887333646\n",
      "made 0.0023393900861625573\n",
      "felt 0.00227833366405562\n",
      "took 0.0020872005165904236\n",
      "look 0.0020301260350556777\n",
      "got 0.001988315659047666\n",
      "thought 0.0019119951314139937\n",
      "come 0.0018535933363551839\n",
      "turn 0.0016372412319327742\n",
      "seem 0.0014447807709435142\n",
      "left 0.0013558507648312355\n",
      "let 0.001320676956443543\n",
      "feel 0.0013186859861574474\n",
      "need 0.0013180223293954153\n",
      "came 0.0012947943427242977\n",
      "knew 0.0012894850886280423\n",
      "put 0.0011448079145050813\n",
      "keep 0.0011414896306949217\n",
      "began 0.0010552142516307705\n",
      "went 0.001051895967820611\n",
      "find 0.0010392864893420041\n",
      "found 0.0010339772352457488\n",
      "gave 0.0010306589514355892\n",
      "told 0.0010160585026708867\n",
      "love 0.0010067673080024395\n",
      "asami 0.0009238102127484482\n",
      "tell 0.0009039005098874903\n",
      "saw 0.0008893000611227878\n",
      "held 0.0008508079689249358\n",
      "stood 0.0007924061738661259\n",
      "Word count for text:\n",
      "1506803\n",
      "________________________\n",
      "Most frequent adjectives:\n",
      "asami 0.004001186618290513\n",
      "opal 0.00264268122641115\n",
      "good 0.0021376384305048504\n",
      "korra 0.0020122073024808154\n",
      "much 0.0019624330453284207\n",
      "open 0.0017507265382402345\n",
      "sure 0.001706261535184095\n",
      "right 0.001446108084467578\n",
      "smile 0.001437480546561163\n",
      "last 0.0012662571019569247\n",
      "final 0.0012284286665211045\n",
      "next 0.0012191374718526576\n",
      "sigh 0.001177327095844646\n",
      "small 0.0011521081388874326\n",
      "first 0.001108970449355357\n",
      "lean 0.0010757876112537604\n",
      "new 0.001031322608197621\n",
      "second 0.0009404016317992465\n",
      "aita 0.0009390743182751826\n",
      "littl 0.000925801183034544\n",
      "kiss 0.0009204919289382885\n",
      "close 0.000916509988366097\n",
      "hard 0.0008713813285479257\n",
      "notic 0.0008441714013046165\n",
      "actual 0.0008348802066361694\n",
      "long 0.0008322255795880418\n",
      "best 0.0008070066226308283\n",
      "old 0.0007658599033848486\n",
      "mako 0.0007413046031896671\n",
      "young 0.0007366590058554436\n",
      "someth 0.0007346680355693478\n",
      "enough 0.0007207312435666773\n",
      "live 0.0007147583327083899\n",
      "tri 0.0006955122866094638\n",
      "great 0.0006729479567003782\n",
      "least 0.0006709569864142824\n",
      "deep 0.0006696296728902185\n",
      "bad 0.000665647732318027\n",
      "amon 0.0006231736995479834\n",
      "lin 0.0006231736995479834\n",
      "Word count for text:\n",
      "1506803\n",
      "________________________\n",
      "Most frequent prepositions:\n",
      "like 0.006471317086573361\n",
      "around 0.003267182239483197\n",
      "though 0.0014998642821921644\n",
      "toward 0.0013047491941547767\n",
      "behind 0.0012981126265344575\n",
      "without 0.001021367756767142\n",
      "across 0.0008999185693152987\n",
      "onto 0.0008023610252966048\n",
      "laugh 0.0007997063982484771\n",
      "asami 0.0006145461616415683\n",
      "along 0.0004619051063742241\n",
      "de 0.00043602249265497876\n",
      "past 0.0004327042088448191\n",
      "whisper 0.0003431105459705084\n",
      "within 0.00031789158901329506\n",
      "near 0.00031191867815500763\n",
      "upon 0.00023360718023523978\n",
      "oh 0.0002190067314705373\n",
      "except 0.00019246046098926004\n",
      "love 0.00018250560955878107\n",
      "although 0.00017520538517642984\n",
      "ago 0.00017321441489033404\n",
      "next 0.00017188710136627018\n",
      "whether 0.00016923247431814244\n",
      "okay 0.00014202254707483327\n",
      "beyond 0.0001274220983101308\n",
      "throughout 0.00011680359011761989\n",
      "allow 0.00011680359011761989\n",
      "accept 0.00010618508192510899\n",
      "unless 0.00010552142516307706\n",
      "anyth 9.423926020853423e-05\n",
      "bolin 9.357560344650229e-05\n",
      "aita 9.357560344650229e-05\n",
      "beifong 9.291194668447036e-05\n",
      "toss 9.092097639837458e-05\n",
      "among 8.893000611227878e-05\n",
      "wind 8.826634935024685e-05\n",
      "tear 8.229343849195946e-05\n",
      "blind 7.565687087164015e-05\n",
      "opal 6.902030325132084e-05\n"
     ]
    }
   ],
   "source": [
    "subtextKorra = POS_tag(subtextKorrasami,40)\n",
    "subtextKorra"
   ]
  },
  {
   "cell_type": "code",
   "execution_count": 36,
   "metadata": {},
   "outputs": [
    {
     "name": "stdout",
     "output_type": "stream",
     "text": [
      "Word count for text:\n",
      "6156530\n",
      "________________________\n",
      "Most frequent words:\n",
      "korra 0.024658046009684027\n",
      "asami 0.020027028212320903\n",
      "said 0.007534276613611888\n",
      "look 0.007326854575548239\n",
      "back 0.00732344356317601\n",
      "like 0.006636855501394454\n",
      "hand 0.005912746303518378\n",
      "one 0.005779067104359111\n",
      "go 0.005484420607062745\n",
      "know 0.0053780295068813115\n",
      "eye 0.005280572010531907\n",
      "time 0.004998107700279216\n",
      "get 0.004762260559113656\n",
      "want 0.004560685970830971\n",
      "even 0.003775990696057682\n",
      "kuvira 0.003775665837736517\n",
      "around 0.0037415557140142255\n",
      "mako 0.003593582748723713\n",
      "head 0.0035844867157311016\n",
      "think 0.0035710050954027676\n",
      "see 0.0035687310871546146\n",
      "face 0.0034881662235057734\n",
      "smile 0.003372191802849982\n",
      "still 0.0033172907465731506\n",
      "tri 0.0032677498525955366\n",
      "way 0.0032633642652598136\n",
      "avatar 0.0032594659654058373\n",
      "say 0.003249557786610315\n",
      "ask 0.0032175592419755933\n",
      "'d 0.0031863728431437838\n",
      "make 0.003169805068764385\n",
      "feel 0.0031628206148593446\n",
      "bolin 0.0031207514622685183\n",
      "turn 0.0030617896769771285\n",
      "take 0.003036288298765701\n",
      "right 0.0028646006760301664\n",
      "thing 0.00284819533081135\n",
      "let 0.0028236685275634162\n",
      "someth 0.0028209072318335165\n",
      "well 0.0028105117655562468\n",
      "Word count for text:\n",
      "6156530\n",
      "________________________\n",
      "Most frequent bigrams:\n",
      "('korra', 'said') 0.0008266019982035334\n",
      "('republ', 'citi') 0.0007832334123280485\n",
      "('asami', 'said') 0.0006802533245188442\n",
      "('korra', 'asami') 0.000612520364556008\n",
      "('look', 'like') 0.0005212351763087324\n",
      "('shook', 'head') 0.0004842013276959586\n",
      "('zhu', 'li') 0.0004141943594849696\n",
      "('let', 'go') 0.00040867176802517004\n",
      "('water', 'tribe') 0.0004075347639010936\n",
      "('korra', 'look') 0.0003982763017479002\n",
      "('korra', 'ask') 0.0003947028602150887\n",
      "('spirit', 'world') 0.000379596948280931\n",
      "('arm', 'around') 0.0003680644778795848\n",
      "('close', 'eye') 0.00036172974061687347\n",
      "('first', 'time') 0.0003417509538652455\n",
      "('asami', 'smile') 0.0003362283624054459\n",
      "('asami', 'korra') 0.0003360659332448636\n",
      "('asami', 'look') 0.00033314220835438147\n",
      "('deep', 'breath') 0.0003276196168945818\n",
      "('feel', 'like') 0.0003203103046683765\n",
      "('asami', 'ask') 0.0003065038260188775\n",
      "('look', 'korra') 0.00030536682189480114\n",
      "('earth', 'kingdom') 0.00029838236798976044\n",
      "('make', 'sure') 0.00029643321806277235\n",
      "('korra', 'smile') 0.0002949713556175313\n",
      "('roll', 'eye') 0.00029237248904821387\n",
      "('avatar', 'korra') 0.0002913979140847198\n",
      "('gon', 'na') 0.00028928633499714936\n",
      "('fire', 'nation') 0.0002855504643037555\n",
      "('felt', 'like') 0.00028327645605560274\n",
      "('even', 'though') 0.00027547985634765037\n",
      "('look', 'asami') 0.00027450528138415635\n",
      "('futur', 'industri') 0.0002736931355812446\n",
      "('korra', 'hand') 0.0002637849567857218\n",
      "('turn', 'around') 0.0002621606651798984\n",
      "('look', 'back') 0.00025939936944999864\n",
      "('look', 'around') 0.00025436406547194604\n",
      "('see', 'end') 0.00025306463218728733\n",
      "('turn', 'back') 0.0002512779114208816\n",
      "('end', 'chapter') 0.00025079062393913455\n",
      "Word count for text:\n",
      "6156530\n",
      "________________________\n",
      "Most frequent trigrams:\n",
      "('see', 'end', 'chapter') 0.000246242607442829\n",
      "('end', 'chapter', 'note') 0.000246242607442829\n",
      "('took', 'deep', 'breath') 0.00019199126780832708\n",
      "('air', 'templ', 'island') 0.00016632746043631722\n",
      "('wrap', 'arm', 'around') 0.00015885571904952954\n",
      "('ba', 'sing', 'se') 0.00013903936145848392\n",
      "('southern', 'water', 'tribe') 0.00011142640415948595\n",
      "('korra', 'shook', 'head') 8.283887189699393e-05\n",
      "('polar', 'bear', 'dog') 8.024000532767647e-05\n",
      "('asami', 'shook', 'head') 7.585441799195326e-05\n",
      "('take', 'deep', 'breath') 7.504227218904156e-05\n",
      "('water', 'tribe', 'girl') 6.643352667817748e-05\n",
      "('back', 'republ', 'citi') 5.9286643612554475e-05\n",
      "('arm', 'around', 'korra') 5.831206864906043e-05\n",
      "('arm', 'around', 'asami') 5.1652473065184444e-05\n",
      "('arm', 'wrap', 'around') 4.8728748174702305e-05\n",
      "('korra', 'roll', 'eye') 4.742931489004358e-05\n",
      "('asami', 'roll', 'eye') 4.71044565688789e-05\n",
      "('northern', 'water', 'tribe') 4.548016496305549e-05\n",
      "('put', 'arm', 'around') 4.3855873357232074e-05\n",
      "('korra', 'close', 'eye') 4.0120002663838234e-05\n",
      "('korra', 'look', 'asami') 3.9957573503255896e-05\n",
      "('rub', 'back', 'neck') 3.833328189743248e-05\n",
      "('took', 'step', 'back') 3.7358706933938434e-05\n",
      "('varrick', 'zhu', 'li') 3.7196277773356096e-05\n",
      "('asami', 'look', 'korra') 3.670899029160907e-05\n",
      "('wan', 'shi', 'tong') 3.3622836240544595e-05\n",
      "('close', 'door', 'behind') 3.2973119598215226e-05\n",
      "('asami', 'rais', 'eyebrow') 3.281069043763289e-05\n",
      "('korra', 'asami', 'said') 3.24858321164682e-05\n",
      "('make', 'feel', 'better') 3.24858321164682e-05\n",
      "('pinch', 'bridg', 'nose') 3.134882799239182e-05\n",
      "('korra', 'said', 'asami') 3.1023969671227134e-05\n",
      "('cross', 'arm', 'chest') 3.1023969671227134e-05\n",
      "('korra', 'rais', 'eyebrow') 3.0699111350062456e-05\n",
      "('long', 'time', 'ago') 3.0374253028897772e-05\n",
      "('hand', 'korra', 'shoulder') 2.9562107225986068e-05\n",
      "('place', 'hand', 'shoulder') 2.9399678065403726e-05\n",
      "('arm', 'around', 'waist') 2.9074819744239045e-05\n",
      "('korra', 'took', 'deep') 2.874996142307436e-05\n",
      "Word count for text:\n",
      "6156530\n",
      "________________________\n",
      "Most frequent nouns:\n",
      "korra 0.015561200871270017\n",
      "asami 0.012508344798124918\n",
      "hand 0.005912746303518378\n",
      "eye 0.005280572010531907\n",
      "look 0.005005254583344838\n",
      "time 0.004998107700279216\n",
      "face 0.0032758713106246537\n",
      "way 0.0032633642652598136\n",
      "head 0.003124649762122494\n",
      "thing 0.00284819533081135\n",
      "mako 0.002589932965485428\n",
      "bolin 0.0025631321539893413\n",
      "avatar 0.0025010842146468873\n",
      "arm 0.0023388174832251283\n",
      "kuvira 0.0022759573980797626\n",
      "tri 0.002162906702314453\n",
      "room 0.0019187756739591946\n",
      "ask 0.0018911627166601965\n",
      "day 0.0018750822297625448\n",
      "moment 0.0018172574485952313\n",
      "smile 0.0017997150992523387\n",
      "water 0.0017860710497634219\n",
      "place 0.0017630061089607294\n",
      "work 0.0017048564694722515\n",
      "feel 0.0016913748491439171\n",
      "help 0.0016049625357141117\n",
      "world 0.0016012266650207178\n",
      "door 0.0015674413996195908\n",
      "realli 0.0015549343542547508\n",
      "lin 0.001540803017284087\n",
      "woman 0.00153755443407244\n",
      "shoulder 0.0015058807477588837\n",
      "let 0.0014543907038542816\n",
      "spirit 0.0014413963710076944\n",
      "word 0.0014379853586354652\n",
      "air 0.0014353864920661477\n",
      "breath 0.001432625196336248\n",
      "side 0.0013619685114829294\n",
      "talk 0.0013471874578699365\n",
      "move 0.0013424770122130486\n",
      "Word count for text:\n",
      "6156530\n",
      "________________________\n",
      "Most frequent verbs:\n",
      "said 0.007534276613611888\n",
      "go 0.005317118571662933\n",
      "know 0.004565721274809024\n",
      "korra 0.004315742796672801\n",
      "want 0.0039276995320415885\n",
      "get 0.0036523821048545205\n",
      "say 0.003198230171866295\n",
      "think 0.0030371004445686124\n",
      "make 0.002769579617089497\n",
      "see 0.0027146785608126657\n",
      "take 0.0026867407451925027\n",
      "look 0.0021888953680076276\n",
      "made 0.0021229491288111972\n",
      "thought 0.002025004344980046\n",
      "come 0.0019878080672066896\n",
      "took 0.001961332114031768\n",
      "got 0.0019181259573168652\n",
      "felt 0.0018926245791054377\n",
      "turn 0.0016882886950928527\n",
      "seem 0.0015947294985974242\n",
      "need 0.0014238540216648015\n",
      "feel 0.0013705772569937936\n",
      "left 0.0013376041373955783\n",
      "put 0.0012898499641843702\n",
      "came 0.0012723076148414773\n",
      "let 0.00121074696298077\n",
      "keep 0.001125471653675041\n",
      "find 0.0011236849329086351\n",
      "began 0.0011162131915218474\n",
      "asami 0.0011032188586752602\n",
      "knew 0.001091199100792167\n",
      "told 0.0010471807982743526\n",
      "found 0.0010384096236029062\n",
      "gave 0.0009307190901368141\n",
      "went 0.0009183744739325562\n",
      "walk 0.0008821527711226941\n",
      "love 0.0008761428921811475\n",
      "tell 0.0008733815964512477\n",
      "done 0.0008537276680207844\n",
      "happen 0.0008118209445905404\n",
      "Word count for text:\n",
      "6156530\n",
      "________________________\n",
      "Most frequent adjectives:\n",
      "asami 0.004773468171193838\n",
      "korra 0.0023243612879333\n",
      "good 0.002083316413629106\n",
      "much 0.00207665681804523\n",
      "open 0.0018133591487412553\n",
      "sure 0.0017284086977566908\n",
      "right 0.0015978156526484887\n",
      "opal 0.0014852522443649264\n",
      "smile 0.0014128088387452022\n",
      "last 0.0013605066490376884\n",
      "small 0.0012066862339662114\n",
      "final 0.0011984023467765121\n",
      "next 0.00119547862188603\n",
      "sigh 0.0010976962672154607\n",
      "first 0.0010780423387849974\n",
      "new 0.0010028376374353735\n",
      "actual 0.0009978023334573209\n",
      "close 0.0009893560171070391\n",
      "lean 0.0009596314807204708\n",
      "second 0.0009414394147352486\n",
      "littl 0.0008712700173636773\n",
      "notic 0.0008701330132396009\n",
      "hard 0.000844469205867591\n",
      "someth 0.0008350483145538152\n",
      "long 0.0007931415911235712\n",
      "best 0.000767315354590979\n",
      "least 0.0007658534921457379\n",
      "red 0.0007385653931679046\n",
      "tri 0.0007338549475110167\n",
      "deep 0.0007231346229125823\n",
      "great 0.0007075414234966775\n",
      "old 0.0007057547027302717\n",
      "enough 0.0006997448237887251\n",
      "kiss 0.0006987702488252311\n",
      "young 0.0006856134868180615\n",
      "live 0.0006661219875481806\n",
      "light 0.0006591375336431398\n",
      "mako 0.0006178805268552253\n",
      "mean 0.0006146319436435785\n",
      "give 0.0006066729147750437\n",
      "Word count for text:\n",
      "6156530\n",
      "________________________\n",
      "Most frequent prepositions:\n",
      "like 0.006396297914572007\n",
      "around 0.003207326204858906\n",
      "though 0.001781847891588281\n",
      "toward 0.001633225209655439\n",
      "behind 0.0013929924811541567\n",
      "without 0.0010858389384929498\n",
      "across 0.0009307190901368141\n",
      "laugh 0.0008624988426922308\n",
      "onto 0.0008249777065977101\n",
      "asami 0.0007224849062702529\n",
      "along 0.0005288693468561024\n",
      "past 0.0004630855368202543\n",
      "within 0.0003459741120403864\n",
      "near 0.0003186860130625531\n",
      "whisper 0.00028084001864686766\n",
      "upon 0.0002803527311651206\n",
      "although 0.00021521863777160187\n",
      "except 0.00021310705868403143\n",
      "ago 0.00018630624718794515\n",
      "love 0.00018468195558212175\n",
      "whether 0.0001841946681003747\n",
      "oh 0.000183382522297463\n",
      "next 0.00018029636824639853\n",
      "beyond 0.00017087547693262276\n",
      "okay 0.00013611563656800178\n",
      "accept 0.00012295887456083214\n",
      "unless 0.00011581199149520916\n",
      "de 0.0001120761208018153\n",
      "allow 0.00010898996675075083\n",
      "toss 0.0001076905334660921\n",
      "throughout 9.956907543697505e-05\n",
      "anyth 9.77823546705693e-05\n",
      "beifong 9.22597632107697e-05\n",
      "wind 8.949846748086991e-05\n",
      "pout 8.787417587504649e-05\n",
      "among 8.787417587504649e-05\n",
      "tear 8.706203007213479e-05\n",
      "blind 7.504227218904156e-05\n",
      "alreadi 6.464680591177173e-05\n",
      "wound 6.3347372627113e-05\n"
     ]
    }
   ],
   "source": [
    "postKorra = POS_tag(postKorrasami,40)\n",
    "postKorra"
   ]
  },
  {
   "cell_type": "markdown",
   "metadata": {},
   "source": [
    "## Word2Vec\n",
    "\n",
    "Using the LineSentence function (from gensim), which takes a file, reads it in, and does the necessary pre-processing for you, I read in all my files and then created word2vec models for each."
   ]
  },
  {
   "cell_type": "code",
   "execution_count": 41,
   "metadata": {
    "collapsed": true
   },
   "outputs": [],
   "source": [
    "sent_preKorra = LineSentence('../../../data/korra/korra2018/time/preKorrasami.txt')\n",
    "sent_subKorra = LineSentence('../../../data/korra/korra2018/time/subtextKorrasami.txt')\n",
    "sent_postKorra = LineSentence('../../../data/korra/korra2018/time/postKorrasami.txt')"
   ]
  },
  {
   "cell_type": "markdown",
   "metadata": {},
   "source": [
    "### Pre-Korrasami Corpus"
   ]
  },
  {
   "cell_type": "code",
   "execution_count": 63,
   "metadata": {
    "collapsed": true
   },
   "outputs": [],
   "source": [
    "preKorra_w2v = wv(sent_preKorra, window=20, min_count=10, workers=4)"
   ]
  },
  {
   "cell_type": "code",
   "execution_count": 68,
   "metadata": {},
   "outputs": [
    {
     "name": "stderr",
     "output_type": "stream",
     "text": [
      "/Users/caramessina/anaconda3/lib/python3.6/site-packages/gensim/matutils.py:737: FutureWarning: Conversion of the second argument of issubdtype from `int` to `np.signedinteger` is deprecated. In future, it will be treated as `np.int64 == np.dtype(int).type`.\n",
      "  if np.issubdtype(vec.dtype, np.int):\n"
     ]
    },
    {
     "data": {
      "text/plain": [
       "[('cheerlead', 0.6560064554214478),\n",
       " ('quarterback', 0.6462293267250061),\n",
       " ('heiress', 0.6236462593078613),\n",
       " (\"'sami\", 0.6234376430511475),\n",
       " ('girlfriend', 0.515772819519043),\n",
       " ('korra', 0.5117356777191162),\n",
       " ('footbal', 0.49044904112815857),\n",
       " ('hanok', 0.4889821410179138),\n",
       " ('babe', 0.46558764576911926),\n",
       " ('sato', 0.46101731061935425),\n",
       " ('li-dha', 0.4536556303501129),\n",
       " ('car', 0.4393694996833801),\n",
       " ('girl', 0.43191707134246826),\n",
       " ('viya', 0.4230498671531677),\n",
       " ('sanya', 0.42139139771461487),\n",
       " ('hulan', 0.4182591140270233),\n",
       " ('softli', 0.40957459807395935),\n",
       " ('stutter', 0.4036216139793396),\n",
       " ('haruhi', 0.39520490169525146),\n",
       " ('miss', 0.39332282543182373)]"
      ]
     },
     "execution_count": 68,
     "metadata": {},
     "output_type": "execute_result"
    }
   ],
   "source": [
    "preKorra_w2v.wv.most_similar(['asami'], topn=20)"
   ]
  },
  {
   "cell_type": "code",
   "execution_count": 67,
   "metadata": {
    "scrolled": false
   },
   "outputs": [
    {
     "name": "stderr",
     "output_type": "stream",
     "text": [
      "/Users/caramessina/anaconda3/lib/python3.6/site-packages/gensim/matutils.py:737: FutureWarning: Conversion of the second argument of issubdtype from `int` to `np.signedinteger` is deprecated. In future, it will be treated as `np.int64 == np.dtype(int).type`.\n",
      "  if np.issubdtype(vec.dtype, np.int):\n"
     ]
    },
    {
     "data": {
      "text/plain": [
       "[('boyfriend', 0.8421016931533813),\n",
       " ('date', 0.77755206823349),\n",
       " ('jealou', 0.7470348477363586),\n",
       " ('cute', 0.6559523940086365),\n",
       " ('total', 0.6552077531814575),\n",
       " ('hanok', 0.6398621797561646),\n",
       " ('romant', 0.6346932053565979),\n",
       " ('quarterback', 0.631979763507843),\n",
       " ('joke', 0.6248250603675842),\n",
       " ('cheerlead', 0.6194512248039246),\n",
       " (\"'well\", 0.6132126450538635),\n",
       " ('drama', 0.6126875877380371),\n",
       " ('ador', 0.5971378684043884),\n",
       " ('ex-boyfriend', 0.5900479555130005),\n",
       " ('girl', 0.5899331569671631),\n",
       " ('geez', 0.5846318602561951),\n",
       " (\"'sami\", 0.580193042755127),\n",
       " ('crazi', 0.5799494981765747),\n",
       " ('kinda', 0.573547899723053),\n",
       " ('footbal', 0.569688081741333)]"
      ]
     },
     "execution_count": 67,
     "metadata": {},
     "output_type": "execute_result"
    }
   ],
   "source": [
    "preKorra_w2v.wv.most_similar(['girlfriend'], topn=20)"
   ]
  },
  {
   "cell_type": "code",
   "execution_count": 74,
   "metadata": {
    "scrolled": false
   },
   "outputs": [
    {
     "name": "stderr",
     "output_type": "stream",
     "text": [
      "/Users/caramessina/anaconda3/lib/python3.6/site-packages/gensim/matutils.py:737: FutureWarning: Conversion of the second argument of issubdtype from `int` to `np.signedinteger` is deprecated. In future, it will be treated as `np.int64 == np.dtype(int).type`.\n",
      "  if np.issubdtype(vec.dtype, np.int):\n"
     ]
    },
    {
     "data": {
      "text/plain": [
       "[('asami', 0.5117356181144714),\n",
       " ('mako', 0.49496975541114807),\n",
       " ('cheerlead', 0.4835444390773773),\n",
       " ('quarterback', 0.4768112599849701),\n",
       " ('hanok', 0.4364459216594696),\n",
       " ('nervous', 0.42786461114883423),\n",
       " ('bolin', 0.42751795053482056),\n",
       " ('shuchun', 0.42369264364242554),\n",
       " (\"'sami\", 0.4183400869369507),\n",
       " ('li-dha', 0.4138311445713043),\n",
       " ('eska', 0.40702885389328003),\n",
       " ('girlfriend', 0.3953183591365814),\n",
       " ('sheepish', 0.38773053884506226),\n",
       " ('embarrass', 0.3870137929916382),\n",
       " ('heiress', 0.38474151492118835),\n",
       " ('naga', 0.38408178091049194),\n",
       " ('respond', 0.37803637981414795),\n",
       " ('stutter', 0.36565929651260376),\n",
       " ('nervou', 0.3590152859687805),\n",
       " ('okay', 0.35591644048690796)]"
      ]
     },
     "execution_count": 74,
     "metadata": {},
     "output_type": "execute_result"
    }
   ],
   "source": [
    "preKorra_w2v.wv.most_similar(['korra'], topn=20)"
   ]
  },
  {
   "cell_type": "code",
   "execution_count": 84,
   "metadata": {},
   "outputs": [
    {
     "name": "stderr",
     "output_type": "stream",
     "text": [
      "/Users/caramessina/anaconda3/lib/python3.6/site-packages/gensim/matutils.py:737: FutureWarning: Conversion of the second argument of issubdtype from `int` to `np.signedinteger` is deprecated. In future, it will be treated as `np.int64 == np.dtype(int).type`.\n",
      "  if np.issubdtype(vec.dtype, np.int):\n"
     ]
    },
    {
     "data": {
      "text/plain": [
       "[('quarterback', 0.9433119893074036),\n",
       " ('footbal', 0.8608570694923401),\n",
       " ('hanok', 0.7478722333908081),\n",
       " ('li-dha', 0.7405582070350647),\n",
       " (\"'sami\", 0.7339423298835754),\n",
       " ('blush', 0.6835891008377075),\n",
       " ('pleasantli', 0.6664596796035767),\n",
       " ('babe', 0.6577969789505005),\n",
       " ('asami', 0.6560064554214478),\n",
       " ('viya', 0.6487923264503479),\n",
       " ('gorgeou', 0.638032853603363),\n",
       " ('wink', 0.6341010928153992),\n",
       " ('girlfriend', 0.6194513440132141),\n",
       " ('cute', 0.6056030988693237),\n",
       " ('chuckl', 0.6010433435440063),\n",
       " ('snicker', 0.5905696153640747),\n",
       " ('amaz', 0.5841995477676392),\n",
       " ('teasingli', 0.5779315233230591),\n",
       " ('hulan', 0.5650051236152649),\n",
       " ('stutter', 0.5603939294815063)]"
      ]
     },
     "execution_count": 84,
     "metadata": {},
     "output_type": "execute_result"
    }
   ],
   "source": [
    "preKorra_w2v.wv.most_similar(['cheerlead'], topn=20)"
   ]
  },
  {
   "cell_type": "code",
   "execution_count": 90,
   "metadata": {},
   "outputs": [
    {
     "name": "stderr",
     "output_type": "stream",
     "text": [
      "/Users/caramessina/anaconda3/lib/python3.6/site-packages/gensim/matutils.py:737: FutureWarning: Conversion of the second argument of issubdtype from `int` to `np.signedinteger` is deprecated. In future, it will be treated as `np.int64 == np.dtype(int).type`.\n",
      "  if np.issubdtype(vec.dtype, np.int):\n"
     ]
    },
    {
     "data": {
      "text/plain": [
       "[('gorgeou', 0.6264893412590027),\n",
       " ('asami', 0.6236463785171509),\n",
       " ('sato', 0.6088579297065735),\n",
       " ('girl', 0.5857400894165039),\n",
       " ('quarterback', 0.5717872381210327),\n",
       " ('beauti', 0.5587961673736572),\n",
       " ('businesswoman', 0.5566233396530151),\n",
       " ('girlfriend', 0.5515145063400269),\n",
       " ('cheerlead', 0.540593147277832),\n",
       " ('green-ey', 0.5291796326637268),\n",
       " ('tula', 0.5224825143814087),\n",
       " ('salaci', 0.521117091178894),\n",
       " ('memoris', 0.5210148692131042),\n",
       " ('ms', 0.5171505212783813),\n",
       " ('eyeshadow', 0.5109556913375854),\n",
       " ('hairstyl', 0.5050166249275208),\n",
       " ('feminin', 0.5038310289382935),\n",
       " (\"'sami\", 0.5028831362724304),\n",
       " ('lusciou', 0.49360984563827515),\n",
       " ('flatter', 0.49308541417121887)]"
      ]
     },
     "execution_count": 90,
     "metadata": {},
     "output_type": "execute_result"
    }
   ],
   "source": [
    "preKorra_w2v.wv.most_similar(['heiress'], topn=20)"
   ]
  },
  {
   "cell_type": "code",
   "execution_count": 94,
   "metadata": {},
   "outputs": [
    {
     "name": "stderr",
     "output_type": "stream",
     "text": [
      "/Users/caramessina/anaconda3/lib/python3.6/site-packages/gensim/matutils.py:737: FutureWarning: Conversion of the second argument of issubdtype from `int` to `np.signedinteger` is deprecated. In future, it will be treated as `np.int64 == np.dtype(int).type`.\n",
      "  if np.issubdtype(vec.dtype, np.int):\n"
     ]
    },
    {
     "data": {
      "text/plain": [
       "[('young', 0.6998170614242554),\n",
       " ('man', 0.6571545004844666),\n",
       " ('women', 0.5473827719688416),\n",
       " ('ladi', 0.5403400659561157),\n",
       " ('older', 0.4757651686668396),\n",
       " ('elderli', 0.4643067717552185),\n",
       " ('tall', 0.4623173475265503),\n",
       " ('men', 0.46191948652267456),\n",
       " ('wizen', 0.44976165890693665),\n",
       " ('girl', 0.4437141716480255),\n",
       " ('husband', 0.4388071298599243),\n",
       " ('male', 0.43597882986068726),\n",
       " ('hana', 0.4241524636745453),\n",
       " ('wife', 0.42195069789886475),\n",
       " ('stranger', 0.4186514616012573),\n",
       " ('nia', 0.4169045686721802),\n",
       " ('midwif', 0.4082654118537903),\n",
       " ('statur', 0.40812942385673523),\n",
       " ('child', 0.3999372720718384),\n",
       " ('age', 0.39916473627090454)]"
      ]
     },
     "execution_count": 94,
     "metadata": {},
     "output_type": "execute_result"
    }
   ],
   "source": [
    "preKorra_w2v.wv.most_similar(['woman'], topn=20)"
   ]
  },
  {
   "cell_type": "code",
   "execution_count": 212,
   "metadata": {},
   "outputs": [
    {
     "name": "stderr",
     "output_type": "stream",
     "text": [
      "/Users/caramessina/anaconda3/lib/python3.6/site-packages/gensim/matutils.py:737: FutureWarning: Conversion of the second argument of issubdtype from `int` to `np.signedinteger` is deprecated. In future, it will be treated as `np.int64 == np.dtype(int).type`.\n",
      "  if np.issubdtype(vec.dtype, np.int):\n"
     ]
    },
    {
     "data": {
      "text/plain": [
       "[('woman', 0.6571544408798218),\n",
       " ('young', 0.520764946937561),\n",
       " ('kwan', 0.518744170665741),\n",
       " ('men', 0.5075659155845642),\n",
       " ('urahara', 0.49407991766929626),\n",
       " ('ishida', 0.4933697581291199),\n",
       " ('zolt', 0.4825531244277954),\n",
       " ('hugh', 0.4617175757884979),\n",
       " ('jagur', 0.45737224817276),\n",
       " ('mask', 0.45695123076438904),\n",
       " ('sneer', 0.4542919993400574),\n",
       " ('soldier', 0.45304712653160095),\n",
       " ('roman', 0.4509067237377167),\n",
       " ('kuchiki', 0.43662548065185547),\n",
       " ('rukia', 0.43548718094825745),\n",
       " ('lieuten', 0.433056503534317),\n",
       " ('kilaun', 0.4327288568019867),\n",
       " ('menac', 0.4323747158050537),\n",
       " ('stranger', 0.4258544445037842),\n",
       " ('male', 0.42425400018692017)]"
      ]
     },
     "execution_count": 212,
     "metadata": {},
     "output_type": "execute_result"
    }
   ],
   "source": [
    "preKorra_w2v.wv.most_similar(['man'], topn=20)"
   ]
  },
  {
   "cell_type": "code",
   "execution_count": 98,
   "metadata": {},
   "outputs": [
    {
     "name": "stderr",
     "output_type": "stream",
     "text": [
      "/Users/caramessina/anaconda3/lib/python3.6/site-packages/gensim/matutils.py:737: FutureWarning: Conversion of the second argument of issubdtype from `int` to `np.signedinteger` is deprecated. In future, it will be treated as `np.int64 == np.dtype(int).type`.\n",
      "  if np.issubdtype(vec.dtype, np.int):\n"
     ]
    },
    {
     "data": {
      "text/plain": [
       "[('slender', 0.8226813077926636),\n",
       " ('tan', 0.8156390190124512),\n",
       " ('lith', 0.7800117135047913),\n",
       " ('wiri', 0.776208221912384),\n",
       " ('curvi', 0.770183801651001),\n",
       " ('baggi', 0.7607766389846802),\n",
       " ('broad', 0.7517485022544861),\n",
       " ('musculatur', 0.7298089265823364),\n",
       " ('cleavag', 0.7227165699005127),\n",
       " ('taller', 0.7075567841529846),\n",
       " ('mould', 0.6963127851486206),\n",
       " ('sinew', 0.6940883994102478),\n",
       " ('shorter', 0.6925441026687622),\n",
       " ('stocki', 0.6922821998596191),\n",
       " ('angular', 0.689975380897522),\n",
       " ('expos', 0.6879399418830872),\n",
       " ('silki', 0.6861910820007324),\n",
       " ('accentu', 0.6851731538772583),\n",
       " ('physiqu', 0.6839115619659424),\n",
       " ('clad', 0.6810009479522705)]"
      ]
     },
     "execution_count": 98,
     "metadata": {},
     "output_type": "execute_result"
    }
   ],
   "source": [
    "preKorra_w2v.wv.most_similar(['muscular'], topn=20)"
   ]
  },
  {
   "cell_type": "code",
   "execution_count": 103,
   "metadata": {},
   "outputs": [
    {
     "name": "stderr",
     "output_type": "stream",
     "text": [
      "/Users/caramessina/anaconda3/lib/python3.6/site-packages/gensim/matutils.py:737: FutureWarning: Conversion of the second argument of issubdtype from `int` to `np.signedinteger` is deprecated. In future, it will be treated as `np.int64 == np.dtype(int).type`.\n",
      "  if np.issubdtype(vec.dtype, np.int):\n"
     ]
    },
    {
     "data": {
      "text/plain": [
       "[('eleg', 0.7760363817214966),\n",
       " ('accent', 0.7643482685089111),\n",
       " ('accentu', 0.7594501376152039),\n",
       " ('complement', 0.751521110534668),\n",
       " ('facial', 0.7389618754386902),\n",
       " ('tan', 0.7328726649284363),\n",
       " ('contrast', 0.723888099193573),\n",
       " ('decidedli', 0.7234376668930054),\n",
       " ('highlight', 0.7176596522331238),\n",
       " ('creami', 0.712325930595398),\n",
       " ('ensembl', 0.7110721468925476),\n",
       " ('hue', 0.7000831961631775),\n",
       " ('allur', 0.6996458172798157),\n",
       " ('hairstyl', 0.698199450969696),\n",
       " ('textur', 0.6962378025054932),\n",
       " ('paler', 0.6957379579544067),\n",
       " ('pearl', 0.6943222284317017),\n",
       " ('darker', 0.6939800381660461),\n",
       " ('mocha', 0.6930546164512634),\n",
       " ('sideburn', 0.6809380054473877)]"
      ]
     },
     "execution_count": 103,
     "metadata": {},
     "output_type": "execute_result"
    }
   ],
   "source": [
    "preKorra_w2v.wv.most_similar(['feminin'], topn=20)"
   ]
  },
  {
   "cell_type": "code",
   "execution_count": 106,
   "metadata": {},
   "outputs": [
    {
     "name": "stderr",
     "output_type": "stream",
     "text": [
      "/Users/caramessina/anaconda3/lib/python3.6/site-packages/gensim/matutils.py:737: FutureWarning: Conversion of the second argument of issubdtype from `int` to `np.signedinteger` is deprecated. In future, it will be treated as `np.int64 == np.dtype(int).type`.\n",
      "  if np.issubdtype(vec.dtype, np.int):\n"
     ]
    },
    {
     "data": {
      "text/plain": [
       "[('undeni', 0.7111497521400452),\n",
       " ('mixtur', 0.7092783451080322),\n",
       " ('echapp', 0.6977778673171997),\n",
       " ('throati', 0.6919038891792297),\n",
       " ('jeun', 0.683685302734375),\n",
       " ('enchant', 0.6823471188545227),\n",
       " ('incomprehens', 0.6816055178642273),\n",
       " ('blith', 0.6812763810157776),\n",
       " ('labia', 0.6803156733512878),\n",
       " ('ng', 0.679475724697113),\n",
       " ('douleur', 0.6747332811355591),\n",
       " ('korrak', 0.6683462858200073),\n",
       " ('gen', 0.6678991317749023),\n",
       " ('suppl', 0.6645246744155884),\n",
       " ('visag', 0.6644068360328674),\n",
       " ('du', 0.6642574667930603),\n",
       " (\"s'en\", 0.6627510786056519),\n",
       " (\"l'earthbend\", 0.6623719930648804),\n",
       " ('san', 0.6609686613082886),\n",
       " ('ting', 0.660069465637207)]"
      ]
     },
     "execution_count": 106,
     "metadata": {},
     "output_type": "execute_result"
    }
   ],
   "source": [
    "preKorra_w2v.wv.most_similar(['masculin'], topn=20)"
   ]
  },
  {
   "cell_type": "code",
   "execution_count": 107,
   "metadata": {},
   "outputs": [
    {
     "name": "stderr",
     "output_type": "stream",
     "text": [
      "/Users/caramessina/anaconda3/lib/python3.6/site-packages/gensim/matutils.py:737: FutureWarning: Conversion of the second argument of issubdtype from `int` to `np.signedinteger` is deprecated. In future, it will be treated as `np.int64 == np.dtype(int).type`.\n",
      "  if np.issubdtype(vec.dtype, np.int):\n"
     ]
    },
    {
     "data": {
      "text/plain": [
       "[('inspir', 0.7662824988365173),\n",
       " ('interpret', 0.7536213994026184),\n",
       " ('writer', 0.7420913577079773),\n",
       " ('genr', 0.7362577319145203),\n",
       " ('charact', 0.7339369654655457),\n",
       " ('fiction', 0.7296613454818726),\n",
       " ('creativ', 0.725774347782135),\n",
       " ('common', 0.723240077495575),\n",
       " ('clueless', 0.7187334895133972),\n",
       " ('japanes', 0.7186621427536011),\n",
       " ('supposedli', 0.7159520387649536),\n",
       " ('random', 0.7155631184577942),\n",
       " ('fame', 0.7129549384117126),\n",
       " ('artist', 0.7111949324607849),\n",
       " ('bryke', 0.7096675634384155),\n",
       " ('theme', 0.7081787586212158),\n",
       " ('factor', 0.7048810720443726),\n",
       " ('titl', 0.7030603885650635),\n",
       " ('model', 0.7000835537910461),\n",
       " ('equat', 0.6995790600776672)]"
      ]
     },
     "execution_count": 107,
     "metadata": {},
     "output_type": "execute_result"
    }
   ],
   "source": [
    "preKorra_w2v.wv.most_similar(['gender'], topn=20)"
   ]
  },
  {
   "cell_type": "code",
   "execution_count": 151,
   "metadata": {},
   "outputs": [
    {
     "name": "stderr",
     "output_type": "stream",
     "text": [
      "/Users/caramessina/anaconda3/lib/python3.6/site-packages/gensim/matutils.py:737: FutureWarning: Conversion of the second argument of issubdtype from `int` to `np.signedinteger` is deprecated. In future, it will be treated as `np.int64 == np.dtype(int).type`.\n",
      "  if np.issubdtype(vec.dtype, np.int):\n"
     ]
    },
    {
     "data": {
      "text/plain": [
       "[('marriag', 0.7519068717956543),\n",
       " ('wed', 0.704032301902771),\n",
       " ('wife', 0.6999097466468811),\n",
       " ('pregnant', 0.6946468949317932),\n",
       " ('sixteen', 0.6815783381462097),\n",
       " ('grandfath', 0.6669420599937439),\n",
       " ('eighteen', 0.6628835797309875),\n",
       " ('age', 0.6503024101257324),\n",
       " ('born', 0.6490695476531982),\n",
       " ('oldest', 0.6464373469352722),\n",
       " ('anniversari', 0.6340847015380859),\n",
       " ('birthday', 0.6301572918891907),\n",
       " ('fourteen', 0.6154270172119141),\n",
       " ('husband', 0.6101883053779602),\n",
       " ('dote', 0.6096040606498718),\n",
       " ('adult', 0.6045727133750916),\n",
       " ('grandpar', 0.6043574213981628),\n",
       " ('thirteen', 0.5979408025741577),\n",
       " ('adventur', 0.5970245003700256),\n",
       " ('famili', 0.5940732955932617)]"
      ]
     },
     "execution_count": 151,
     "metadata": {},
     "output_type": "execute_result"
    }
   ],
   "source": [
    "preKorra_w2v.wv.most_similar(['marri'], topn=20)"
   ]
  },
  {
   "cell_type": "code",
   "execution_count": 210,
   "metadata": {},
   "outputs": [
    {
     "name": "stderr",
     "output_type": "stream",
     "text": [
      "/Users/caramessina/anaconda3/lib/python3.6/site-packages/gensim/matutils.py:737: FutureWarning: Conversion of the second argument of issubdtype from `int` to `np.signedinteger` is deprecated. In future, it will be treated as `np.int64 == np.dtype(int).type`.\n",
      "  if np.issubdtype(vec.dtype, np.int):\n"
     ]
    },
    {
     "data": {
      "text/plain": [
       "[('marri', 0.6946468949317932),\n",
       " ('pregnanc', 0.6559553742408752),\n",
       " ('babi', 0.6346104145050049),\n",
       " ('fourteen-year-old', 0.6060411930084229),\n",
       " ('wife', 0.5976323485374451),\n",
       " ('mum', 0.5938212871551514),\n",
       " ('child', 0.5782669186592102),\n",
       " ('parent', 0.577325701713562),\n",
       " ('precoci', 0.5690056681632996),\n",
       " ('toddler', 0.5680645704269409),\n",
       " ('marriag', 0.5655030012130737),\n",
       " ('husband', 0.5637431740760803),\n",
       " ('unhappi', 0.5569580793380737),\n",
       " ('confess', 0.5528407692909241),\n",
       " ('adult', 0.5495383739471436),\n",
       " ('sibl', 0.5408585667610168),\n",
       " ('gran-gran', 0.5324091911315918),\n",
       " ('rohan', 0.5316610932350159),\n",
       " ('motherli', 0.5239673256874084),\n",
       " ('sixteen', 0.5235865116119385)]"
      ]
     },
     "execution_count": 210,
     "metadata": {},
     "output_type": "execute_result"
    }
   ],
   "source": [
    "preKorra_w2v.wv.most_similar(['pregnant'], topn=20)"
   ]
  },
  {
   "cell_type": "markdown",
   "metadata": {},
   "source": [
    "### Subtextual Korrasami Corpus"
   ]
  },
  {
   "cell_type": "code",
   "execution_count": 61,
   "metadata": {
    "collapsed": true
   },
   "outputs": [],
   "source": [
    "subKorra_w2v = wv(sent_subKorra, window=20, min_count=10, workers=4)"
   ]
  },
  {
   "cell_type": "code",
   "execution_count": 203,
   "metadata": {
    "scrolled": false
   },
   "outputs": [
    {
     "name": "stderr",
     "output_type": "stream",
     "text": [
      "/Users/caramessina/anaconda3/lib/python3.6/site-packages/gensim/matutils.py:737: FutureWarning: Conversion of the second argument of issubdtype from `int` to `np.signedinteger` is deprecated. In future, it will be treated as `np.int64 == np.dtype(int).type`.\n",
      "  if np.issubdtype(vec.dtype, np.int):\n"
     ]
    },
    {
     "data": {
      "text/plain": [
       "[('engin', 0.7523688673973083),\n",
       " ('korra', 0.740334153175354),\n",
       " ('softli', 0.62079918384552),\n",
       " ('babe', 0.5745729804039001),\n",
       " ('mumbl', 0.5618496537208557),\n",
       " ('girlfriend', 0.5595892071723938),\n",
       " ('breathlessli', 0.554783284664154),\n",
       " ('shila', 0.5525208711624146),\n",
       " ('heiress', 0.5449532270431519),\n",
       " (\"'sami\", 0.5323458909988403),\n",
       " ('lean', 0.4970782399177551),\n",
       " ('wink', 0.4914647936820984),\n",
       " ('ok.', 0.48380032181739807),\n",
       " ('nervous', 0.4816775619983673),\n",
       " ('ok', 0.47638535499572754),\n",
       " ('closer', 0.46714597940444946),\n",
       " ('grin', 0.462266206741333),\n",
       " ('tenderli', 0.45690199732780457),\n",
       " ('comfortingli', 0.45532649755477905),\n",
       " ('sweeti', 0.45292192697525024)]"
      ]
     },
     "execution_count": 203,
     "metadata": {},
     "output_type": "execute_result"
    }
   ],
   "source": [
    "subKorra_w2v.wv.most_similar(['asami'], topn=20)"
   ]
  },
  {
   "cell_type": "code",
   "execution_count": 69,
   "metadata": {},
   "outputs": [
    {
     "name": "stderr",
     "output_type": "stream",
     "text": [
      "/Users/caramessina/anaconda3/lib/python3.6/site-packages/gensim/matutils.py:737: FutureWarning: Conversion of the second argument of issubdtype from `int` to `np.signedinteger` is deprecated. In future, it will be treated as `np.int64 == np.dtype(int).type`.\n",
      "  if np.issubdtype(vec.dtype, np.int):\n"
     ]
    },
    {
     "data": {
      "text/plain": [
       "[('cute', 0.8325461149215698),\n",
       " ('chuckl', 0.8270843029022217),\n",
       " ('date', 0.8218371868133545),\n",
       " ('wink', 0.8067721128463745),\n",
       " ('babe', 0.7899971604347229),\n",
       " ('blush', 0.777965784072876),\n",
       " ('grin', 0.7705411911010742),\n",
       " ('wow', 0.7702885866165161),\n",
       " ('amaz', 0.7698530554771423),\n",
       " ('flirt', 0.7596547603607178),\n",
       " ('awkward', 0.7505388259887695),\n",
       " ('embarrass', 0.7356637120246887),\n",
       " ('huh', 0.7268903851509094),\n",
       " ('giggl', 0.725811779499054),\n",
       " ('ador', 0.7232818007469177),\n",
       " ('sheepishli', 0.7199611663818359),\n",
       " ('yep', 0.71490877866745),\n",
       " ('boyfriend', 0.7123020887374878),\n",
       " ('nice', 0.7092101573944092),\n",
       " ('fluster', 0.698421061038971)]"
      ]
     },
     "execution_count": 69,
     "metadata": {},
     "output_type": "execute_result"
    }
   ],
   "source": [
    "subKorra_w2v.wv.most_similar(['girlfriend'], topn=20)"
   ]
  },
  {
   "cell_type": "code",
   "execution_count": 213,
   "metadata": {},
   "outputs": [
    {
     "name": "stderr",
     "output_type": "stream",
     "text": [
      "/Users/caramessina/anaconda3/lib/python3.6/site-packages/gensim/matutils.py:737: FutureWarning: Conversion of the second argument of issubdtype from `int` to `np.signedinteger` is deprecated. In future, it will be treated as `np.int64 == np.dtype(int).type`.\n",
      "  if np.issubdtype(vec.dtype, np.int):\n"
     ]
    },
    {
     "data": {
      "text/plain": [
       "[('asami', 0.7403340935707092),\n",
       " ('engin', 0.7342380285263062),\n",
       " ('babe', 0.6112719774246216),\n",
       " ('softli', 0.6020066738128662),\n",
       " ('breathlessli', 0.5999543070793152),\n",
       " ('shila', 0.574532151222229),\n",
       " ('girlfriend', 0.5721224546432495),\n",
       " ('mumbl', 0.5694355368614197),\n",
       " ('heiress', 0.5671155452728271),\n",
       " (\"'sami\", 0.558881402015686),\n",
       " ('ok.', 0.5278437733650208),\n",
       " ('nervous', 0.5046630501747131),\n",
       " ('ok', 0.502859354019165),\n",
       " ('sweeti', 0.498298317193985),\n",
       " ('chuckl', 0.4930209815502167),\n",
       " ('grin', 0.4865219295024872),\n",
       " ('closer', 0.48427778482437134),\n",
       " ('tenderli', 0.48180460929870605),\n",
       " ('wink', 0.47795185446739197),\n",
       " ('comfortingli', 0.47723710536956787)]"
      ]
     },
     "execution_count": 213,
     "metadata": {},
     "output_type": "execute_result"
    }
   ],
   "source": [
    "subKorra_w2v.wv.most_similar(['korra'], topn=20)"
   ]
  },
  {
   "cell_type": "code",
   "execution_count": 85,
   "metadata": {},
   "outputs": [
    {
     "name": "stderr",
     "output_type": "stream",
     "text": [
      "/Users/caramessina/anaconda3/lib/python3.6/site-packages/gensim/matutils.py:737: FutureWarning: Conversion of the second argument of issubdtype from `int` to `np.signedinteger` is deprecated. In future, it will be treated as `np.int64 == np.dtype(int).type`.\n",
      "  if np.issubdtype(vec.dtype, np.int):\n"
     ]
    },
    {
     "data": {
      "text/plain": [
       "[('oop', 0.9346482753753662),\n",
       " ('li-dha', 0.8943625688552856),\n",
       " ('hipbon', 0.8943070769309998),\n",
       " ('clark', 0.8928951025009155),\n",
       " ('darkli', 0.8794020414352417),\n",
       " ('quarterback', 0.8741528391838074),\n",
       " ('hanok', 0.8739421367645264),\n",
       " ('lexa', 0.873622715473175),\n",
       " ('condescend', 0.864906370639801),\n",
       " ('yasha', 0.8637580275535583),\n",
       " ('dame', 0.859812319278717),\n",
       " ('hypothet', 0.8597378730773926),\n",
       " ('unreal', 0.8575913906097412),\n",
       " ('clich', 0.855718731880188),\n",
       " ('millimet', 0.8555583953857422),\n",
       " ('viya', 0.8478541374206543),\n",
       " ('plow', 0.8464254140853882),\n",
       " ('mean-', 0.8451640009880066),\n",
       " ('aisl', 0.8434481620788574),\n",
       " ('flirtati', 0.8423473238945007)]"
      ]
     },
     "execution_count": 85,
     "metadata": {},
     "output_type": "execute_result"
    }
   ],
   "source": [
    "subKorra_w2v.wv.most_similar(['cheerlead'], topn=20)"
   ]
  },
  {
   "cell_type": "code",
   "execution_count": 91,
   "metadata": {},
   "outputs": [
    {
     "name": "stderr",
     "output_type": "stream",
     "text": [
      "/Users/caramessina/anaconda3/lib/python3.6/site-packages/gensim/matutils.py:737: FutureWarning: Conversion of the second argument of issubdtype from `int` to `np.signedinteger` is deprecated. In future, it will be treated as `np.int64 == np.dtype(int).type`.\n",
      "  if np.issubdtype(vec.dtype, np.int):\n"
     ]
    },
    {
     "data": {
      "text/plain": [
       "[('breathlessli', 0.7743628621101379),\n",
       " ('wider', 0.7459204792976379),\n",
       " ('flush', 0.7384091019630432),\n",
       " ('arch', 0.7338321805000305),\n",
       " ('a-asami', 0.717422366142273),\n",
       " ('nervou', 0.7121500372886658),\n",
       " ('lace', 0.7069330215454102),\n",
       " ('devilishli', 0.7031633853912354),\n",
       " ('stammer', 0.6989263892173767),\n",
       " ('deepen', 0.6959136724472046),\n",
       " ('fluster', 0.6903343796730042),\n",
       " ('stiffen', 0.6890716552734375),\n",
       " ('babe', 0.6837170720100403),\n",
       " ('lopsid', 0.682559072971344),\n",
       " ('nervous', 0.6820570826530457),\n",
       " ('ab', 0.6731303930282593),\n",
       " ('slight', 0.6720433235168457),\n",
       " ('brush', 0.6694374084472656),\n",
       " ('azur', 0.6662962436676025),\n",
       " ('thickli', 0.6599745154380798)]"
      ]
     },
     "execution_count": 91,
     "metadata": {},
     "output_type": "execute_result"
    }
   ],
   "source": [
    "subKorra_w2v.wv.most_similar(['heiress'], topn=20)"
   ]
  },
  {
   "cell_type": "code",
   "execution_count": 92,
   "metadata": {},
   "outputs": [
    {
     "name": "stderr",
     "output_type": "stream",
     "text": [
      "/Users/caramessina/anaconda3/lib/python3.6/site-packages/gensim/matutils.py:737: FutureWarning: Conversion of the second argument of issubdtype from `int` to `np.signedinteger` is deprecated. In future, it will be treated as `np.int64 == np.dtype(int).type`.\n",
      "  if np.issubdtype(vec.dtype, np.int):\n"
     ]
    },
    {
     "data": {
      "text/plain": [
       "[('older', 0.7941965460777283),\n",
       " ('younger', 0.7170405387878418),\n",
       " ('taller', 0.6838128566741943),\n",
       " ('young', 0.6511724591255188),\n",
       " ('women', 0.6392420530319214),\n",
       " ('pregnant', 0.6206789612770081),\n",
       " ('slightli', 0.6049616932868958),\n",
       " ('shorter', 0.5875957608222961),\n",
       " ('wife', 0.579010009765625),\n",
       " ('drew', 0.574859082698822),\n",
       " ('warmli', 0.5709928870201111),\n",
       " ('daughter', 0.5529758930206299),\n",
       " ('clearli', 0.5469895005226135),\n",
       " ('korro', 0.5428802371025085),\n",
       " ('gaze', 0.5410525798797607),\n",
       " ('hesit', 0.5338935256004333),\n",
       " ('husband', 0.5256304144859314),\n",
       " ('stun', 0.522885799407959),\n",
       " ('gown', 0.5206611156463623),\n",
       " ('wider', 0.5098415017127991)]"
      ]
     },
     "execution_count": 92,
     "metadata": {},
     "output_type": "execute_result"
    }
   ],
   "source": [
    "subKorra_w2v.wv.most_similar(['woman'], topn=20)"
   ]
  },
  {
   "cell_type": "code",
   "execution_count": 102,
   "metadata": {},
   "outputs": [
    {
     "name": "stderr",
     "output_type": "stream",
     "text": [
      "/Users/caramessina/anaconda3/lib/python3.6/site-packages/gensim/matutils.py:737: FutureWarning: Conversion of the second argument of issubdtype from `int` to `np.signedinteger` is deprecated. In future, it will be treated as `np.int64 == np.dtype(int).type`.\n",
      "  if np.issubdtype(vec.dtype, np.int):\n"
     ]
    },
    {
     "data": {
      "text/plain": [
       "[('brunett', 0.9074066281318665),\n",
       " ('creami', 0.8784425854682922),\n",
       " ('repeatedli', 0.8638737797737122),\n",
       " ('chestnut', 0.8565282821655273),\n",
       " ('probe', 0.8523907661437988),\n",
       " ('vagina', 0.8495334386825562),\n",
       " ('peau', 0.8468303680419922),\n",
       " ('flawless', 0.8445796966552734),\n",
       " ('seul', 0.8445689082145691),\n",
       " ('likewis', 0.8444569706916809),\n",
       " ('flail', 0.8433421850204468),\n",
       " ('naughti', 0.8432282209396362),\n",
       " ('thereaft', 0.842755138874054),\n",
       " ('sensual', 0.8407859802246094),\n",
       " ('cunt', 0.8404106497764587),\n",
       " ('womanhood', 0.8363346457481384),\n",
       " ('elicit', 0.8347560167312622),\n",
       " ('abdomen', 0.8338559865951538),\n",
       " ('taut', 0.8336033821105957),\n",
       " ('allur', 0.8335332870483398)]"
      ]
     },
     "execution_count": 102,
     "metadata": {},
     "output_type": "execute_result"
    }
   ],
   "source": [
    "subKorra_w2v.wv.most_similar(['feminin'], topn=20)"
   ]
  },
  {
   "cell_type": "code",
   "execution_count": 211,
   "metadata": {},
   "outputs": [
    {
     "name": "stderr",
     "output_type": "stream",
     "text": [
      "/Users/caramessina/anaconda3/lib/python3.6/site-packages/gensim/matutils.py:737: FutureWarning: Conversion of the second argument of issubdtype from `int` to `np.signedinteger` is deprecated. In future, it will be treated as `np.int64 == np.dtype(int).type`.\n",
      "  if np.issubdtype(vec.dtype, np.int):\n"
     ]
    },
    {
     "data": {
      "text/plain": [
       "[('lee', 0.7369656562805176),\n",
       " ('ann', 0.6511579155921936),\n",
       " ('men', 0.6344538331031799),\n",
       " ('sneer', 0.5720396637916565),\n",
       " ('young', 0.5554693341255188),\n",
       " ('rozu', 0.5554302334785461),\n",
       " ('lieu', 0.5537645220756531),\n",
       " ('shang', 0.5429895520210266),\n",
       " ('lowli', 0.5403271913528442),\n",
       " ('rin', 0.5399022698402405),\n",
       " ('tozen', 0.5395759344100952),\n",
       " ('torq', 0.522463321685791),\n",
       " ('azula', 0.5150624513626099),\n",
       " ('glare', 0.5136635899543762),\n",
       " ('sir', 0.513161838054657),\n",
       " ('ty', 0.5131481289863586),\n",
       " ('whore', 0.5121971964836121),\n",
       " ('chau', 0.5085482001304626),\n",
       " ('comrad', 0.5025727152824402),\n",
       " ('pompou', 0.49624136090278625)]"
      ]
     },
     "execution_count": 211,
     "metadata": {},
     "output_type": "execute_result"
    }
   ],
   "source": [
    "subKorra_w2v.wv.most_similar(['man'], topn=20)"
   ]
  },
  {
   "cell_type": "code",
   "execution_count": null,
   "metadata": {
    "collapsed": true
   },
   "outputs": [],
   "source": []
  },
  {
   "cell_type": "code",
   "execution_count": 105,
   "metadata": {},
   "outputs": [
    {
     "name": "stderr",
     "output_type": "stream",
     "text": [
      "/Users/caramessina/anaconda3/lib/python3.6/site-packages/gensim/matutils.py:737: FutureWarning: Conversion of the second argument of issubdtype from `int` to `np.signedinteger` is deprecated. In future, it will be treated as `np.int64 == np.dtype(int).type`.\n",
      "  if np.issubdtype(vec.dtype, np.int):\n"
     ]
    },
    {
     "data": {
      "text/plain": [
       "[('porn', 0.9184079170227051),\n",
       " ('inexperienc', 0.9115799069404602),\n",
       " ('pervert', 0.9065878987312317),\n",
       " ('envi', 0.9055134654045105),\n",
       " ('swoon', 0.9023139476776123),\n",
       " ('oop', 0.9021033644676208),\n",
       " ('cont', 0.900875985622406),\n",
       " ('nativ', 0.8963315486907959),\n",
       " ('clich', 0.8945992588996887),\n",
       " ('persuas', 0.894284725189209),\n",
       " ('witti', 0.893638014793396),\n",
       " ('rabbit', 0.8925989270210266),\n",
       " ('intox', 0.8907217383384705),\n",
       " ('astound', 0.8906519412994385),\n",
       " ('bold', 0.8896130919456482),\n",
       " ('deed', 0.8887728452682495),\n",
       " ('hone', 0.8873229026794434),\n",
       " ('millimet', 0.886099100112915),\n",
       " ('glossi', 0.8843542337417603),\n",
       " ('strictli', 0.8843110203742981)]"
      ]
     },
     "execution_count": 105,
     "metadata": {},
     "output_type": "execute_result"
    }
   ],
   "source": [
    "subKorra_w2v.wv.most_similar(['masculin'], topn=20)"
   ]
  },
  {
   "cell_type": "code",
   "execution_count": 120,
   "metadata": {},
   "outputs": [
    {
     "name": "stderr",
     "output_type": "stream",
     "text": [
      "/Users/caramessina/anaconda3/lib/python3.6/site-packages/gensim/matutils.py:737: FutureWarning: Conversion of the second argument of issubdtype from `int` to `np.signedinteger` is deprecated. In future, it will be treated as `np.int64 == np.dtype(int).type`.\n",
      "  if np.issubdtype(vec.dtype, np.int):\n"
     ]
    },
    {
     "data": {
      "text/plain": [
       "[('reput', 0.9274627566337585),\n",
       " ('wage', 0.9266194701194763),\n",
       " ('specul', 0.9165371060371399),\n",
       " ('inventor', 0.9161173105239868),\n",
       " ('exclus', 0.9067599177360535),\n",
       " ('spectacular', 0.9064094424247742),\n",
       " ('sophist', 0.9052457213401794),\n",
       " ('outcast', 0.9051941633224487),\n",
       " ('13', 0.9046571850776672),\n",
       " ('organis', 0.9034374356269836),\n",
       " ('commun', 0.9010162949562073),\n",
       " ('graduat', 0.9005753993988037),\n",
       " ('therefor', 0.9002510905265808),\n",
       " ('farmer', 0.9000048041343689),\n",
       " ('hobbi', 0.8985443115234375),\n",
       " ('backstori', 0.8981733322143555),\n",
       " ('factor', 0.8975718021392822),\n",
       " ('folk', 0.8952187299728394),\n",
       " ('suitabl', 0.8939134478569031),\n",
       " ('associ', 0.8934099078178406)]"
      ]
     },
     "execution_count": 120,
     "metadata": {},
     "output_type": "execute_result"
    }
   ],
   "source": [
    "subKorra_w2v.wv.most_similar(['gender'], topn=20)"
   ]
  },
  {
   "cell_type": "code",
   "execution_count": 131,
   "metadata": {},
   "outputs": [
    {
     "name": "stderr",
     "output_type": "stream",
     "text": [
      "/Users/caramessina/anaconda3/lib/python3.6/site-packages/gensim/matutils.py:737: FutureWarning: Conversion of the second argument of issubdtype from `int` to `np.signedinteger` is deprecated. In future, it will be treated as `np.int64 == np.dtype(int).type`.\n",
      "  if np.issubdtype(vec.dtype, np.int):\n"
     ]
    },
    {
     "data": {
      "text/plain": [
       "[('but-', 0.9141560196876526),\n",
       " ('peg', 0.8600756525993347),\n",
       " ('smarter', 0.8549880385398865),\n",
       " ('sorta', 0.8404135704040527),\n",
       " ('rambl', 0.8402645587921143),\n",
       " ('hah', 0.8382165431976318),\n",
       " ('duh', 0.8349829316139221),\n",
       " ('impli', 0.8345717191696167),\n",
       " ('nerd', 0.8309779763221741),\n",
       " ('inappropri', 0.8273021578788757),\n",
       " ('immatur', 0.8241227269172668),\n",
       " ('wiser', 0.8215035200119019),\n",
       " ('sober', 0.8112272620201111),\n",
       " ('unhappi', 0.8083264231681824),\n",
       " ('fangirl', 0.805036187171936),\n",
       " ('asshol', 0.802947998046875),\n",
       " ('trivial', 0.8026454448699951),\n",
       " ('scari', 0.8025082349777222),\n",
       " ('ex-girlfriend', 0.7974963784217834),\n",
       " ('breakup', 0.7949498295783997)]"
      ]
     },
     "execution_count": 131,
     "metadata": {},
     "output_type": "execute_result"
    }
   ],
   "source": [
    "subKorra_w2v.wv.most_similar(['lesbian'], topn=20)"
   ]
  },
  {
   "cell_type": "code",
   "execution_count": 152,
   "metadata": {},
   "outputs": [
    {
     "name": "stderr",
     "output_type": "stream",
     "text": [
      "/Users/caramessina/anaconda3/lib/python3.6/site-packages/gensim/matutils.py:737: FutureWarning: Conversion of the second argument of issubdtype from `int` to `np.signedinteger` is deprecated. In future, it will be treated as `np.int64 == np.dtype(int).type`.\n",
      "  if np.issubdtype(vec.dtype, np.int):\n"
     ]
    },
    {
     "data": {
      "text/plain": [
       "[('proud', 0.7784759402275085),\n",
       " ('marriag', 0.7744129300117493),\n",
       " ('daughter', 0.7685775756835938),\n",
       " ('husband', 0.7571151852607727),\n",
       " ('lucki', 0.7524663805961609),\n",
       " ('refrain', 0.7516282200813293),\n",
       " ('parent', 0.7490397095680237),\n",
       " ('grandmoth', 0.7444103956222534),\n",
       " ('famili', 0.7367498874664307),\n",
       " ('wife', 0.7358691096305847),\n",
       " ('honor', 0.7280506491661072),\n",
       " ('birthday', 0.7257238626480103),\n",
       " ('dear', 0.7253580093383789),\n",
       " ('accept', 0.7243698239326477),\n",
       " ('fondli', 0.7237311601638794),\n",
       " ('adopt', 0.7139495611190796),\n",
       " ('nicknam', 0.7135270833969116),\n",
       " ('told', 0.7100114226341248),\n",
       " ('wed', 0.708044707775116),\n",
       " ('yumi', 0.7009112238883972)]"
      ]
     },
     "execution_count": 152,
     "metadata": {},
     "output_type": "execute_result"
    }
   ],
   "source": [
    "subKorra_w2v.wv.most_similar(['marri'], topn=20)"
   ]
  },
  {
   "cell_type": "code",
   "execution_count": 157,
   "metadata": {},
   "outputs": [
    {
     "name": "stderr",
     "output_type": "stream",
     "text": [
      "/Users/caramessina/anaconda3/lib/python3.6/site-packages/gensim/matutils.py:737: FutureWarning: Conversion of the second argument of issubdtype from `int` to `np.signedinteger` is deprecated. In future, it will be treated as `np.int64 == np.dtype(int).type`.\n",
      "  if np.issubdtype(vec.dtype, np.int):\n"
     ]
    },
    {
     "data": {
      "text/plain": [
       "[('husband', 0.8924795985221863),\n",
       " ('wife', 0.8594977259635925),\n",
       " ('korro', 0.7888396978378296),\n",
       " ('daughter', 0.7444596886634827),\n",
       " ('warmli', 0.7282865643501282),\n",
       " ('senna', 0.7272575497627258),\n",
       " ('dear', 0.7227210402488708),\n",
       " ('older', 0.7166091799736023),\n",
       " ('younger', 0.7136698961257935),\n",
       " ('child', 0.7121751308441162),\n",
       " ('women', 0.7119937539100647),\n",
       " ('mother', 0.710296630859375),\n",
       " ('fondli', 0.7090214490890503),\n",
       " ('lover', 0.6949121952056885),\n",
       " ('wive', 0.6912193298339844),\n",
       " ('kindli', 0.6842564344406128),\n",
       " ('delight', 0.676864743232727),\n",
       " ('marri', 0.6670804023742676),\n",
       " ('affection', 0.6641011834144592),\n",
       " ('izumi', 0.6531662344932556)]"
      ]
     },
     "execution_count": 157,
     "metadata": {},
     "output_type": "execute_result"
    }
   ],
   "source": [
    "subKorra_w2v.wv.most_similar(['pregnant'], topn=20)"
   ]
  },
  {
   "cell_type": "markdown",
   "metadata": {},
   "source": [
    "### Post-Korrasami Corpus"
   ]
  },
  {
   "cell_type": "code",
   "execution_count": 65,
   "metadata": {
    "collapsed": true
   },
   "outputs": [],
   "source": [
    "postKorra_w2v = wv(sent_postKorra, window=20, min_count=10, workers=4)"
   ]
  },
  {
   "cell_type": "code",
   "execution_count": 204,
   "metadata": {},
   "outputs": [
    {
     "name": "stderr",
     "output_type": "stream",
     "text": [
      "/Users/caramessina/anaconda3/lib/python3.6/site-packages/gensim/matutils.py:737: FutureWarning: Conversion of the second argument of issubdtype from `int` to `np.signedinteger` is deprecated. In future, it will be treated as `np.int64 == np.dtype(int).type`.\n",
      "  if np.issubdtype(vec.dtype, np.int):\n"
     ]
    },
    {
     "data": {
      "text/plain": [
       "[('korra', 0.8552396297454834),\n",
       " ('girlfriend', 0.6660484671592712),\n",
       " ('heiress', 0.5773499608039856),\n",
       " ('sami', 0.5623942613601685),\n",
       " ('babe', 0.5372836589813232),\n",
       " ('dork', 0.5250464081764221),\n",
       " ('lightli', 0.5144843459129333),\n",
       " ('mmm', 0.5117138028144836),\n",
       " ('breathlessli', 0.504883348941803),\n",
       " (\"'sami\", 0.4988788366317749),\n",
       " ('engin', 0.4957447946071625),\n",
       " ('shyli', 0.4895719289779663),\n",
       " ('mm', 0.48589250445365906),\n",
       " ('blush', 0.4811437427997589),\n",
       " ('hmm', 0.47896090149879456),\n",
       " ('okay', 0.47339361906051636),\n",
       " ('laura', 0.4697876572608948),\n",
       " ('softli', 0.46250495314598083),\n",
       " ('breathless', 0.4566752016544342),\n",
       " ('lovingli', 0.4543737471103668)]"
      ]
     },
     "execution_count": 204,
     "metadata": {},
     "output_type": "execute_result"
    }
   ],
   "source": [
    "postKorra_w2v.wv.most_similar(['asami'], topn=20)"
   ]
  },
  {
   "cell_type": "code",
   "execution_count": 70,
   "metadata": {},
   "outputs": [
    {
     "name": "stderr",
     "output_type": "stream",
     "text": [
      "/Users/caramessina/anaconda3/lib/python3.6/site-packages/gensim/matutils.py:737: FutureWarning: Conversion of the second argument of issubdtype from `int` to `np.signedinteger` is deprecated. In future, it will be treated as `np.int64 == np.dtype(int).type`.\n",
      "  if np.issubdtype(vec.dtype, np.int):\n"
     ]
    },
    {
     "data": {
      "text/plain": [
       "[('korra', 0.6986696124076843),\n",
       " ('asami', 0.6660485863685608),\n",
       " ('dork', 0.6309612393379211),\n",
       " ('ador', 0.6270508766174316),\n",
       " ('heiress', 0.6221494078636169),\n",
       " ('babe', 0.6041741967201233),\n",
       " ('fianc', 0.5740950107574463),\n",
       " ('pout', 0.5674326419830322),\n",
       " ('cute', 0.5636457204818726),\n",
       " ('teas', 0.5542226433753967),\n",
       " ('ceo', 0.5346977710723877),\n",
       " ('lover', 0.5226887464523315),\n",
       " ('lovingli', 0.5208807587623596),\n",
       " ('fluster', 0.5186401009559631),\n",
       " ('blush', 0.5139248371124268),\n",
       " ('sexi', 0.5102159976959229),\n",
       " ('fiance', 0.508668839931488),\n",
       " ('giggl', 0.5068516135215759),\n",
       " ('ex-boyfriend', 0.5025683641433716),\n",
       " ('seduct', 0.5015711784362793)]"
      ]
     },
     "execution_count": 70,
     "metadata": {},
     "output_type": "execute_result"
    }
   ],
   "source": [
    "postKorra_w2v.wv.most_similar(['girlfriend'], topn=20)"
   ]
  },
  {
   "cell_type": "code",
   "execution_count": 77,
   "metadata": {},
   "outputs": [
    {
     "name": "stderr",
     "output_type": "stream",
     "text": [
      "/Users/caramessina/anaconda3/lib/python3.6/site-packages/gensim/matutils.py:737: FutureWarning: Conversion of the second argument of issubdtype from `int` to `np.signedinteger` is deprecated. In future, it will be treated as `np.int64 == np.dtype(int).type`.\n",
      "  if np.issubdtype(vec.dtype, np.int):\n"
     ]
    },
    {
     "data": {
      "text/plain": [
       "[('asami', 0.855239748954773),\n",
       " ('girlfriend', 0.6986696124076843),\n",
       " ('breathlessli', 0.5904357433319092),\n",
       " ('heiress', 0.5890895128250122),\n",
       " ('babe', 0.5677245259284973),\n",
       " ('sami', 0.559546172618866),\n",
       " ('lightli', 0.5382922291755676),\n",
       " (\"'sami\", 0.5264853835105896),\n",
       " ('mmm', 0.5210567116737366),\n",
       " ('mm', 0.519873857498169),\n",
       " ('dork', 0.5108180046081543),\n",
       " ('breathless', 0.5032798051834106),\n",
       " ('teasingli', 0.4974740147590637),\n",
       " ('blush', 0.49296054244041443),\n",
       " ('shyli', 0.47768986225128174),\n",
       " ('pout', 0.4743771255016327),\n",
       " ('gentli', 0.4739275276660919),\n",
       " ('hmm', 0.46916264295578003),\n",
       " ('okay', 0.4683947265148163),\n",
       " ('softli', 0.4628128409385681)]"
      ]
     },
     "execution_count": 77,
     "metadata": {},
     "output_type": "execute_result"
    }
   ],
   "source": [
    "postKorra_w2v.wv.most_similar(['korra'], topn=20)"
   ]
  },
  {
   "cell_type": "code",
   "execution_count": 89,
   "metadata": {},
   "outputs": [
    {
     "name": "stderr",
     "output_type": "stream",
     "text": [
      "/Users/caramessina/anaconda3/lib/python3.6/site-packages/gensim/matutils.py:737: FutureWarning: Conversion of the second argument of issubdtype from `int` to `np.signedinteger` is deprecated. In future, it will be treated as `np.int64 == np.dtype(int).type`.\n",
      "  if np.issubdtype(vec.dtype, np.int):\n"
     ]
    },
    {
     "data": {
      "text/plain": [
       "[('omega', 0.6915645599365234),\n",
       " ('alpha', 0.6567217707633972),\n",
       " ('inventor', 0.6470993757247925),\n",
       " ('squirm', 0.624725878238678),\n",
       " ('girlfriend', 0.6221494078636169),\n",
       " ('korra', 0.5890895128250122),\n",
       " ('brunett', 0.583236813545227),\n",
       " ('asami', 0.5773500204086304),\n",
       " ('arous', 0.5766016244888306),\n",
       " ('raven-hair', 0.5765764117240906),\n",
       " ('whimper', 0.5752760171890259),\n",
       " ('straddl', 0.5624386668205261),\n",
       " ('tan', 0.5509368181228638),\n",
       " ('breast', 0.5499779582023621),\n",
       " ('ceo', 0.547355055809021),\n",
       " ('pur', 0.539905309677124),\n",
       " ('fondl', 0.5350602269172668),\n",
       " ('pussi', 0.5292314291000366),\n",
       " ('hip', 0.5262117385864258),\n",
       " ('lust', 0.5254981517791748)]"
      ]
     },
     "execution_count": 89,
     "metadata": {},
     "output_type": "execute_result"
    }
   ],
   "source": [
    "postKorra_w2v.wv.most_similar(['heiress'], topn=20)"
   ]
  },
  {
   "cell_type": "code",
   "execution_count": 206,
   "metadata": {},
   "outputs": [
    {
     "name": "stderr",
     "output_type": "stream",
     "text": [
      "/Users/caramessina/anaconda3/lib/python3.6/site-packages/gensim/matutils.py:737: FutureWarning: Conversion of the second argument of issubdtype from `int` to `np.signedinteger` is deprecated. In future, it will be treated as `np.int64 == np.dtype(int).type`.\n",
      "  if np.issubdtype(vec.dtype, np.int):\n"
     ]
    },
    {
     "data": {
      "text/plain": [
       "[('girl', 0.6128966212272644),\n",
       " ('tan', 0.5491816997528076),\n",
       " ('teen', 0.51688152551651),\n",
       " ('man', 0.5110265016555786),\n",
       " ('raven', 0.5066137313842773),\n",
       " ('heiress', 0.4812253415584564),\n",
       " ('dark-skin', 0.48040083050727844),\n",
       " ('raven-hair', 0.47327181696891785),\n",
       " ('inventor', 0.4690433740615845),\n",
       " ('tren', 0.46807485818862915),\n",
       " ('young', 0.4651164710521698),\n",
       " ('older', 0.4608103632926941),\n",
       " ('taller', 0.45827239751815796),\n",
       " ('women', 0.4442558288574219),\n",
       " ('prodigi', 0.43734028935432434),\n",
       " ('muscular', 0.4348944425582886),\n",
       " ('younger', 0.43127143383026123),\n",
       " ('stranger', 0.428732305765152),\n",
       " ('pale-skin', 0.4274151921272278),\n",
       " ('dark-hair', 0.4234382212162018)]"
      ]
     },
     "execution_count": 206,
     "metadata": {},
     "output_type": "execute_result"
    }
   ],
   "source": [
    "postKorra_w2v.wv.most_similar(['woman'], topn=20)"
   ]
  },
  {
   "cell_type": "code",
   "execution_count": 101,
   "metadata": {},
   "outputs": [
    {
     "name": "stderr",
     "output_type": "stream",
     "text": [
      "/Users/caramessina/anaconda3/lib/python3.6/site-packages/gensim/matutils.py:737: FutureWarning: Conversion of the second argument of issubdtype from `int` to `np.signedinteger` is deprecated. In future, it will be treated as `np.int64 == np.dtype(int).type`.\n",
      "  if np.issubdtype(vec.dtype, np.int):\n"
     ]
    },
    {
     "data": {
      "text/plain": [
       "[('allur', 0.7315315008163452),\n",
       " ('contrast', 0.7279200553894043),\n",
       " ('eleg', 0.7141945958137512),\n",
       " ('accentu', 0.7073886394500732),\n",
       " ('physiqu', 0.706202507019043),\n",
       " ('angular', 0.6974437236785889),\n",
       " ('masculin', 0.6968234777450562),\n",
       " ('entic', 0.6965820789337158),\n",
       " ('musculatur', 0.6892468333244324),\n",
       " ('sculpt', 0.6783508658409119),\n",
       " ('flawless', 0.6769590973854065),\n",
       " ('distinct', 0.6709342002868652),\n",
       " ('muscular', 0.6657618284225464),\n",
       " ('mesmer', 0.6578235626220703),\n",
       " ('undeni', 0.6561500430107117),\n",
       " ('exquisit', 0.6532119512557983),\n",
       " ('complexion', 0.6444883942604065),\n",
       " ('marvel', 0.6425728797912598),\n",
       " ('chisel', 0.6417080163955688),\n",
       " ('delic', 0.640998125076294)]"
      ]
     },
     "execution_count": 101,
     "metadata": {},
     "output_type": "execute_result"
    }
   ],
   "source": [
    "postKorra_w2v.wv.most_similar(['feminin'], topn=20)"
   ]
  },
  {
   "cell_type": "code",
   "execution_count": 104,
   "metadata": {},
   "outputs": [
    {
     "name": "stderr",
     "output_type": "stream",
     "text": [
      "/Users/caramessina/anaconda3/lib/python3.6/site-packages/gensim/matutils.py:737: FutureWarning: Conversion of the second argument of issubdtype from `int` to `np.signedinteger` is deprecated. In future, it will be treated as `np.int64 == np.dtype(int).type`.\n",
      "  if np.issubdtype(vec.dtype, np.int):\n"
     ]
    },
    {
     "data": {
      "text/plain": [
       "[('epitom', 0.7003445029258728),\n",
       " ('feminin', 0.6968234777450562),\n",
       " ('qualiti', 0.6952031850814819),\n",
       " ('gender', 0.6914891004562378),\n",
       " ('angular', 0.6889472007751465),\n",
       " ('allur', 0.6764456033706665),\n",
       " ('worship', 0.6762538552284241),\n",
       " ('musculatur', 0.675748884677887),\n",
       " ('manli', 0.6754828691482544),\n",
       " ('trademark', 0.6736838221549988),\n",
       " ('complement', 0.6731098294258118),\n",
       " ('flashi', 0.6717349290847778),\n",
       " ('undeni', 0.6714355945587158),\n",
       " ('erot', 0.6695486903190613),\n",
       " ('contemporari', 0.6690717935562134),\n",
       " ('stereotyp', 0.6660759449005127),\n",
       " ('superfici', 0.6659425497055054),\n",
       " ('queer', 0.6608322858810425),\n",
       " ('japanes', 0.653177797794342),\n",
       " ('user', 0.6527581214904785)]"
      ]
     },
     "execution_count": 104,
     "metadata": {},
     "output_type": "execute_result"
    }
   ],
   "source": [
    "postKorra_w2v.wv.most_similar(['masculin'], topn=20)"
   ]
  },
  {
   "cell_type": "code",
   "execution_count": 109,
   "metadata": {},
   "outputs": [
    {
     "name": "stderr",
     "output_type": "stream",
     "text": [
      "/Users/caramessina/anaconda3/lib/python3.6/site-packages/gensim/matutils.py:737: FutureWarning: Conversion of the second argument of issubdtype from `int` to `np.signedinteger` is deprecated. In future, it will be treated as `np.int64 == np.dtype(int).type`.\n",
      "  if np.issubdtype(vec.dtype, np.int):\n"
     ]
    },
    {
     "data": {
      "text/plain": [
       "[('biolog', 0.7380633354187012),\n",
       " ('common', 0.7290197014808655),\n",
       " ('stereotyp', 0.728571355342865),\n",
       " ('renown', 0.7237654328346252),\n",
       " ('heritag', 0.7177746295928955),\n",
       " ('categori', 0.7151609659194946),\n",
       " ('matur', 0.7136565446853638),\n",
       " ('exampl', 0.703478991985321),\n",
       " ('dislik', 0.7019073963165283),\n",
       " ('queer', 0.7015695571899414),\n",
       " ('genet', 0.7014217972755432),\n",
       " ('averag', 0.6998161673545837),\n",
       " ('masculin', 0.6914891004562378),\n",
       " ('concept', 0.6876851916313171),\n",
       " ('suprem', 0.6873180866241455),\n",
       " ('interact', 0.6867102384567261),\n",
       " ('worship', 0.6861883401870728),\n",
       " ('obsess', 0.6861700415611267),\n",
       " ('trait', 0.6847718954086304),\n",
       " ('speci', 0.6835721731185913)]"
      ]
     },
     "execution_count": 109,
     "metadata": {},
     "output_type": "execute_result"
    }
   ],
   "source": [
    "postKorra_w2v.wv.most_similar(['gender'], topn=20)"
   ]
  },
  {
   "cell_type": "code",
   "execution_count": 114,
   "metadata": {},
   "outputs": [
    {
     "name": "stderr",
     "output_type": "stream",
     "text": [
      "/Users/caramessina/anaconda3/lib/python3.6/site-packages/gensim/matutils.py:737: FutureWarning: Conversion of the second argument of issubdtype from `int` to `np.signedinteger` is deprecated. In future, it will be treated as `np.int64 == np.dtype(int).type`.\n",
      "  if np.issubdtype(vec.dtype, np.int):\n"
     ]
    },
    {
     "data": {
      "text/plain": [
       "[('gene', 0.8113480806350708),\n",
       " ('categor', 0.8026371598243713),\n",
       " ('homophob', 0.7778434157371521),\n",
       " ('oversight', 0.7768436670303345),\n",
       " ('synonym', 0.7708051800727844),\n",
       " ('poser', 0.7690443396568298),\n",
       " ('open-mind', 0.768737256526947),\n",
       " (\"'new\", 0.759117066860199),\n",
       " ('innumer', 0.7587401270866394),\n",
       " ('genocid', 0.7576499581336975),\n",
       " ('pouvoir', 0.7570508122444153),\n",
       " ('standpoint', 0.7549765110015869),\n",
       " ('high-profil', 0.7549502849578857),\n",
       " ('mot', 0.7545825839042664),\n",
       " ('unaccustom', 0.7538706660270691),\n",
       " ('esprit', 0.7527821660041809),\n",
       " ('tomboy', 0.746514618396759),\n",
       " ('juvenil', 0.7424350380897522),\n",
       " ('eu', 0.7423019409179688),\n",
       " ('superfici', 0.740811824798584)]"
      ]
     },
     "execution_count": 114,
     "metadata": {},
     "output_type": "execute_result"
    }
   ],
   "source": [
    "postKorra_w2v.wv.most_similar(['queer'], topn=20)"
   ]
  },
  {
   "cell_type": "code",
   "execution_count": 133,
   "metadata": {},
   "outputs": [
    {
     "name": "stderr",
     "output_type": "stream",
     "text": [
      "/Users/caramessina/anaconda3/lib/python3.6/site-packages/gensim/matutils.py:737: FutureWarning: Conversion of the second argument of issubdtype from `int` to `np.signedinteger` is deprecated. In future, it will be treated as `np.int64 == np.dtype(int).type`.\n",
      "  if np.issubdtype(vec.dtype, np.int):\n"
     ]
    },
    {
     "data": {
      "text/plain": [
       "[('lesbian', 0.7358127236366272),\n",
       " ('fangirl', 0.6794250011444092),\n",
       " ('gay', 0.6769630312919617),\n",
       " ('heterosexu', 0.6747435331344604),\n",
       " ('romanc', 0.6363551020622253),\n",
       " ('nerd', 0.6221931576728821),\n",
       " ('ami', 0.6101471185684204),\n",
       " ('secondli', 0.6081928610801697),\n",
       " ('corni', 0.6047763228416443),\n",
       " ('woo', 0.6042453646659851),\n",
       " ('maker', 0.6038182377815247),\n",
       " ('oke', 0.6038076281547546),\n",
       " ('hockey', 0.6025301814079285),\n",
       " ('concert', 0.5989912748336792),\n",
       " ('19', 0.5936625599861145),\n",
       " ('bae', 0.5933998227119446),\n",
       " ('categori', 0.5922248959541321),\n",
       " ('famou', 0.5869439244270325),\n",
       " ('scholarship', 0.5863643884658813),\n",
       " ('ex', 0.5847569108009338)]"
      ]
     },
     "execution_count": 133,
     "metadata": {},
     "output_type": "execute_result"
    }
   ],
   "source": [
    "postKorra_w2v.wv.most_similar(['bisexu'], topn=20)"
   ]
  },
  {
   "cell_type": "code",
   "execution_count": 147,
   "metadata": {},
   "outputs": [
    {
     "name": "stderr",
     "output_type": "stream",
     "text": [
      "/Users/caramessina/anaconda3/lib/python3.6/site-packages/gensim/matutils.py:737: FutureWarning: Conversion of the second argument of issubdtype from `int` to `np.signedinteger` is deprecated. In future, it will be treated as `np.int64 == np.dtype(int).type`.\n",
      "  if np.issubdtype(vec.dtype, np.int):\n"
     ]
    },
    {
     "data": {
      "text/plain": [
       "[('queer', 0.6622498631477356),\n",
       " ('homophob', 0.6554720401763916),\n",
       " ('lesbian', 0.6422443985939026),\n",
       " ('aristocrat', 0.6391816139221191),\n",
       " ('vindict', 0.6317988038063049),\n",
       " ('snooti', 0.6288875937461853),\n",
       " ('stupidest', 0.6279544234275818),\n",
       " ('stereotyp', 0.6253094673156738),\n",
       " ('rich', 0.6236247420310974),\n",
       " ('gene', 0.6233779191970825),\n",
       " ('gig', 0.6204466223716736),\n",
       " ('suitor', 0.6162865161895752),\n",
       " ('.that', 0.6161808371543884),\n",
       " ('nobl', 0.6161414384841919),\n",
       " ('prom', 0.6159921288490295),\n",
       " ('ex-wif', 0.6135737299919128),\n",
       " ('juvenil', 0.6128740906715393),\n",
       " ('imbecil', 0.6123341917991638),\n",
       " ('dislik', 0.6114457845687866),\n",
       " ('pervert', 0.6084153652191162)]"
      ]
     },
     "execution_count": 147,
     "metadata": {},
     "output_type": "execute_result"
    }
   ],
   "source": [
    "postKorra_w2v.wv.most_similar(['racist'], topn=20)"
   ]
  },
  {
   "cell_type": "code",
   "execution_count": 155,
   "metadata": {},
   "outputs": [
    {
     "name": "stderr",
     "output_type": "stream",
     "text": [
      "/Users/caramessina/anaconda3/lib/python3.6/site-packages/gensim/matutils.py:737: FutureWarning: Conversion of the second argument of issubdtype from `int` to `np.signedinteger` is deprecated. In future, it will be treated as `np.int64 == np.dtype(int).type`.\n",
      "  if np.issubdtype(vec.dtype, np.int):\n"
     ]
    },
    {
     "data": {
      "text/plain": [
       "[('marriag', 0.7341805100440979),\n",
       " ('wed', 0.6527568101882935),\n",
       " ('propos', 0.6325207352638245),\n",
       " ('wife', 0.6007057428359985),\n",
       " ('spous', 0.5760090351104736),\n",
       " ('honeymoon', 0.5428836345672607),\n",
       " ('bisexu', 0.5397241115570068),\n",
       " ('elop', 0.5394207239151001),\n",
       " ('birthday', 0.5360244512557983),\n",
       " ('grandmoth', 0.5315588712692261),\n",
       " ('bride', 0.5304710865020752),\n",
       " ('adopt', 0.5283628702163696),\n",
       " ('gay', 0.5264289975166321),\n",
       " ('husband', 0.5150956511497498),\n",
       " ('hero', 0.5113064646720886),\n",
       " ('niec', 0.4979856312274933),\n",
       " ('ex', 0.49780890345573425),\n",
       " (\"'and\", 0.4883483350276947),\n",
       " ('love', 0.4878637492656708),\n",
       " ('pregnant', 0.48736679553985596)]"
      ]
     },
     "execution_count": 155,
     "metadata": {},
     "output_type": "execute_result"
    }
   ],
   "source": [
    "postKorra_w2v.wv.most_similar(['marri'], topn=20)"
   ]
  },
  {
   "cell_type": "code",
   "execution_count": 167,
   "metadata": {},
   "outputs": [
    {
     "name": "stderr",
     "output_type": "stream",
     "text": [
      "/Users/caramessina/anaconda3/lib/python3.6/site-packages/gensim/matutils.py:737: FutureWarning: Conversion of the second argument of issubdtype from `int` to `np.signedinteger` is deprecated. In future, it will be treated as `np.int64 == np.dtype(int).type`.\n",
      "  if np.issubdtype(vec.dtype, np.int):\n"
     ]
    },
    {
     "data": {
      "text/plain": [
       "[('pregnanc', 0.6898149251937866),\n",
       " ('birth', 0.6444066166877747),\n",
       " ('husband', 0.6266837120056152),\n",
       " ('sire', 0.6051164865493774),\n",
       " ('wife', 0.600002110004425),\n",
       " ('babi', 0.5909838080406189),\n",
       " ('newborn', 0.5690059661865234),\n",
       " ('omega', 0.5682777166366577),\n",
       " ('senna', 0.5609380602836609),\n",
       " ('daughter', 0.5432636141777039),\n",
       " ('child', 0.5412541031837463),\n",
       " ('parent', 0.5409191846847534),\n",
       " ('tought', 0.5388841032981873),\n",
       " ('born', 0.5347464680671692),\n",
       " ('mother', 0.5282257199287415),\n",
       " ('grandchild', 0.5247682332992554),\n",
       " ('motherli', 0.5243872404098511),\n",
       " ('tonraq', 0.5184610486030579),\n",
       " ('marriag', 0.5181713700294495),\n",
       " ('katara', 0.5169015526771545)]"
      ]
     },
     "execution_count": 167,
     "metadata": {},
     "output_type": "execute_result"
    }
   ],
   "source": [
    "postKorra_w2v.wv.most_similar(['pregnant'], topn=20)"
   ]
  },
  {
   "cell_type": "markdown",
   "metadata": {},
   "source": [
    "### Potential Results Overall\n",
    "\n",
    "Good things to look at:\n",
    "- Asami:\n",
    "    - pre: heriress, cheerlead, girlfriend, football, girl, babe\n",
    "    - subtext: engine, mumble, babe, breathlessli, nervous, grin, lean\n",
    "    - post: girlfeind, heiress, dork, babe, lightli, 'mmm,' breathlessli, engine\n",
    "- \"girlfriend\"\n",
    "    - pre: boyfriend, jelaous, date, quarterback, drama (more focused on the external relationships)\n",
    "    - sub: cute, chuckl, date, wink, babe, blush (more about the actions, the feelings, the emotions)\n",
    "    - post: asami, korra, dork, adore, lovingli, lover, fianc, etc. Much more about the interactions, building the feelings, and korra/asami (CEO, heiress, etc)\n",
    "- Korra:\n",
    "    - pre: asami, cheerleader, quarterback, nervous, sheepish, embarrass\n",
    "    - sub: asami, babe, softli, nervous,\n",
    "    - post: girlfriend, heiress, teasingli,  \n",
    "- cheerleader (cheerlead)/quarterback\n",
    "    - first: qusrterback, blush, football, 'sami, etc. \n",
    "    - sub/post: not important\n",
    "- heiress:\n",
    "    - in FF, \"nicknames\" are given to characters, especially characters of the same gender, because relying on pronouns can make prose confusing. For example, \"the heiress\" may be used as a replacement for Asami\n",
    "    - pre: gorgeous, asami, girl, beautiful, cheerlead, businesswoman, eyeshadow, hairstyle\n",
    "    - sub: breathlessli, wider, flush, arch, a-asami\n",
    "    - post: omega/alpha, inventor, squirm, girlfriend, \n",
    "- woman:\n",
    "    - pre: young, man, ladi, elderli, husband (relationships)\n",
    "    - sub: older, younger, taller, etc (descriptions)\n",
    "    - post: descriptions, more specifically related to Korra and Asami (raven-haired, dark-skin, muscular, etc.) \n",
    "- feminin (feminine):\n",
    "    - Pre:  eleg, accent, accentu, complement, facial, tan, contrast, decideli, highlight, creami\n",
    "    - sub: brunett (specific character), creami, chestnut (hair, skin), probe, vagina, explicitly about sex\n",
    "    - post: allur, contrast, eleg, accentu, physiqu, angular, masculin – about shifting bodies and roles\n",
    "    \n",
    "- masculin (masculine):\n",
    "    - Pre: undeni (undeniable), mixtur, enchat, incomprehens, labia\n",
    "    - sub: porn, inexperienc, pervert, envi, (much more negative)\n",
    "    - post: epitom, feminin, qualiti, gender, angular, allur, worship\n",
    "    \n",
    "- gender:\n",
    "    - pre: inspir, interpret, writer, genr, charact, fiction, creativ\n",
    "    - sub: reput, wage, specul, inventor, exclus, spectacular, sophist, outcast, commun.\n",
    "    - post: biolog, common, stereotyp, renown, heritag, categori, matur, queer,\n",
    "    \n",
    "- queer:\n",
    "    - pre: not in model\n",
    "    - sub: not in model\n",
    "    - post: gene, categor, homophob, oversight, synonym, poser, open-minded, new,\n",
    "    \n",
    "- bisexual:\n",
    "    - pre: not in model\n",
    "    - sub: not in model\n",
    "    - post: lesbian, gay, heterosex, romanc,\n",
    "    \n",
    "- lesbian:\n",
    "    - pre: not in model\n",
    "    - sub: but, peg, smarter, sorta, rambl, hah, duh, impli, nerd, inappropriate, wiser, sober, unhappi, fangirl\n",
    "    - post: gay, bisexual, yeah, ex, fangirl, fuckin, racist\n",
    "\n",
    "- heterosexu (heterosexual, heterosexuality, etc) :\n",
    "    - pre: not in model\n",
    "    - sub: not in model\n",
    "    - post: vocab around sexuality\n",
    "\n",
    "- racist:\n",
    "    - pre: not in model\n",
    "    - sub: not in model\n",
    "    - post: queer, homophob, aristocrat, – aware of social issues\n",
    "\n",
    "- marri (marry, etc):\n",
    "    - pre: marriag, wed, wife, pregnant, sixteen, eighteen, age\n",
    "    - sub: proud, marriag, daughter, husband, luki, refrain, parent, famili\n",
    "    - post: marriag, wed, propos, wife, spous, honeymoon\n",
    "    \n",
    "- pregnant:\n",
    "    - pre: marri, pregnanc, babi, fourteen-year-old, wife, mum, child\n",
    "    - sub: husband, wife, korro (masc korra? child), daughter, warmli, dear, older\n",
    "    - post: pregnanc, birth, husband, sire, wife, babi, newborn, omega\n"
   ]
  },
  {
   "cell_type": "markdown",
   "metadata": {},
   "source": [
    "## Concordances\n",
    "\n",
    "Although NLTK has a concordance function, it only shows the first 25 results. I instead found this function \"makeConc\" from [Geoffrey Rockwell](https://github.com/sgsinclair/alta/blob/a482d343142cba12030fea4be8f96fb77579b3ab/ipynb/utilities/Concordances.ipynb) that shows more than 25 results and is fairly flexible in its results. \n",
    "\n",
    "The \"makeConc\" function requires a tokenized list, so I will still be using the \"read_txt\" function, but I will be using the concordance function on the uncleaned versions of the corpora so the context is a bit more clear.\n",
    "\n",
    "I have chosen to keep the output results hidden because these excerpts and texts do not belong to me, so I would prefer not to publish someone else's writing and language unless I have their permission."
   ]
  },
  {
   "cell_type": "code",
   "execution_count": 226,
   "metadata": {
    "collapsed": true
   },
   "outputs": [],
   "source": [
    "preKorra_string = read_txt('../../../data/korra/korra2018/time/preKorrasami_unclean.txt')\n",
    "subtextKorra_string = read_txt('../../../data/korra/korra2018/time/subtextKorrasami_unclean.txt')\n",
    "postKorra_string = read_txt('../../../data/korra/korra2018/time/postKorrasami_unclean.txt')"
   ]
  },
  {
   "cell_type": "code",
   "execution_count": 222,
   "metadata": {
    "collapsed": true
   },
   "outputs": [],
   "source": [
    "def makeConc(word2conc,list2FindIn,context2Use,concList):\n",
    "    # Lets get \n",
    "    end = len(list2FindIn)\n",
    "    for location in range(end):\n",
    "        if list2FindIn[location] == word2conc:\n",
    "            # Here we check whether we are at the very beginning or end\n",
    "            if (location - context2Use) < 0:\n",
    "                beginCon = 0\n",
    "            else:\n",
    "                beginCon = location - context2Use\n",
    "                \n",
    "            if (location + context2Use) > end:\n",
    "                endCon = end\n",
    "            else:\n",
    "                endCon = location + context2Use + 1\n",
    "                \n",
    "            theContext = (list2FindIn[beginCon:endCon])\n",
    "            concordanceLine = ' '.join(theContext)\n",
    "            # print(str(location) + \": \" + concordanceLine)\n",
    "            concList.append(str(location) + \": \" + concordanceLine)"
   ]
  },
  {
   "cell_type": "markdown",
   "metadata": {},
   "source": [
    "### Gender"
   ]
  },
  {
   "cell_type": "code",
   "execution_count": null,
   "metadata": {},
   "outputs": [],
   "source": [
    "gender1 = []\n",
    "makeConc('gender',preKorra_string,5,gender1)\n",
    "gender1"
   ]
  },
  {
   "cell_type": "code",
   "execution_count": null,
   "metadata": {},
   "outputs": [],
   "source": [
    "gender2 = []\n",
    "makeConc('gender',subtextKorra_string,5,gender2)\n",
    "gender2"
   ]
  },
  {
   "cell_type": "code",
   "execution_count": null,
   "metadata": {
    "scrolled": false
   },
   "outputs": [],
   "source": [
    "gender3 = []\n",
    "makeConc('gender',postKorra_string,5,gender3)\n",
    "gender3"
   ]
  },
  {
   "cell_type": "markdown",
   "metadata": {},
   "source": [
    "### Feminine/Masculine"
   ]
  },
  {
   "cell_type": "code",
   "execution_count": null,
   "metadata": {},
   "outputs": [],
   "source": [
    "fem1 = []\n",
    "makeConc('feminine',preKorra_string,6,fem1)\n",
    "fem1"
   ]
  },
  {
   "cell_type": "code",
   "execution_count": null,
   "metadata": {},
   "outputs": [],
   "source": [
    "masc1 = []\n",
    "makeConc('masculine',preKorra_string,6,masc1)\n",
    "masc1"
   ]
  },
  {
   "cell_type": "code",
   "execution_count": null,
   "metadata": {},
   "outputs": [],
   "source": [
    "fem2 = []\n",
    "makeConc('feminine',subtextKorra_string,7,fem2)\n",
    "fem2"
   ]
  },
  {
   "cell_type": "code",
   "execution_count": null,
   "metadata": {},
   "outputs": [],
   "source": [
    "masc2 = []\n",
    "makeConc('masculine',subtextKorra_string,7,masc2)\n",
    "masc2"
   ]
  },
  {
   "cell_type": "code",
   "execution_count": null,
   "metadata": {},
   "outputs": [],
   "source": [
    "fem3 = []\n",
    "makeConc('feminine',postKorra_string,6,fem3)\n",
    "fem3"
   ]
  },
  {
   "cell_type": "code",
   "execution_count": null,
   "metadata": {},
   "outputs": [],
   "source": [
    "masc3 = []\n",
    "makeConc('masculine',postKorra_string,6,masc3)\n",
    "masc3"
   ]
  },
  {
   "cell_type": "markdown",
   "metadata": {},
   "source": [
    "### Sexuality Markers: Gay, Bi, & Lesbian"
   ]
  },
  {
   "cell_type": "code",
   "execution_count": null,
   "metadata": {},
   "outputs": [],
   "source": [
    "gay1 = []\n",
    "makeConc('gay',preKorra_string,9,gay1)\n",
    "gay1"
   ]
  },
  {
   "cell_type": "code",
   "execution_count": null,
   "metadata": {},
   "outputs": [],
   "source": [
    "les1 = []\n",
    "makeConc('lesbian',preKorra_string,9,les1)\n",
    "les1"
   ]
  },
  {
   "cell_type": "code",
   "execution_count": null,
   "metadata": {},
   "outputs": [],
   "source": [
    "bi1 = []\n",
    "makeConc('bi',preKorra_string,7,bi1)\n",
    "bi1"
   ]
  },
  {
   "cell_type": "code",
   "execution_count": null,
   "metadata": {},
   "outputs": [],
   "source": [
    "gay2 = []\n",
    "makeConc('gay',subtextKorra_string,9,gay2)\n",
    "gay2"
   ]
  },
  {
   "cell_type": "code",
   "execution_count": null,
   "metadata": {},
   "outputs": [],
   "source": [
    "les2 = []\n",
    "makeConc('lesbian',subtextKorra_string,9,les2)\n",
    "les2"
   ]
  },
  {
   "cell_type": "code",
   "execution_count": null,
   "metadata": {},
   "outputs": [],
   "source": [
    "bi2 = []\n",
    "makeConc('bisexual',subtextKorra_string,9,bi2)\n",
    "bi2"
   ]
  },
  {
   "cell_type": "code",
   "execution_count": null,
   "metadata": {},
   "outputs": [],
   "source": [
    "gay3 = []\n",
    "makeConc('gay',postKorra_string,7,gay3)\n",
    "gay3"
   ]
  },
  {
   "cell_type": "code",
   "execution_count": null,
   "metadata": {},
   "outputs": [],
   "source": [
    "les3 = []\n",
    "makeConc('lesbian',postKorra_string,7,les3)\n",
    "les3"
   ]
  },
  {
   "cell_type": "markdown",
   "metadata": {},
   "source": [
    "### Girlfriend"
   ]
  },
  {
   "cell_type": "code",
   "execution_count": null,
   "metadata": {},
   "outputs": [],
   "source": [
    "gf1 = []\n",
    "makeConc('girlfriend',preKorra_string,6,gf1)\n",
    "gf1"
   ]
  },
  {
   "cell_type": "code",
   "execution_count": null,
   "metadata": {},
   "outputs": [],
   "source": [
    "gf2 = []\n",
    "makeConc('girlfriend',subtextKorra_string,8,gf2)\n",
    "gf2"
   ]
  },
  {
   "cell_type": "code",
   "execution_count": null,
   "metadata": {},
   "outputs": [],
   "source": [
    "gf3 = []\n",
    "makeConc('girlfriend',postKorra_string,5,gf3)\n",
    "gf3"
   ]
  },
  {
   "cell_type": "markdown",
   "metadata": {},
   "source": [
    "### Biological"
   ]
  },
  {
   "cell_type": "code",
   "execution_count": null,
   "metadata": {},
   "outputs": [],
   "source": [
    "bio1 = []\n",
    "makeConc('biological',preKorra_string,6,bio1)\n",
    "bio1"
   ]
  },
  {
   "cell_type": "code",
   "execution_count": null,
   "metadata": {},
   "outputs": [],
   "source": [
    "bio2 = []\n",
    "makeConc('biological',subtextKorra_string,6,bio2)\n",
    "bio2"
   ]
  },
  {
   "cell_type": "code",
   "execution_count": null,
   "metadata": {},
   "outputs": [],
   "source": [
    "bio3 = []\n",
    "makeConc('biological',postKorra_string,6,bio3)\n",
    "bio3"
   ]
  },
  {
   "cell_type": "code",
   "execution_count": null,
   "metadata": {},
   "outputs": [],
   "source": [
    "bi3 = []\n",
    "makeConc('bi',postKorra_string,8,bi3)\n",
    "bi3"
   ]
  }
 ],
 "metadata": {
  "kernelspec": {
   "display_name": "Python 3",
   "language": "python",
   "name": "python3"
  },
  "language_info": {
   "codemirror_mode": {
    "name": "ipython",
    "version": 3
   },
   "file_extension": ".py",
   "mimetype": "text/x-python",
   "name": "python",
   "nbconvert_exporter": "python",
   "pygments_lexer": "ipython3",
   "version": "3.7.7"
  }
 },
 "nbformat": 4,
 "nbformat_minor": 2
}
