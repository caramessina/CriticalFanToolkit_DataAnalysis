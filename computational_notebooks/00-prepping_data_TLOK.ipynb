{
 "cells": [
  {
   "cell_type": "markdown",
   "metadata": {},
   "source": [
    "## Tracing Fan Uptake:<br/>Computational Text Analysis of \"The Legend of Korra\" Fanfictions from Archive Of Our Own\n",
    "\n",
    "Cara Marta Messina<br/>\n",
    "PhD Candidate in English, Writing & Rhetoric<br/>\n",
    "Northeastern University<br/>\n",
    "Published for <em>The Journal of Writing Analytics</em>, Volume 3 and [The Critical Fan Toolkit](http://www.criticalfantoolkit.org/home).\n",
    "\n",
    "This computational notebook demonstrates the data preparation steps for the article \"Tracing Fan Uptakes: Relationship Tagging Practices in The Legend of Korra Fanfictions,\" which has been accepted and will be published soon in the <em>The Journal of Writing Analytics</em>.\n",
    "\n",
    "This notebook will go over:\n",
    "- uploading the csv file created using Jingyi Li and Sarah Sterman's <em>Archive of Our Own</em> Python scraper (available at https://github.com/radiolarian/AO3Scraper)\n",
    "- adding in the 'month' column\n",
    "- basic visualizations"
   ]
  },
  {
   "cell_type": "code",
   "execution_count": 41,
   "metadata": {
    "collapsed": true
   },
   "outputs": [],
   "source": [
    "#pandas for working with dataframes\n",
    "import pandas as pd\n",
    "\n",
    "#regular expression library\n",
    "import re\n",
    "\n",
    "#numpy specifically works with numbers\n",
    "import numpy as np\n",
    "\n",
    "#matplot library creates visualizations\n",
    "import matplotlib.pyplot as plt\n",
    "%matplotlib inline\n",
    "\n",
    "#for making a string of elements separated by commas into a list\n",
    "from nltk.tokenize.punkt import PunktSentenceTokenizer, PunktLanguageVars \n",
    "\n",
    "#has the nice counter feature for counting tags\n",
    "import collections\n",
    "from collections import Counter "
   ]
  },
  {
   "cell_type": "code",
   "execution_count": 2,
   "metadata": {},
   "outputs": [
    {
     "data": {
      "text/html": [
       "<div>\n",
       "<style>\n",
       "    .dataframe thead tr:only-child th {\n",
       "        text-align: right;\n",
       "    }\n",
       "\n",
       "    .dataframe thead th {\n",
       "        text-align: left;\n",
       "    }\n",
       "\n",
       "    .dataframe tbody tr th {\n",
       "        vertical-align: top;\n",
       "    }\n",
       "</style>\n",
       "<table border=\"1\" class=\"dataframe\">\n",
       "  <thead>\n",
       "    <tr style=\"text-align: right;\">\n",
       "      <th></th>\n",
       "      <th>Unnamed: 0</th>\n",
       "      <th>work_id</th>\n",
       "      <th>title</th>\n",
       "      <th>rating</th>\n",
       "      <th>category</th>\n",
       "      <th>fandom</th>\n",
       "      <th>relationship</th>\n",
       "      <th>character</th>\n",
       "      <th>additional tags</th>\n",
       "      <th>language</th>\n",
       "      <th>...</th>\n",
       "      <th>status</th>\n",
       "      <th>status date</th>\n",
       "      <th>words</th>\n",
       "      <th>chapters</th>\n",
       "      <th>comments</th>\n",
       "      <th>kudos</th>\n",
       "      <th>bookmarks</th>\n",
       "      <th>hits</th>\n",
       "      <th>body</th>\n",
       "      <th>month</th>\n",
       "    </tr>\n",
       "  </thead>\n",
       "  <tbody>\n",
       "    <tr>\n",
       "      <th>0</th>\n",
       "      <td>0</td>\n",
       "      <td>6388009</td>\n",
       "      <td>A More Perfect Union</td>\n",
       "      <td>General Audiences</td>\n",
       "      <td>Gen</td>\n",
       "      <td>Avatar: Legend of Korra</td>\n",
       "      <td>NaN</td>\n",
       "      <td>Noatak (Avatar), Tarrlok (Avatar), Amon (Avatar)</td>\n",
       "      <td>Alternate Universe</td>\n",
       "      <td>English</td>\n",
       "      <td>...</td>\n",
       "      <td>Updated</td>\n",
       "      <td>2018-03-14</td>\n",
       "      <td>8139</td>\n",
       "      <td>4/?</td>\n",
       "      <td>11</td>\n",
       "      <td>27</td>\n",
       "      <td>4</td>\n",
       "      <td>286</td>\n",
       "      <td>He's forgotten how to be warm. The thought wou...</td>\n",
       "      <td>2016-03</td>\n",
       "    </tr>\n",
       "  </tbody>\n",
       "</table>\n",
       "<p>1 rows × 21 columns</p>\n",
       "</div>"
      ],
      "text/plain": [
       "   Unnamed: 0  work_id                 title             rating category  \\\n",
       "0           0  6388009  A More Perfect Union  General Audiences      Gen   \n",
       "\n",
       "                    fandom relationship  \\\n",
       "0  Avatar: Legend of Korra          NaN   \n",
       "\n",
       "                                          character     additional tags  \\\n",
       "0  Noatak (Avatar), Tarrlok (Avatar), Amon (Avatar)  Alternate Universe   \n",
       "\n",
       "  language   ...      status status date words  chapters comments kudos  \\\n",
       "0  English   ...     Updated  2018-03-14  8139       4/?       11    27   \n",
       "\n",
       "  bookmarks hits                                               body    month  \n",
       "0         4  286  He's forgotten how to be warm. The thought wou...  2016-03  \n",
       "\n",
       "[1 rows x 21 columns]"
      ]
     },
     "execution_count": 2,
     "metadata": {},
     "output_type": "execute_result"
    }
   ],
   "source": [
    "#I am not saving the data in this GitHub folder\n",
    "allkorra = pd.read_csv('../../../data/korra/korra2018/allkorra.csv')\n",
    "\n",
    "#providing a preview of the data. \n",
    "allkorra.head(1)"
   ]
  },
  {
   "cell_type": "markdown",
   "metadata": {},
   "source": [
    "## Create a \"Month\" Column\n",
    "\n",
    "First, I will create a \"month\" column using the above dataset (the dataset already has a \"month\" column because I did this previously). I use a regular expression to first replace all the empty columns in the body column, then I use another regular expression to take the published dates and use them to create the months data."
   ]
  },
  {
   "cell_type": "code",
   "execution_count": 3,
   "metadata": {
    "collapsed": true
   },
   "outputs": [],
   "source": [
    "allkorra['body'] = allkorra['body'].replace(np.nan,'',regex=True) \n",
    "#because some of the \"body\" values are blank, this will replace them with empty strings\n",
    "\n",
    "allkorra['body'] = (allkorra['body'] + ' ')\n",
    "#add space at the end so when I concatinate the body it works\n",
    "\n",
    "allkorra['body'] = allkorra['body'].replace('\\r',' ',regex=True)\n",
    "#removing the the \"empty\" body columns"
   ]
  },
  {
   "cell_type": "code",
   "execution_count": 4,
   "metadata": {},
   "outputs": [
    {
     "name": "stdout",
     "output_type": "stream",
     "text": [
      "0    2016-03\n",
      "1    2018-03\n",
      "2    2018-02\n",
      "3    2018-03\n",
      "4    2015-02\n",
      "5    2017-10\n",
      "6    2018-03\n",
      "7    2017-12\n",
      "8    2017-08\n",
      "9    2018-03\n",
      "Name: month, dtype: object\n"
     ]
    }
   ],
   "source": [
    "#using a regular expression to create a \"month\" column\n",
    "allkorra['month'] = allkorra['published'].replace('(\\d{4})(\\-)(\\d{2})(\\-)(\\d{2})','\\g<1>\\g<2>\\g<3>', regex=True)\n",
    "\n",
    "#to show what the new month columns look like\n",
    "print(allkorra['month'].head(10))"
   ]
  },
  {
   "cell_type": "code",
   "execution_count": 5,
   "metadata": {},
   "outputs": [
    {
     "name": "stdout",
     "output_type": "stream",
     "text": [
      "2015-01    400\n",
      "2014-12    359\n",
      "2015-02    311\n",
      "2015-03    236\n",
      "2014-10    225\n",
      "2015-06    221\n",
      "2015-08    201\n",
      "2015-04    201\n",
      "2015-05    197\n",
      "2012-06    197\n",
      "Name: month, dtype: int64\n"
     ]
    },
    {
     "data": {
      "image/png": "[encoded data removed]",
      "text/plain": [
       "<matplotlib.figure.Figure at 0x1163c3748>"
      ]
     },
     "metadata": {},
     "output_type": "display_data"
    }
   ],
   "source": [
    "#creating a visualization of the most popular published months\n",
    "\n",
    "monthcount = allkorra['month'].value_counts().head(10)\n",
    "print(monthcount)\n",
    "\n",
    "monthCountGraph = monthcount.plot.bar()\n",
    "monthCountGraph = plt.title('Highest Months of New TLOK Fanfics')\n",
    "monthCountGraph = plt.xlabel('Month and Year')\n",
    "monthCountGraph = plt.xlabel('Month and Year')"
   ]
  },
  {
   "cell_type": "markdown",
   "metadata": {},
   "source": [
    "## Couting Relationship Tags\n",
    "\n",
    "This next section will take the dataframe & group it by the 'month' column. Then I have created a function that will take the relationship tags (which are phrased as characterA/characterB, characterA/characterB, etc in the data) and count the most common relationships to then output it as the most common relationship tags used. "
   ]
  },
  {
   "cell_type": "code",
   "execution_count": 36,
   "metadata": {},
   "outputs": [
    {
     "data": {
      "text/plain": [
       "month                   \n",
       "2011-02  Unnamed: 0                                                      7485\n",
       "         work_id                                                       165877\n",
       "         title                                        Kato of the Fire Nation\n",
       "         rating                                                    Not Rated,\n",
       "         category                                                       Multi\n",
       "         fandom             Avatar: The Last Airbender, Avatar: Legend of ...\n",
       "         relationship       Mai/Zuko (Avatar), Sokka/Suki (Avatar), Aang (...\n",
       "         character          Zuko (Avatar), Mai (Avatar), Sokka (Avatar), S...\n",
       "         additional tags                      Original Characters - Freeform,\n",
       "         language                                                     English\n",
       "dtype: object"
      ]
     },
     "execution_count": 36,
     "metadata": {},
     "output_type": "execute_result"
    }
   ],
   "source": [
    "#because some of the \"body\" values are blank, this will replace them with empty strings\n",
    "allkorra['body'] = allkorra['body'].replace(np.nan,'',regex=True) \n",
    "allkorra['rating'] = allkorra['rating'].replace(np.nan,'',regex=True) \n",
    "allkorra['relationship'] = allkorra['relationship'].replace(np.nan,'',regex=True) \n",
    "allkorra['additional tags'] = allkorra['additional tags'].replace(np.nan,'',regex=True) \n",
    "\n",
    "\n",
    "#add space at the end of important metadata so when I concatinate the body it works\n",
    "allkorra['body'] = (allkorra['body'] + ' ')\n",
    "allkorra['rating'] = (allkorra['rating'] + ',')\n",
    "allkorra['relationship'] = (allkorra['relationship'] + ',')\n",
    "allkorra['additional tags'] = (allkorra['additional tags'] + ',')\n",
    "\n",
    "#finally, group by month\n",
    "month_group = allkorra.groupby('month').apply(lambda x: x.sum())\n",
    "month_group.head(10)"
   ]
  },
  {
   "cell_type": "code",
   "execution_count": 66,
   "metadata": {
    "collapsed": true
   },
   "outputs": [],
   "source": [
    "def TagsAnalyzer(month, metadata):\n",
    "    '''\n",
    "    input: the index month+year, such as '2012-04', and the specific metadata, such as 'additional tags'\n",
    "    output: a tupple of the count of tags in a specific month/year\n",
    "    \n",
    "    load in the proper data into a string'''\n",
    "    tags = month_group.loc[month, metadata]\n",
    "    \n",
    "    #clean the string, particularly for the Romance tags that are super messy otherwise\n",
    "    tags_clean1 = re.sub(r'(,)([A-z])',r'\\1 \\2',tags)\n",
    "    tags_clean2 = re.sub(r'(,)([^ ]+)',r'\\1',tags_clean1)\n",
    "    \n",
    "    #the function to tokenize, or put each value as an element in a list\n",
    "    class CommaPoint(PunktLanguageVars):\n",
    "        sent_end_chars = (',') \n",
    "    tokenizer = PunktSentenceTokenizer(lang_vars = CommaPoint())\n",
    "    \n",
    "    #making \"test\" from a string to a list\n",
    "    ListOfTags = tokenizer.tokenize(tags_clean2)\n",
    "    \n",
    "    #the \"Counter\" function is from the collections library\n",
    "    allCounter=collections.Counter(ListOfTags)\n",
    "    \n",
    "    return allCounter.most_common(30)"
   ]
  },
  {
   "cell_type": "markdown",
   "metadata": {},
   "source": [
    "## Around Mako and Korra's First Kiss"
   ]
  },
  {
   "cell_type": "code",
   "execution_count": 77,
   "metadata": {},
   "outputs": [],
   "source": [
    "april2012R = TagsAnalyzer('2012-04','relationship')\n",
    "may2012R = TagsAnalyzer('2012-05','relationship')\n",
    "june2012R = TagsAnalyzer('2012-06','relationship')"
   ]
  },
  {
   "cell_type": "code",
   "execution_count": 78,
   "metadata": {},
   "outputs": [
    {
     "data": {
      "text/plain": [
       "[('Korra/Mako (Avatar),', 29),\n",
       " ('Bolin/Jinora,', 7),\n",
       " ('Korra & Tenzin (Avatar),', 4),\n",
       " ('Aang/Katara (Avatar),', 3),\n",
       " ('Korra/Asami,', 3),\n",
       " ('Bolin/Korra (Avatar),', 3),\n",
       " ('Bolin/Korra/Mako (Avatar),', 3),\n",
       " ('Bolin & Mako (Avatar),', 2),\n",
       " ('Pema/Tenzin (Avatar),', 2),\n",
       " ('Korra/Asami Sato,', 2),\n",
       " ('Korra/Lin,', 2),\n",
       " (',', 1),\n",
       " ('John Egbert/Karkat Vantas,', 1),\n",
       " ('Sollux Captor/Jade Harley,', 1),\n",
       " ('Korra & Bolin,', 1),\n",
       " ('Toph Bei Fong/Iroh,', 1),\n",
       " ('Kozin,', 1),\n",
       " ('Korra and Senna (Avatar),', 1),\n",
       " ('Korra and Tonraq (Avatar),', 1),\n",
       " ('Korra and parents,', 1),\n",
       " ('Mako/Asami,', 1),\n",
       " ('Asami Sato/Mako,', 1),\n",
       " ('Mako/Asami Sato,', 1),\n",
       " ('Azula/Toph Bei Fong,', 1),\n",
       " ('Mako/Scarfy,', 1),\n",
       " ('Katara/Zuko (Avatar),', 1),\n",
       " ('Mai/Zuko (Avatar),', 1),\n",
       " ('Asami Sato/Amon,', 1),\n",
       " ('Bolin/Mako,', 1),\n",
       " ('Minor or Background Relationship(s),', 1)]"
      ]
     },
     "execution_count": 78,
     "metadata": {},
     "output_type": "execute_result"
    }
   ],
   "source": [
    "april2012R"
   ]
  },
  {
   "cell_type": "code",
   "execution_count": 79,
   "metadata": {},
   "outputs": [
    {
     "data": {
      "text/plain": [
       "[('Tahno/Korra,', 29),\n",
       " ('Korra/Mako (Avatar),', 27),\n",
       " ('Bolin/Korra/Mako (Avatar),', 7),\n",
       " ('Bolin/Korra,', 4),\n",
       " ('Bolin/Mako,', 4),\n",
       " ('Korra/Asami Sato,', 3),\n",
       " ('Mako/Asami,', 3),\n",
       " ('Korra/Tahno,', 3),\n",
       " ('Korra/Lin Beifong,', 3),\n",
       " ('Korra/Tahno (Avatar),', 3),\n",
       " ('Pema/Tenzin (Avatar),', 3),\n",
       " ('Tenzin/Lin Bei Fong,', 3),\n",
       " ('Korra/Lin Bei Fong,', 2),\n",
       " ('Senna/Tonraq,', 2),\n",
       " ('Korra/Asami,', 2),\n",
       " ('Tahorra,', 2),\n",
       " ('Asami/Mako,', 2),\n",
       " ('Mako/Asami Sato,', 2),\n",
       " ('Bolin/Korra (Avatar),', 2),\n",
       " ('Blaine Anderson/Kurt Hummel,', 1),\n",
       " ('Lin Bei Fong &; Bolin,', 1),\n",
       " ('Mako/Original Female Character,', 1),\n",
       " ('Bolin & Mako (Avatar),', 1),\n",
       " ('Mako/Korra,', 1),\n",
       " ('Bolin/Asami Sato,', 1),\n",
       " ('Tahno/Mako,', 1),\n",
       " ('Lin Bei Fong & Korra,', 1),\n",
       " ('Korra.Mako,', 1),\n",
       " ('Korra/Tarrlok (Avatar),', 1),\n",
       " ('light Tahorra,', 1)]"
      ]
     },
     "execution_count": 79,
     "metadata": {},
     "output_type": "execute_result"
    }
   ],
   "source": [
    "may2012R"
   ]
  },
  {
   "cell_type": "code",
   "execution_count": 80,
   "metadata": {},
   "outputs": [
    {
     "data": {
      "text/plain": [
       "[('Korra/Mako (Avatar),', 21),\n",
       " ('Mako/Asami,', 6),\n",
       " ('Pema/Tenzin (Avatar),', 6),\n",
       " ('Korra/Asami,', 5),\n",
       " ('Lin/Tenzin,', 5),\n",
       " ('Amon/Lieutenant (Avatar),', 5),\n",
       " ('Bolin/Korra (Avatar),', 5),\n",
       " ('Korra/Lin Beifong,', 4),\n",
       " ('Amon/Lieutenant,', 4),\n",
       " ('Jinora/Skoochy,', 3),\n",
       " ('Iroh II/Bolin,', 3),\n",
       " ('Asami Sato/Korra,', 3),\n",
       " ('Tahno/Korra,', 3),\n",
       " ('Toph Bei Fong/Sokka (Avatar),', 3),\n",
       " ('Bolin/Korra,', 3),\n",
       " ('Korra/Asami Sato,', 3),\n",
       " ('Korra/Tahno,', 3),\n",
       " ('Lin Bei Fong/Tenzin,', 2),\n",
       " ('Asami Sato/Mako,', 2),\n",
       " ('masami (Legend of Korra),', 2),\n",
       " ('Mako/Korra,', 2),\n",
       " ('Iroh/Asami,', 2),\n",
       " ('Aang/Katara (Avatar),', 2),\n",
       " ('Amon/Korra,', 2),\n",
       " ('Amon/Tahno,', 2),\n",
       " ('Lin Beifong/Tenzin,', 2),\n",
       " ('Korra/Tahno (Avatar),', 2),\n",
       " ('Hiroshi Sato/Lieutenant,', 2),\n",
       " ('Friendship - Relationship,', 2),\n",
       " ('Asami/Mako,', 2)]"
      ]
     },
     "execution_count": 80,
     "metadata": {},
     "output_type": "execute_result"
    }
   ],
   "source": [
    "june2012R"
   ]
  },
  {
   "cell_type": "markdown",
   "metadata": {},
   "source": [
    "### Hints of Korra and Asami's Budding Relationship"
   ]
  },
  {
   "cell_type": "code",
   "execution_count": 81,
   "metadata": {
    "collapsed": true
   },
   "outputs": [],
   "source": [
    "aug20142R = TagsAnalyzer('2014-08','relationship')\n",
    "sep2014R = TagsAnalyzer('2014-09','relationship')\n",
    "oct2014R = TagsAnalyzer('2014-10','relationship')"
   ]
  },
  {
   "cell_type": "code",
   "execution_count": 82,
   "metadata": {},
   "outputs": [
    {
     "data": {
      "text/plain": [
       "[('Korra/Asami Sato,', 19),\n",
       " ('Korra/Mako (Avatar),', 11),\n",
       " ('Korra/Tahno (Avatar),', 3),\n",
       " ('Jinora/Kai,', 3),\n",
       " ('Amon/Lieutenant (Avatar),', 3),\n",
       " ('Bolin/Kai,', 2),\n",
       " ('Kainora,', 2),\n",
       " ('Lin Bei Fong/Korra,', 2),\n",
       " ('Ming/Shaozu/Tahno (Avatar),', 2),\n",
       " ('Bolin/Korra (Avatar),', 2),\n",
       " ('Aang/Katara (Avatar),', 2),\n",
       " ('Toph Bei Fong/Sokka (Avatar),', 2),\n",
       " ('Varrick/Zhu Li Moon,', 1),\n",
       " ('OC - Relationship,', 1),\n",
       " ('Avatar - Relationship,', 1),\n",
       " ('Adventure - Relationship,', 1),\n",
       " ('a bit of past makorra,', 1),\n",
       " ('possible future makorra,', 1),\n",
       " ('one-sided makorra,', 1),\n",
       " ('irrosami,', 1),\n",
       " ('Bolin & Kai,', 1),\n",
       " ('Kai/Bolin,', 1),\n",
       " ('Kai & Bolin,', 1),\n",
       " ('kaixbolin,', 1),\n",
       " ('bolinxkai - Relationship,', 1),\n",
       " ('Lin Bei Fong/Tenzin,', 1),\n",
       " (\"don't worry he's older,\", 1),\n",
       " ('Korrasami,', 1),\n",
       " ('Korra & Asami Sato,', 1),\n",
       " ('Varrick & Zhu Li Moon,', 1)]"
      ]
     },
     "execution_count": 82,
     "metadata": {},
     "output_type": "execute_result"
    }
   ],
   "source": [
    "aug20142R"
   ]
  },
  {
   "cell_type": "code",
   "execution_count": 83,
   "metadata": {},
   "outputs": [
    {
     "data": {
      "text/plain": [
       "[('Korra/Asami Sato,', 54),\n",
       " ('Korra/Mako (Avatar),', 12),\n",
       " ('Amon/Korra (Avatar),', 7),\n",
       " ('Amon | Noatak/Korra,', 7),\n",
       " ('Lin Bei Fong/Tenzin,', 6),\n",
       " ('Lin Bei Fong/Kya II,', 3),\n",
       " ('Aang/Katara (Avatar),', 2),\n",
       " ('Pema/Tenzin (Avatar),', 2),\n",
       " ('Mako/Asami Sato,', 2),\n",
       " ('Korrasami,', 2),\n",
       " ('Lin Bei Fong & Tenzin,', 2),\n",
       " ('Toph Bei Fong/Sokka (Avatar),', 1),\n",
       " ('Noatak/Tarrlok (Avatar),', 1),\n",
       " ('Amon | Noatak/Tarrlok,', 1),\n",
       " ('Noatak & Tarrlok,', 1),\n",
       " (\"Yakone/Yakone's Wife,\", 1),\n",
       " ('OC/Amon,', 1),\n",
       " ('Ming-Hua/Ghazan,', 1),\n",
       " (\"P'li/Zaheer,\", 1),\n",
       " ('Masami - Relationship,', 1),\n",
       " ('Bolin/Asami Sato,', 1),\n",
       " ('Ghazan/Ming Hua,', 1),\n",
       " ('Lin Bei Fong/Aiwei,', 1),\n",
       " ('Varrick/Zhu Li,', 1),\n",
       " ('Shady Shin/Original Female Character(s),', 1),\n",
       " ('Toph/Awesomeness,', 1),\n",
       " ('Toph/OMC,', 1),\n",
       " ('Mai/Zuko (Avatar),', 1),\n",
       " ('Senna/Tonraq (Avatar),', 1),\n",
       " ('Aerith Gainsborough/Cloud Strife,', 1)]"
      ]
     },
     "execution_count": 83,
     "metadata": {},
     "output_type": "execute_result"
    }
   ],
   "source": [
    "sep2014R"
   ]
  },
  {
   "cell_type": "code",
   "execution_count": 84,
   "metadata": {},
   "outputs": [
    {
     "data": {
      "text/plain": [
       "[('Korra/Asami Sato,', 117),\n",
       " ('Mako/Prince Wu,', 15),\n",
       " ('Mako/Wu (Avatar),', 9),\n",
       " ('Korra/Mako (Avatar),', 8),\n",
       " ('Wuko - Relationship,', 7),\n",
       " ('Amon/Korra (Avatar),', 6),\n",
       " ('Amon | Noatak/Korra,', 4),\n",
       " ('Pema/Tenzin (Avatar),', 3),\n",
       " ('Suyin Beifong/Kuvira,', 3),\n",
       " ('Mako/Asami Sato,', 3),\n",
       " ('Korrasami,', 3),\n",
       " ('Katara/Zuko (Avatar),', 2),\n",
       " ('Bolin/Opal,', 2),\n",
       " ('Bolin & Mako (Avatar),', 2),\n",
       " ('Korra/Tahno (Avatar),', 2),\n",
       " ('Lin Bei Fong/Kya II,', 2),\n",
       " ('Aang/Katara (Avatar),', 2),\n",
       " (\"Zaheer/P'li,\", 2),\n",
       " ('Amon/Lieutenant (Avatar),', 2),\n",
       " ('Zutara - Relationship,', 1),\n",
       " ('Kya II/Original Character,', 1),\n",
       " ('Iroh II/Original Character,', 1),\n",
       " ('Tyler Oakley/Troye Sivan,', 1),\n",
       " ('Derek Hale/Stiles Stilinski,', 1),\n",
       " ('Hazel Grace Lancaster/Augustus Waters,', 1),\n",
       " ('Merlin/Arthur Pendragon,', 1),\n",
       " ('Elena Gilbert/Damon Salvatore,', 1),\n",
       " ('Kickthestickz - Relationship,', 1),\n",
       " ('Jack Harkness & Ianto Jones,', 1),\n",
       " ('Erik Lehnsherr/Charles Xavier,', 1)]"
      ]
     },
     "execution_count": 84,
     "metadata": {},
     "output_type": "execute_result"
    }
   ],
   "source": [
    "oct2014R"
   ]
  },
  {
   "cell_type": "markdown",
   "metadata": {},
   "source": [
    "### Korrasami Confirmed Canon\n"
   ]
  },
  {
   "cell_type": "code",
   "execution_count": 73,
   "metadata": {
    "collapsed": true
   },
   "outputs": [],
   "source": [
    "nov20142R = TagsAnalyzer('2014-11','relationship')\n",
    "dec2014R = TagsAnalyzer('2014-12','relationship')\n",
    "jan2015R = TagsAnalyzer('2015-01','relationship')"
   ]
  },
  {
   "cell_type": "code",
   "execution_count": 74,
   "metadata": {},
   "outputs": [
    {
     "data": {
      "text/plain": [
       "[('Korra/Asami Sato,', 62),\n",
       " ('Varrick/Zhu Li,', 16),\n",
       " ('Korra/Mako (Avatar),', 9),\n",
       " ('Bolin/Iroh II (Avatar),', 5),\n",
       " ('Korra/Kuvira,', 5),\n",
       " ('Suyin Beifong/Kuvira,', 3),\n",
       " ('Aang/Katara (Avatar),', 3),\n",
       " ('Lin Bei Fong/Tenzin,', 3),\n",
       " ('Mako/Prince Wu,', 3),\n",
       " ('Broh - Relationship,', 3),\n",
       " ('Lin Bei Fong/Korra,', 2),\n",
       " ('Korra & Asami Sato,', 2),\n",
       " ('Mako/Asami Sato,', 2),\n",
       " ('Bolin/Original Female Character,', 2),\n",
       " ('past korra/mako,', 2),\n",
       " ('Bolin & Mako (Avatar),', 2),\n",
       " ('Zhurrick - Relationship,', 2),\n",
       " ('Amon/Korra (Avatar),', 2),\n",
       " ('Kuvira/Suyin Beifong,', 2),\n",
       " ('Kuvira/Lin Beifong,', 2),\n",
       " ('One-Sided - Relationship,', 2),\n",
       " ('Kaiou Michiru/Tenoh Haruka,', 1),\n",
       " ('Meiou Setsuna/Tomoe Hotaru,', 1),\n",
       " ('Chiba Mamoru/Tsukino Usagi,', 1),\n",
       " ('Aino Minako/Hino Rei,', 1),\n",
       " ('Kino Makoto/Mizuno Ami,', 1),\n",
       " ('Kunzite/Zoisite,', 1),\n",
       " ('Jadeite/Nephrite,', 1),\n",
       " ('Rule 63 Korra/Opal,', 1),\n",
       " ('Korro/Opal,', 1)]"
      ]
     },
     "execution_count": 74,
     "metadata": {},
     "output_type": "execute_result"
    }
   ],
   "source": [
    "nov20142R"
   ]
  },
  {
   "cell_type": "code",
   "execution_count": 75,
   "metadata": {},
   "outputs": [
    {
     "data": {
      "text/plain": [
       "[('Korra/Asami Sato,', 217),\n",
       " ('Korra/Mako (Avatar),', 22),\n",
       " ('Bolin/Opal,', 13),\n",
       " ('Varrick/Zhu Li,', 13),\n",
       " ('Jinora/Kai,', 10),\n",
       " ('Korrasami,', 8),\n",
       " ('Korra/Kuvira,', 7),\n",
       " ('Korra & Asami Sato,', 7),\n",
       " ('Lin Bei Fong/Tenzin,', 6),\n",
       " ('Makorra - Relationship,', 6),\n",
       " ('Suyin Beifong/Kuvira,', 5),\n",
       " ('Mako/Prince Wu,', 5),\n",
       " ('Pema/Tenzin (Avatar),', 5),\n",
       " ('Mako/Asami Sato,', 4),\n",
       " ('Lin Bei Fong/Kya II,', 4),\n",
       " ('Mako/Wu,', 4),\n",
       " ('Kuvira/Lin Beifong,', 4),\n",
       " ('Mako and Korra,', 4),\n",
       " ('Azula/Ty Lee (Avatar),', 3),\n",
       " ('Bolin/Wei Beifong,', 3),\n",
       " ('Lin Bei Fong & Toph Bei Fong,', 3),\n",
       " ('Kai/Jinora,', 3),\n",
       " ('Korra/Tarrlok (Avatar),', 3),\n",
       " ('Korra & Tonraq (Avatar),', 2),\n",
       " ('Senna/Tonraq (Avatar),', 2),\n",
       " ('Bopal,', 2),\n",
       " ('Bolin/Iroh II (Avatar),', 2),\n",
       " ('Korra - Relationship,', 2),\n",
       " ('Baatar Jr./Kuvira,', 2),\n",
       " ('Weilin,', 2)]"
      ]
     },
     "execution_count": 75,
     "metadata": {},
     "output_type": "execute_result"
    }
   ],
   "source": [
    "dec2014R"
   ]
  },
  {
   "cell_type": "code",
   "execution_count": 76,
   "metadata": {},
   "outputs": [
    {
     "data": {
      "text/plain": [
       "[('Korra/Asami Sato,', 230),\n",
       " ('Korra/Mako (Avatar),', 22),\n",
       " ('Baatar Jr./Kuvira (Avatar),', 16),\n",
       " ('Korrasami,', 15),\n",
       " ('Aang/Katara (Avatar),', 12),\n",
       " ('Korra/Kuvira,', 12),\n",
       " ('Bolin/Opal (Avatar),', 11),\n",
       " ('Lin Bei Fong & Toph Bei Fong,', 10),\n",
       " ('Bolin/Opal,', 9),\n",
       " ('Varrick/Zhu Li,', 9),\n",
       " ('korvira - Relationship,', 8),\n",
       " ('kuvorra,', 7),\n",
       " ('Ambiguous or Implied Relationship(s),', 7),\n",
       " ('Korra & Asami Sato,', 5),\n",
       " ('Kovira,', 5),\n",
       " ('Bolin/Iroh II (Avatar),', 4),\n",
       " ('Kuvira/Korra,', 4),\n",
       " ('Baatar Jr./Kuvira,', 4),\n",
       " ('Lin Bei Fong/Tenzin,', 3),\n",
       " ('Jinora/Kai (Avatar),', 3),\n",
       " ('Makorra - Relationship,', 3),\n",
       " ('Mako/Prince Wu (Avatar),', 3),\n",
       " ('Lin Bei Fong/Kya II,', 3),\n",
       " ('Kuvira/Suyin Beifong,', 2),\n",
       " ('Mako/Asami Sato,', 2),\n",
       " ('Sokka/Suki (Avatar),', 2),\n",
       " ('Varrick/Zhu Li Moon,', 2),\n",
       " ('Korra/Tarrlok (Avatar),', 2),\n",
       " ('Bolin/Korra (Avatar),', 2),\n",
       " ('Ikki & Jinora (Avatar),', 2)]"
      ]
     },
     "execution_count": 76,
     "metadata": {},
     "output_type": "execute_result"
    }
   ],
   "source": [
    "jan2015R"
   ]
  }
 ],
 "metadata": {
  "kernelspec": {
   "display_name": "Python 3",
   "language": "python",
   "name": "python3"
  },
  "language_info": {
   "codemirror_mode": {
    "name": "ipython",
    "version": 3
   },
   "file_extension": ".py",
   "mimetype": "text/x-python",
   "name": "python",
   "nbconvert_exporter": "python",
   "pygments_lexer": "ipython3",
   "version": "3.7.7"
  }
 },
 "nbformat": 4,
 "nbformat_minor": 2
}
